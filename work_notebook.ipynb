{
 "cells": [
  {
   "cell_type": "markdown",
   "id": "02554164",
   "metadata": {
    "toc": true
   },
   "source": [
    "<h1>Содержание:<span class=\"tocSkip\"></span></h1>\n",
    "<div class=\"toc\"><ul class=\"toc-item\"><li><span><a href=\"#Описание-работы\" data-toc-modified-id=\"Описание-работы-1\"><span class=\"toc-item-num\">1&nbsp;&nbsp;</span>Описание работы</a></span></li><li><span><a href=\"#Загрузка-необходимых-библиотек\" data-toc-modified-id=\"Загрузка-необходимых-библиотек-2\"><span class=\"toc-item-num\">2&nbsp;&nbsp;</span>Загрузка необходимых библиотек</a></span></li><li><span><a href=\"#Загрузка,-анализ-и-предобработка-данных\" data-toc-modified-id=\"Загрузка,-анализ-и-предобработка-данных-3\"><span class=\"toc-item-num\">3&nbsp;&nbsp;</span>Загрузка, анализ и предобработка данных</a></span><ul class=\"toc-item\"><li><span><a href=\"#Загрузка-excel-данных\" data-toc-modified-id=\"Загрузка-excel-данных-3.1\"><span class=\"toc-item-num\">3.1&nbsp;&nbsp;</span>Загрузка excel данных</a></span></li><li><span><a href=\"#Обработка-целевых-меток\" data-toc-modified-id=\"Обработка-целевых-меток-3.2\"><span class=\"toc-item-num\">3.2&nbsp;&nbsp;</span>Обработка целевых меток</a></span></li><li><span><a href=\"#Обработка-дубликатов\" data-toc-modified-id=\"Обработка-дубликатов-3.3\"><span class=\"toc-item-num\">3.3&nbsp;&nbsp;</span>Обработка дубликатов</a></span></li><li><span><a href=\"#Загрузка-субтитров-и-словаря\" data-toc-modified-id=\"Загрузка-субтитров-и-словаря-3.4\"><span class=\"toc-item-num\">3.4&nbsp;&nbsp;</span>Загрузка субтитров и словаря</a></span></li><li><span><a href=\"#Обработка-пропусков\" data-toc-modified-id=\"Обработка-пропусков-3.5\"><span class=\"toc-item-num\">3.5&nbsp;&nbsp;</span>Обработка пропусков</a></span></li><li><span><a href=\"#Оценка-дисбаланса-классов\" data-toc-modified-id=\"Оценка-дисбаланса-классов-3.6\"><span class=\"toc-item-num\">3.6&nbsp;&nbsp;</span>Оценка дисбаланса классов</a></span></li></ul></li><li><span><a href=\"#Препроцессинг-данных\" data-toc-modified-id=\"Препроцессинг-данных-4\"><span class=\"toc-item-num\">4&nbsp;&nbsp;</span>Препроцессинг данных</a></span><ul class=\"toc-item\"><li><span><a href=\"#Разбивка-данных-на-обучающую-и-тестовую-выборки\" data-toc-modified-id=\"Разбивка-данных-на-обучающую-и-тестовую-выборки-4.1\"><span class=\"toc-item-num\">4.1&nbsp;&nbsp;</span>Разбивка данных на обучающую и тестовую выборки</a></span></li><li><span><a href=\"#Векторизация\" data-toc-modified-id=\"Векторизация-4.2\"><span class=\"toc-item-num\">4.2&nbsp;&nbsp;</span>Векторизация</a></span></li></ul></li><li><span><a href=\"#Обучение-модели-MultinomialNB\" data-toc-modified-id=\"Обучение-модели-MultinomialNB-5\"><span class=\"toc-item-num\">5&nbsp;&nbsp;</span>Обучение модели MultinomialNB</a></span><ul class=\"toc-item\"><li><span><a href=\"#Выбор-метрики-качества\" data-toc-modified-id=\"Выбор-метрики-качества-5.1\"><span class=\"toc-item-num\">5.1&nbsp;&nbsp;</span>Выбор метрики качества</a></span></li><li><span><a href=\"#Построение-pipiline-и-обучение\" data-toc-modified-id=\"Построение-pipiline-и-обучение-5.2\"><span class=\"toc-item-num\">5.2&nbsp;&nbsp;</span>Построение pipiline и обучение</a></span></li><li><span><a href=\"#Оценка-модели-на-тестовой-(отложенной)-выборке\" data-toc-modified-id=\"Оценка-модели-на-тестовой-(отложенной)-выборке-5.3\"><span class=\"toc-item-num\">5.3&nbsp;&nbsp;</span>Оценка модели на тестовой (отложенной) выборке</a></span></li><li><span><a href=\"#Выводы-по-результатам-работы-модели\" data-toc-modified-id=\"Выводы-по-результатам-работы-модели-5.4\"><span class=\"toc-item-num\">5.4&nbsp;&nbsp;</span>Выводы по результатам работы модели</a></span></li><li><span><a href=\"#Обучение-модели-MultinomialNB-на-всех-данных.-Сохранение-модели.\" data-toc-modified-id=\"Обучение-модели-MultinomialNB-на-всех-данных.-Сохранение-модели.-5.5\"><span class=\"toc-item-num\">5.5&nbsp;&nbsp;</span>Обучение модели MultinomialNB на всех данных. Сохранение модели.</a></span></li></ul></li><li><span><a href=\"#Выводы-и-рекомендации\" data-toc-modified-id=\"Выводы-и-рекомендации-6\"><span class=\"toc-item-num\">6&nbsp;&nbsp;</span>Выводы и рекомендации</a></span></li></ul></div>"
   ]
  },
  {
   "cell_type": "markdown",
   "id": "1be81067",
   "metadata": {},
   "source": [
    "## Описание работы"
   ]
  },
  {
   "cell_type": "markdown",
   "id": "83e7e1ce",
   "metadata": {},
   "source": [
    "**Проект**:\n",
    "\n",
    "Запрос сформирован тем, что просмотр фильмов на оригинальном языке - это популярный и действенный метод упражнений по изучению иностранных языков. Важно выбрать фильм, который подходит студенту по уровню сложности, т.е. студент понимал 50-70 % диалогов. Чтобы выполнить это условие, преподаватель должен посмотреть фильм и решить, какому уровню он соответствует. Однако это требует больших временных затрат.\n",
    "\n",
    "**Заказчику необходимо**: \n",
    "- разработать ML решение для автоматического определения уровня сложности англоязычных фильмов;\n",
    "- развернуть приложение для демонтрации работы ML решения (заказчик допустил возможность использваоние пакета **Streamlit**).\n",
    "\n",
    "**Исходные данные**: \n",
    "- размеченный датасет с названиями фильмов в формате *excel*, субтитрами и меткой уровня сложности языка **(A1/A2/B1/B2/C1/C2)**. Предварительно данные в таблице уже обработаны (добавлены недостающие фильмы);\n",
    "- файлы субтитров в формате *.srt*, отсортированные по каталогам в соответствии с уровнем сложности. Предварительно все субтитры были перенесены в общую папку для `'/Datasets/Subtitles'` загрузки;\n",
    "- словари *Oxford* (на 3000 и 5000 тыс.слов), в которых слова на английском сгруппированны по уровню сложности.\n",
    "\n",
    "**План работы**:\n",
    "- загрузка необходимых библиотек;\n",
    "- загрузка и ознакомление с данными;\n",
    "- предобработка данных (очистка от дубликатов, проверка наличия разметки для обучающих данных, определение исходного количества представленных данных, очитска текста субтитров, разбивка на обучающую и тестовую выборки);\n",
    "- препроцессинг данных (преобразование данных для обучения модели);\n",
    "- определение метрики качества;\n",
    "- обучение модели с побором гиперпараметров;\n",
    "- оценка модели на тестовой выборке;\n",
    "- развертывание модели для демонтрации работы с использованием библиотеки **Streamlit**;\n",
    "- рекомендации к улучшению проекта."
   ]
  },
  {
   "cell_type": "markdown",
   "id": "f2f32aae",
   "metadata": {},
   "source": [
    "## Загрузка необходимых библиотек"
   ]
  },
  {
   "cell_type": "code",
   "execution_count": 1,
   "id": "a1d9fa35",
   "metadata": {
    "scrolled": false,
    "ExecuteTime": {
     "end_time": "2023-07-24T10:31:29.712178900Z",
     "start_time": "2023-07-24T10:31:07.033088700Z"
    }
   },
   "outputs": [
    {
     "name": "stdout",
     "output_type": "stream",
     "text": [
      "Requirement already satisfied: pysrt in c:\\users\\izyab\\dataspellprojects\\venv\\lib\\site-packages (1.1.2)\n",
      "Requirement already satisfied: chardet in c:\\users\\izyab\\dataspellprojects\\venv\\lib\\site-packages (from pysrt) (5.1.0)\n",
      "Requirement already satisfied: spacy in c:\\users\\izyab\\dataspellprojects\\venv\\lib\\site-packages (3.6.0)\n",
      "Requirement already satisfied: spacy-legacy<3.1.0,>=3.0.11 in c:\\users\\izyab\\dataspellprojects\\venv\\lib\\site-packages (from spacy) (3.0.12)\n",
      "Requirement already satisfied: spacy-loggers<2.0.0,>=1.0.0 in c:\\users\\izyab\\dataspellprojects\\venv\\lib\\site-packages (from spacy) (1.0.4)\n",
      "Requirement already satisfied: murmurhash<1.1.0,>=0.28.0 in c:\\users\\izyab\\dataspellprojects\\venv\\lib\\site-packages (from spacy) (1.0.9)\n",
      "Requirement already satisfied: cymem<2.1.0,>=2.0.2 in c:\\users\\izyab\\dataspellprojects\\venv\\lib\\site-packages (from spacy) (2.0.7)\n",
      "Requirement already satisfied: preshed<3.1.0,>=3.0.2 in c:\\users\\izyab\\dataspellprojects\\venv\\lib\\site-packages (from spacy) (3.0.8)\n",
      "Requirement already satisfied: thinc<8.2.0,>=8.1.8 in c:\\users\\izyab\\dataspellprojects\\venv\\lib\\site-packages (from spacy) (8.1.10)\n",
      "Requirement already satisfied: wasabi<1.2.0,>=0.9.1 in c:\\users\\izyab\\dataspellprojects\\venv\\lib\\site-packages (from spacy) (1.1.2)\n",
      "Requirement already satisfied: srsly<3.0.0,>=2.4.3 in c:\\users\\izyab\\dataspellprojects\\venv\\lib\\site-packages (from spacy) (2.4.7)\n",
      "Requirement already satisfied: catalogue<2.1.0,>=2.0.6 in c:\\users\\izyab\\dataspellprojects\\venv\\lib\\site-packages (from spacy) (2.0.8)\n",
      "Requirement already satisfied: typer<0.10.0,>=0.3.0 in c:\\users\\izyab\\dataspellprojects\\venv\\lib\\site-packages (from spacy) (0.9.0)\n",
      "Requirement already satisfied: pathy>=0.10.0 in c:\\users\\izyab\\dataspellprojects\\venv\\lib\\site-packages (from spacy) (0.10.2)\n",
      "Requirement already satisfied: smart-open<7.0.0,>=5.2.1 in c:\\users\\izyab\\dataspellprojects\\venv\\lib\\site-packages (from spacy) (6.3.0)\n",
      "Requirement already satisfied: tqdm<5.0.0,>=4.38.0 in c:\\users\\izyab\\dataspellprojects\\venv\\lib\\site-packages (from spacy) (4.65.0)\n",
      "Requirement already satisfied: numpy>=1.15.0 in c:\\users\\izyab\\dataspellprojects\\venv\\lib\\site-packages (from spacy) (1.24.3)\n",
      "Requirement already satisfied: requests<3.0.0,>=2.13.0 in c:\\users\\izyab\\dataspellprojects\\venv\\lib\\site-packages (from spacy) (2.31.0)\n",
      "Requirement already satisfied: pydantic!=1.8,!=1.8.1,<1.11.0,>=1.7.4 in c:\\users\\izyab\\dataspellprojects\\venv\\lib\\site-packages (from spacy) (1.10.11)\n",
      "Requirement already satisfied: jinja2 in c:\\users\\izyab\\dataspellprojects\\venv\\lib\\site-packages (from spacy) (3.1.2)\n",
      "Requirement already satisfied: setuptools in c:\\users\\izyab\\dataspellprojects\\venv\\lib\\site-packages (from spacy) (65.5.1)\n",
      "Requirement already satisfied: packaging>=20.0 in c:\\users\\izyab\\dataspellprojects\\venv\\lib\\site-packages (from spacy) (23.1)\n",
      "Requirement already satisfied: langcodes<4.0.0,>=3.2.0 in c:\\users\\izyab\\dataspellprojects\\venv\\lib\\site-packages (from spacy) (3.3.0)\n",
      "Requirement already satisfied: typing-extensions>=4.2.0 in c:\\users\\izyab\\dataspellprojects\\venv\\lib\\site-packages (from pydantic!=1.8,!=1.8.1,<1.11.0,>=1.7.4->spacy) (4.5.0)\n",
      "Requirement already satisfied: charset-normalizer<4,>=2 in c:\\users\\izyab\\dataspellprojects\\venv\\lib\\site-packages (from requests<3.0.0,>=2.13.0->spacy) (3.2.0)\n",
      "Requirement already satisfied: idna<4,>=2.5 in c:\\users\\izyab\\dataspellprojects\\venv\\lib\\site-packages (from requests<3.0.0,>=2.13.0->spacy) (3.4)\n",
      "Requirement already satisfied: urllib3<3,>=1.21.1 in c:\\users\\izyab\\dataspellprojects\\venv\\lib\\site-packages (from requests<3.0.0,>=2.13.0->spacy) (1.26.16)\n",
      "Requirement already satisfied: certifi>=2017.4.17 in c:\\users\\izyab\\dataspellprojects\\venv\\lib\\site-packages (from requests<3.0.0,>=2.13.0->spacy) (2023.5.7)\n",
      "Requirement already satisfied: blis<0.8.0,>=0.7.8 in c:\\users\\izyab\\dataspellprojects\\venv\\lib\\site-packages (from thinc<8.2.0,>=8.1.8->spacy) (0.7.10)\n",
      "Requirement already satisfied: confection<1.0.0,>=0.0.1 in c:\\users\\izyab\\dataspellprojects\\venv\\lib\\site-packages (from thinc<8.2.0,>=8.1.8->spacy) (0.1.0)\n",
      "Requirement already satisfied: colorama in c:\\users\\izyab\\dataspellprojects\\venv\\lib\\site-packages (from tqdm<5.0.0,>=4.38.0->spacy) (0.4.6)\n",
      "Requirement already satisfied: click<9.0.0,>=7.1.1 in c:\\users\\izyab\\dataspellprojects\\venv\\lib\\site-packages (from typer<0.10.0,>=0.3.0->spacy) (8.1.6)\n",
      "Requirement already satisfied: MarkupSafe>=2.0 in c:\\users\\izyab\\dataspellprojects\\venv\\lib\\site-packages (from jinja2->spacy) (2.1.3)\n"
     ]
    }
   ],
   "source": [
    "# импортируем общие библиотеки\n",
    "import os\n",
    "import numpy as np               # version 1.21.1\n",
    "import pandas as pd              # version 1.2.4\n",
    "import pysrt                     # version 1.1.2\n",
    "import spacy                     # version 3.3.1\n",
    "import re                        \n",
    "from joblib import dump, load    # version 1.1.1\n",
    "import matplotlib.pyplot as plt  # version 3.3.4\n",
    "\n",
    "# импортируем библиотеки sklearn version 1.2.2\n",
    "from sklearn.datasets import load_files  \n",
    "from sklearn.model_selection import train_test_split\n",
    "from sklearn.feature_extraction.text import CountVectorizer\n",
    "from sklearn.pipeline import Pipeline\n",
    "from sklearn.naive_bayes import MultinomialNB\n",
    "from sklearn.model_selection import GridSearchCV\n",
    "from sklearn.metrics import classification_report, f1_score, confusion_matrix, ConfusionMatrixDisplay\n",
    "from sklearn.compose import ColumnTransformer"
   ]
  },
  {
   "cell_type": "markdown",
   "id": "67a1e7fd",
   "metadata": {},
   "source": [
    "## Загрузка, анализ и предобработка данных"
   ]
  },
  {
   "cell_type": "markdown",
   "id": "3fbf36bf",
   "metadata": {},
   "source": [
    "### Загрузка excel данных"
   ]
  },
  {
   "cell_type": "code",
   "execution_count": 2,
   "id": "b182d399",
   "metadata": {
    "ExecuteTime": {
     "end_time": "2023-07-24T10:31:29.717793600Z",
     "start_time": "2023-07-24T10:31:29.712178900Z"
    }
   },
   "outputs": [],
   "source": [
    "# сражу зададим константу случайного состояния для повторяемости результатов  \n",
    "RAND_ST = 777"
   ]
  },
  {
   "cell_type": "code",
   "execution_count": 3,
   "id": "c1a38a6a",
   "metadata": {
    "scrolled": false,
    "ExecuteTime": {
     "end_time": "2023-07-24T10:31:30.028682600Z",
     "start_time": "2023-07-24T10:31:29.717793600Z"
    }
   },
   "outputs": [
    {
     "data": {
      "text/plain": "                                      Movie   Level\nid                                                 \n0                 10_Cloverfield_lane(2016)      B1\n1          10_things_I_hate_about_you(1999)      B1\n2                      A_knights_tale(2001)      B2\n3                      A_star_is_born(2018)      B2\n4                             Aladdin(1992)  A2/A2+\n5               All_dogs_go_to_heaven(1989)  A2/A2+\n118                AmericanBeauty1999.BRRip      B1\n6                    An_American_tail(1986)  A2/A2+\n134  Angela's.Christmas.2018.WEBRip.Netflix      B2\n119             Angelas.Christmas.Wish.2020      B1",
      "text/html": "<div>\n<style scoped>\n    .dataframe tbody tr th:only-of-type {\n        vertical-align: middle;\n    }\n\n    .dataframe tbody tr th {\n        vertical-align: top;\n    }\n\n    .dataframe thead th {\n        text-align: right;\n    }\n</style>\n<table border=\"1\" class=\"dataframe\">\n  <thead>\n    <tr style=\"text-align: right;\">\n      <th></th>\n      <th>Movie</th>\n      <th>Level</th>\n    </tr>\n    <tr>\n      <th>id</th>\n      <th></th>\n      <th></th>\n    </tr>\n  </thead>\n  <tbody>\n    <tr>\n      <th>0</th>\n      <td>10_Cloverfield_lane(2016)</td>\n      <td>B1</td>\n    </tr>\n    <tr>\n      <th>1</th>\n      <td>10_things_I_hate_about_you(1999)</td>\n      <td>B1</td>\n    </tr>\n    <tr>\n      <th>2</th>\n      <td>A_knights_tale(2001)</td>\n      <td>B2</td>\n    </tr>\n    <tr>\n      <th>3</th>\n      <td>A_star_is_born(2018)</td>\n      <td>B2</td>\n    </tr>\n    <tr>\n      <th>4</th>\n      <td>Aladdin(1992)</td>\n      <td>A2/A2+</td>\n    </tr>\n    <tr>\n      <th>5</th>\n      <td>All_dogs_go_to_heaven(1989)</td>\n      <td>A2/A2+</td>\n    </tr>\n    <tr>\n      <th>118</th>\n      <td>AmericanBeauty1999.BRRip</td>\n      <td>B1</td>\n    </tr>\n    <tr>\n      <th>6</th>\n      <td>An_American_tail(1986)</td>\n      <td>A2/A2+</td>\n    </tr>\n    <tr>\n      <th>134</th>\n      <td>Angela's.Christmas.2018.WEBRip.Netflix</td>\n      <td>B2</td>\n    </tr>\n    <tr>\n      <th>119</th>\n      <td>Angelas.Christmas.Wish.2020</td>\n      <td>B1</td>\n    </tr>\n  </tbody>\n</table>\n</div>"
     },
     "execution_count": 3,
     "metadata": {},
     "output_type": "execute_result"
    }
   ],
   "source": [
    "# del df\n",
    "# загрузим данные из excel таблицы\n",
    "df = pd.read_excel('Datasets/movies_labels.xlsx', index_col='id')\n",
    "df.head(10)"
   ]
  },
  {
   "cell_type": "code",
   "execution_count": 4,
   "id": "df93c5fd",
   "metadata": {
    "ExecuteTime": {
     "end_time": "2023-07-24T10:31:30.043902600Z",
     "start_time": "2023-07-24T10:31:30.028682600Z"
    }
   },
   "outputs": [
    {
     "name": "stdout",
     "output_type": "stream",
     "text": [
      "<class 'pandas.core.frame.DataFrame'>\n",
      "Index: 266 entries, 0 to 111\n",
      "Data columns (total 2 columns):\n",
      " #   Column  Non-Null Count  Dtype \n",
      "---  ------  --------------  ----- \n",
      " 0   Movie   266 non-null    object\n",
      " 1   Level   266 non-null    object\n",
      "dtypes: object(2)\n",
      "memory usage: 6.2+ KB\n"
     ]
    }
   ],
   "source": [
    "df.info()"
   ]
  },
  {
   "cell_type": "markdown",
   "id": "b204d7fe",
   "metadata": {},
   "source": [
    "Таблица *excel* содержит 266 размеченных фильмов/сериалов."
   ]
  },
  {
   "cell_type": "markdown",
   "id": "c917db4e",
   "metadata": {},
   "source": [
    "### Обработка целевых меток"
   ]
  },
  {
   "cell_type": "code",
   "execution_count": 5,
   "id": "24079777",
   "metadata": {
    "ExecuteTime": {
     "end_time": "2023-07-24T10:31:30.047818200Z",
     "start_time": "2023-07-24T10:31:30.043902600Z"
    }
   },
   "outputs": [
    {
     "data": {
      "text/plain": "array(['B1', 'B2', 'A2/A2+', 'C1', 'B1, B2', 'A2/A2+, B1', 'A2'],\n      dtype=object)"
     },
     "execution_count": 5,
     "metadata": {},
     "output_type": "execute_result"
    }
   ],
   "source": [
    "# определим какие целевые метки содержат данные \n",
    "df['Level'].unique()"
   ]
  },
  {
   "cell_type": "markdown",
   "id": "574d5d0e",
   "metadata": {},
   "source": [
    "В данных присутствуют множественные метки для одного и того же фильма (например `'A2/A2+'`). Зададим для таких фильмов единственную метку, соответсвующую максимальному значению уровня сложности. \n",
    "\n",
    "Закодируем метки числовыми пордяками от **1** до **4**.\n",
    "\n",
    "Так же отмечено отсутствие фильмов с меткой **A1**, соответствующих самому легкому уровню сложности. После знакомства с представленными фильмами можно заметить, что таким фильмам (точнее мультикам) присвоена метка **A2** (например для мультика `'Toy_story(1995)'` присвоена метка **A2**, несмотря на то что многими специалистами уровень сложности определен как **A1**). В итоге предлагается придерживаться исходных размеченных данных, представленных Заказчиком и исключить из предсказания метку **A1** и считать что она объединена с меткой **A2**.\n",
    "\n",
    "**Важное отступление**: нельзя исключать субъективность разметки данных в фильмах. Каждый специалист может немного по-разному определять уровень сложности понимания английского. В таком случае можно ожидать **смещения** в предсказании любой модели, так как субъективность часто вносит неустранимую ошибку в предиктивность модели. С большой долей вероятности модель будет допускать ошибки в предсказании. Особенно на граничных значениях меток (например ошибаться в присвоении метки **A2** или **B1**, **B1** или **B2**). Такие ошибки впринципе допустимы в отношении поставленной задачи, так как позволяют добиться того, чтобы  **студент понимал 50-70 % диалогов** даже при ошибочном предсказании модели в сторону присвоения более низкой метки, так как различия между такими классами **менее существенны**."
   ]
  },
  {
   "cell_type": "code",
   "execution_count": 6,
   "id": "5ab3c2e4",
   "metadata": {
    "ExecuteTime": {
     "end_time": "2023-07-24T10:31:30.055808100Z",
     "start_time": "2023-07-24T10:31:30.047818200Z"
    }
   },
   "outputs": [],
   "source": [
    "# определим словарь меток с кодированием значений\n",
    "label_dict = {'A2': 1,\n",
    "              'A2/A2+': 1,\n",
    "              'B1': 2,\n",
    "              'A2/A2+, B1': 2,\n",
    "              'B2': 3,\n",
    "              'B1, B2': 3,\n",
    "              'C1': 4}\n",
    "# заменим метки числовыми значениями\n",
    "df = df.replace(label_dict)"
   ]
  },
  {
   "cell_type": "markdown",
   "id": "7f339c29",
   "metadata": {},
   "source": [
    "### Обработка дубликатов"
   ]
  },
  {
   "cell_type": "code",
   "execution_count": 7,
   "id": "3a1a62a4",
   "metadata": {
    "scrolled": true,
    "ExecuteTime": {
     "end_time": "2023-07-24T10:31:30.121730Z",
     "start_time": "2023-07-24T10:31:30.059816200Z"
    }
   },
   "outputs": [
    {
     "data": {
      "text/plain": "                 Movie  Level\nid                           \n43    Inside_out(2015)      2\n44    Inside_out(2015)      2\n38        Powder(1995)      2\n68        Powder(1995)      2\n99  The_terminal(2004)      2\n83  The_terminal(2004)      2",
      "text/html": "<div>\n<style scoped>\n    .dataframe tbody tr th:only-of-type {\n        vertical-align: middle;\n    }\n\n    .dataframe tbody tr th {\n        vertical-align: top;\n    }\n\n    .dataframe thead th {\n        text-align: right;\n    }\n</style>\n<table border=\"1\" class=\"dataframe\">\n  <thead>\n    <tr style=\"text-align: right;\">\n      <th></th>\n      <th>Movie</th>\n      <th>Level</th>\n    </tr>\n    <tr>\n      <th>id</th>\n      <th></th>\n      <th></th>\n    </tr>\n  </thead>\n  <tbody>\n    <tr>\n      <th>43</th>\n      <td>Inside_out(2015)</td>\n      <td>2</td>\n    </tr>\n    <tr>\n      <th>44</th>\n      <td>Inside_out(2015)</td>\n      <td>2</td>\n    </tr>\n    <tr>\n      <th>38</th>\n      <td>Powder(1995)</td>\n      <td>2</td>\n    </tr>\n    <tr>\n      <th>68</th>\n      <td>Powder(1995)</td>\n      <td>2</td>\n    </tr>\n    <tr>\n      <th>99</th>\n      <td>The_terminal(2004)</td>\n      <td>2</td>\n    </tr>\n    <tr>\n      <th>83</th>\n      <td>The_terminal(2004)</td>\n      <td>2</td>\n    </tr>\n  </tbody>\n</table>\n</div>"
     },
     "execution_count": 7,
     "metadata": {},
     "output_type": "execute_result"
    }
   ],
   "source": [
    "# проверим данные на наличие дубликатов\n",
    "df[df.duplicated(keep=False)]"
   ]
  },
  {
   "cell_type": "markdown",
   "id": "62f65c67",
   "metadata": {},
   "source": [
    "В данных присутствует 3 дубликата. Удалим их."
   ]
  },
  {
   "cell_type": "code",
   "execution_count": 8,
   "id": "347ee751",
   "metadata": {
    "ExecuteTime": {
     "end_time": "2023-07-24T10:31:30.187447600Z",
     "start_time": "2023-07-24T10:31:30.065715300Z"
    }
   },
   "outputs": [
    {
     "data": {
      "text/plain": "(263, 2)"
     },
     "execution_count": 8,
     "metadata": {},
     "output_type": "execute_result"
    }
   ],
   "source": [
    "# удалим дубликаты \n",
    "df = df.drop_duplicates()\n",
    "df.shape"
   ]
  },
  {
   "cell_type": "markdown",
   "id": "b4774ffa",
   "metadata": {},
   "source": [
    "### Загрузка субтитров и словаря"
   ]
  },
  {
   "cell_type": "markdown",
   "id": "8d26c7bd",
   "metadata": {},
   "source": [
    "Далее загрузим субтитры к фильмам из папки `'/Datasets/Subtitles'`. "
   ]
  },
  {
   "cell_type": "code",
   "execution_count": 9,
   "id": "03fb944d",
   "metadata": {
    "scrolled": false,
    "ExecuteTime": {
     "end_time": "2023-07-24T10:31:30.187447600Z",
     "start_time": "2023-07-24T10:31:30.075699900Z"
    }
   },
   "outputs": [
    {
     "name": "stdout",
     "output_type": "stream",
     "text": [
      "Количество названий фильмов в папке с субтитрами: 278\n"
     ]
    }
   ],
   "source": [
    "# загрузим в список имена файлов из папки с субтитрами\n",
    "films_name = os.listdir(path='./Datasets/Subtitles')\n",
    "# определим количество названий фильмов\n",
    "print(f'Количество названий фильмов в папке с субтитрами: {len(films_name)}')"
   ]
  },
  {
   "cell_type": "code",
   "execution_count": 10,
   "id": "6f3707e0",
   "metadata": {
    "scrolled": true,
    "ExecuteTime": {
     "end_time": "2023-07-24T10:31:30.187447600Z",
     "start_time": "2023-07-24T10:31:30.080079700Z"
    }
   },
   "outputs": [
    {
     "name": "stdout",
     "output_type": "stream",
     "text": [
      "Количество фильмов, имеющих метку и субтитры: 255\n"
     ]
    }
   ],
   "source": [
    "# проверим для скольких фильмов, имеющих метку из таблицы, предоставлены субтитры \n",
    "films_filtr = set(films_name) & set(df['Movie'] + '.srt')\n",
    "print(f'Количество фильмов, имеющих метку и субтитры: {len(films_filtr)}')"
   ]
  },
  {
   "cell_type": "markdown",
   "id": "874ef648",
   "metadata": {},
   "source": [
    "Далее загрузка субтитров в датафрейм будет осуществлена с применением функции очистки текста. Так же будет загружен словарь **`Classic Oxford`** для дальнейшего подсчета количества уникальных лемм, содержащихся в каждом тексте субтитров согласно уровню сложности."
   ]
  },
  {
   "cell_type": "code",
   "execution_count": 11,
   "id": "4078d3e4",
   "metadata": {
    "ExecuteTime": {
     "end_time": "2023-07-24T10:31:30.187447600Z",
     "start_time": "2023-07-24T10:31:30.086704Z"
    }
   },
   "outputs": [
    {
     "data": {
      "text/plain": "'a, an \\nabout \\nabove \\nacross \\na'"
     },
     "execution_count": 11,
     "metadata": {},
     "output_type": "execute_result"
    }
   ],
   "source": [
    "# del american_oxford\n",
    "oxford = load_files('Datasets/Oxford/Classic Oxford/', shuffle=False, encoding='utf-8-sig')\n",
    "oxford.data[0][:30]"
   ]
  },
  {
   "cell_type": "code",
   "execution_count": 12,
   "id": "2e1543c6",
   "metadata": {
    "scrolled": false,
    "ExecuteTime": {
     "end_time": "2023-07-24T10:41:51.960961400Z",
     "start_time": "2023-07-24T10:31:30.097816400Z"
    }
   },
   "outputs": [
    {
     "data": {
      "text/plain": "                                      Movie  Level  \\\nid                                                   \n0                 10_Cloverfield_lane(2016)      2   \n1          10_things_I_hate_about_you(1999)      2   \n2                      A_knights_tale(2001)      3   \n3                      A_star_is_born(2018)      3   \n4                             Aladdin(1992)      1   \n5               All_dogs_go_to_heaven(1989)      1   \n118                AmericanBeauty1999.BRRip      2   \n6                    An_American_tail(1986)      1   \n134  Angela's.Christmas.2018.WEBRip.Netflix      3   \n119             Angelas.Christmas.Wish.2020      2   \n\n                                                  subs  A1_lemma_cnt  \\\nid                                                                     \n0    ben on phone michelle, please don t hang up. j...         372.0   \n1    i ll be right with you. so, cameron. here you ...         448.0   \n2    should we help him? he s due in the lists in t...         427.0   \n3    get to it. black eyes open wide it s time to t...         456.0   \n4    where the caravan camels roam where it s flat ...         425.0   \n5    itchy, a few more degrees to the left! now! ta...         374.0   \n118  who s going to spray his shorts whenever i bri...         457.0   \n6    mama tanya, fievel? will you stop that twirlin...         364.0   \n134  hup! yah. that woman there is my grandmother, ...         256.0   \n119  come on, angela. but who ll mind the sheep? da...         289.0   \n\n     A2_lemma_cnt  B1_lemma_cnt  B2_lemma_cnt  C1_lemma_cnt  \nid                                                           \n0           187.0         128.0         105.0          39.0  \n1           241.0         176.0         160.0          68.0  \n2           246.0         153.0         135.0          75.0  \n3           257.0         141.0         127.0          47.0  \n4           244.0         155.0         149.0          66.0  \n5           203.0         107.0         117.0          41.0  \n118         269.0         183.0         160.0          60.0  \n6           149.0          95.0          73.0          27.0  \n134         102.0          43.0          41.0          19.0  \n119          98.0          47.0          35.0           7.0  ",
      "text/html": "<div>\n<style scoped>\n    .dataframe tbody tr th:only-of-type {\n        vertical-align: middle;\n    }\n\n    .dataframe tbody tr th {\n        vertical-align: top;\n    }\n\n    .dataframe thead th {\n        text-align: right;\n    }\n</style>\n<table border=\"1\" class=\"dataframe\">\n  <thead>\n    <tr style=\"text-align: right;\">\n      <th></th>\n      <th>Movie</th>\n      <th>Level</th>\n      <th>subs</th>\n      <th>A1_lemma_cnt</th>\n      <th>A2_lemma_cnt</th>\n      <th>B1_lemma_cnt</th>\n      <th>B2_lemma_cnt</th>\n      <th>C1_lemma_cnt</th>\n    </tr>\n    <tr>\n      <th>id</th>\n      <th></th>\n      <th></th>\n      <th></th>\n      <th></th>\n      <th></th>\n      <th></th>\n      <th></th>\n      <th></th>\n    </tr>\n  </thead>\n  <tbody>\n    <tr>\n      <th>0</th>\n      <td>10_Cloverfield_lane(2016)</td>\n      <td>2</td>\n      <td>ben on phone michelle, please don t hang up. j...</td>\n      <td>372.0</td>\n      <td>187.0</td>\n      <td>128.0</td>\n      <td>105.0</td>\n      <td>39.0</td>\n    </tr>\n    <tr>\n      <th>1</th>\n      <td>10_things_I_hate_about_you(1999)</td>\n      <td>2</td>\n      <td>i ll be right with you. so, cameron. here you ...</td>\n      <td>448.0</td>\n      <td>241.0</td>\n      <td>176.0</td>\n      <td>160.0</td>\n      <td>68.0</td>\n    </tr>\n    <tr>\n      <th>2</th>\n      <td>A_knights_tale(2001)</td>\n      <td>3</td>\n      <td>should we help him? he s due in the lists in t...</td>\n      <td>427.0</td>\n      <td>246.0</td>\n      <td>153.0</td>\n      <td>135.0</td>\n      <td>75.0</td>\n    </tr>\n    <tr>\n      <th>3</th>\n      <td>A_star_is_born(2018)</td>\n      <td>3</td>\n      <td>get to it. black eyes open wide it s time to t...</td>\n      <td>456.0</td>\n      <td>257.0</td>\n      <td>141.0</td>\n      <td>127.0</td>\n      <td>47.0</td>\n    </tr>\n    <tr>\n      <th>4</th>\n      <td>Aladdin(1992)</td>\n      <td>1</td>\n      <td>where the caravan camels roam where it s flat ...</td>\n      <td>425.0</td>\n      <td>244.0</td>\n      <td>155.0</td>\n      <td>149.0</td>\n      <td>66.0</td>\n    </tr>\n    <tr>\n      <th>5</th>\n      <td>All_dogs_go_to_heaven(1989)</td>\n      <td>1</td>\n      <td>itchy, a few more degrees to the left! now! ta...</td>\n      <td>374.0</td>\n      <td>203.0</td>\n      <td>107.0</td>\n      <td>117.0</td>\n      <td>41.0</td>\n    </tr>\n    <tr>\n      <th>118</th>\n      <td>AmericanBeauty1999.BRRip</td>\n      <td>2</td>\n      <td>who s going to spray his shorts whenever i bri...</td>\n      <td>457.0</td>\n      <td>269.0</td>\n      <td>183.0</td>\n      <td>160.0</td>\n      <td>60.0</td>\n    </tr>\n    <tr>\n      <th>6</th>\n      <td>An_American_tail(1986)</td>\n      <td>1</td>\n      <td>mama tanya, fievel? will you stop that twirlin...</td>\n      <td>364.0</td>\n      <td>149.0</td>\n      <td>95.0</td>\n      <td>73.0</td>\n      <td>27.0</td>\n    </tr>\n    <tr>\n      <th>134</th>\n      <td>Angela's.Christmas.2018.WEBRip.Netflix</td>\n      <td>3</td>\n      <td>hup! yah. that woman there is my grandmother, ...</td>\n      <td>256.0</td>\n      <td>102.0</td>\n      <td>43.0</td>\n      <td>41.0</td>\n      <td>19.0</td>\n    </tr>\n    <tr>\n      <th>119</th>\n      <td>Angelas.Christmas.Wish.2020</td>\n      <td>2</td>\n      <td>come on, angela. but who ll mind the sheep? da...</td>\n      <td>289.0</td>\n      <td>98.0</td>\n      <td>47.0</td>\n      <td>35.0</td>\n      <td>7.0</td>\n    </tr>\n  </tbody>\n</table>\n</div>"
     },
     "execution_count": 12,
     "metadata": {},
     "output_type": "execute_result"
    }
   ],
   "source": [
    "# зададим регулярнеы выражения для очистки текста\n",
    "HTML = r'<.*?>' # html тэги меняем на пробел\n",
    "TAG = r'{.*?}' # тэги меняем на пробел\n",
    "COMMENTS = r'[\\(\\[][A-Za-z ]+[\\)\\]]' # комменты в скобках меняем на пробел\n",
    "LETTERS = r'[^a-zA-Z\\.,!? ]' # все что не буквы меняем на пробел \n",
    "SPACES = r'([ ])\\1+' # повторяющиеся пробелы меняем на один пробел\n",
    "DOTS = r'[\\.]+' # многоточие меняем на точку\n",
    "# SYMB = r\"[^\\w\\d'\\s]\" # знаки препинания кроме апострофа\n",
    "\n",
    "\n",
    "# напишем функцию для очистки субтитров\n",
    "def clean_subs(subs):\n",
    "    subs = subs[1:] # удаляем первый рекламный субтитр\n",
    "    txt = re.sub(HTML, ' ', subs.text) # html тэги меняем на пробел\n",
    "    txt = re.sub(COMMENTS, ' ', txt) # комменты в скобках меняем на пробел\n",
    "    txt = re.sub(LETTERS, ' ', txt) # все что не буквы меняем на пробел\n",
    "    txt = re.sub(DOTS, r'.', txt) # многоточие меняем на точку\n",
    "    txt = re.sub(SPACES, r'\\1', txt) # повторяющиеся пробелы меняем на один пробел\n",
    "    # txt = re.sub(SYMB, '', txt) # знаки препинания кроме апострофа на пустую строку\n",
    "    txt = re.sub('www', '', txt) # кое-где остаётся www, то же меняем на пустую строку\n",
    "    txt = txt.lstrip() # обрезка пробелов слева\n",
    "    txt = txt.encode('ascii', 'ignore').decode() # удаляем все что не ascii символы   \n",
    "    txt = txt.lower() # текст в нижний регистр\n",
    "    return txt\n",
    "\n",
    "\n",
    "# функция возвращающая количество уникальных лемм \n",
    "# в тексте субтитров по каждому уровню\n",
    "def lemma_count(lemmas, oxf, cat):\n",
    "    func_dict = {'A1': 0,\n",
    "                 'A2': 1,\n",
    "                 'B1': 2,\n",
    "                 'B2': 3,\n",
    "                 'C1': 4}\n",
    "    level = func_dict[cat]\n",
    "    oxf_word_list = oxf[level].split()\n",
    "    words = [lemma for lemma in lemmas if lemma in oxf_word_list]\n",
    "\n",
    "    return len(set(words))\n",
    "\n",
    "\n",
    "# загрузим для каждого фильма субтитры с использованием библиотеки pysrt\n",
    "for film in films_filtr:\n",
    "    try: \n",
    "        subs = pysrt.open(f'Datasets/Subtitles/{film}')\n",
    "    except:\n",
    "        subs = pysrt.open(f'Datasets/Subtitles/{film}', encoding='iso-8859-1')\n",
    "    # вызов функии для очистки текста\n",
    "    cln_subs = clean_subs(subs)\n",
    "    df.loc[df['Movie'] == film[:-4], 'subs'] = cln_subs\n",
    "    # используем библиотеку spacy для лемматизации \n",
    "    nlp = spacy.load('en_core_web_sm')\n",
    "    doc = nlp(cln_subs)\n",
    "    lemma_list = [token.lemma_ for token in doc]\n",
    "    # в цикле по каждой метке запишем в датафрейм кол-во уникальных лемм\n",
    "    for lvl in ['A1', 'A2', 'B1', 'B2', 'C1']:\n",
    "        df.loc[df['Movie'] == film[:-4], lvl+'_lemma_cnt'] = lemma_count(lemma_list, oxford.data, lvl)\n",
    "    \n",
    "# выведем первые 10 записей\n",
    "df.head(10)"
   ]
  },
  {
   "cell_type": "markdown",
   "id": "d0bee752",
   "metadata": {},
   "source": [
    "### Обработка пропусков"
   ]
  },
  {
   "cell_type": "code",
   "execution_count": 13,
   "id": "5aa8a693",
   "metadata": {
    "scrolled": true,
    "ExecuteTime": {
     "end_time": "2023-07-24T10:41:51.975335Z",
     "start_time": "2023-07-24T10:41:51.959961800Z"
    }
   },
   "outputs": [
    {
     "data": {
      "text/plain": "                          Movie  Level subs  A1_lemma_cnt  A2_lemma_cnt  \\\nid                                                                        \n237                Bullet train      2  NaN           NaN           NaN   \n235                 Glass Onion      3  NaN           NaN           NaN   \n239                   Lightyear      3  NaN           NaN           NaN   \n236               Matilda(2022)      4  NaN           NaN           NaN   \n240                  The Grinch      2  NaN           NaN           NaN   \n81   The Secret Life of Pets.en      3  NaN           NaN           NaN   \n238       Thor love and thunder      3  NaN           NaN           NaN   \n\n     B1_lemma_cnt  B2_lemma_cnt  C1_lemma_cnt  \nid                                             \n237           NaN           NaN           NaN  \n235           NaN           NaN           NaN  \n239           NaN           NaN           NaN  \n236           NaN           NaN           NaN  \n240           NaN           NaN           NaN  \n81            NaN           NaN           NaN  \n238           NaN           NaN           NaN  ",
      "text/html": "<div>\n<style scoped>\n    .dataframe tbody tr th:only-of-type {\n        vertical-align: middle;\n    }\n\n    .dataframe tbody tr th {\n        vertical-align: top;\n    }\n\n    .dataframe thead th {\n        text-align: right;\n    }\n</style>\n<table border=\"1\" class=\"dataframe\">\n  <thead>\n    <tr style=\"text-align: right;\">\n      <th></th>\n      <th>Movie</th>\n      <th>Level</th>\n      <th>subs</th>\n      <th>A1_lemma_cnt</th>\n      <th>A2_lemma_cnt</th>\n      <th>B1_lemma_cnt</th>\n      <th>B2_lemma_cnt</th>\n      <th>C1_lemma_cnt</th>\n    </tr>\n    <tr>\n      <th>id</th>\n      <th></th>\n      <th></th>\n      <th></th>\n      <th></th>\n      <th></th>\n      <th></th>\n      <th></th>\n      <th></th>\n    </tr>\n  </thead>\n  <tbody>\n    <tr>\n      <th>237</th>\n      <td>Bullet train</td>\n      <td>2</td>\n      <td>NaN</td>\n      <td>NaN</td>\n      <td>NaN</td>\n      <td>NaN</td>\n      <td>NaN</td>\n      <td>NaN</td>\n    </tr>\n    <tr>\n      <th>235</th>\n      <td>Glass Onion</td>\n      <td>3</td>\n      <td>NaN</td>\n      <td>NaN</td>\n      <td>NaN</td>\n      <td>NaN</td>\n      <td>NaN</td>\n      <td>NaN</td>\n    </tr>\n    <tr>\n      <th>239</th>\n      <td>Lightyear</td>\n      <td>3</td>\n      <td>NaN</td>\n      <td>NaN</td>\n      <td>NaN</td>\n      <td>NaN</td>\n      <td>NaN</td>\n      <td>NaN</td>\n    </tr>\n    <tr>\n      <th>236</th>\n      <td>Matilda(2022)</td>\n      <td>4</td>\n      <td>NaN</td>\n      <td>NaN</td>\n      <td>NaN</td>\n      <td>NaN</td>\n      <td>NaN</td>\n      <td>NaN</td>\n    </tr>\n    <tr>\n      <th>240</th>\n      <td>The Grinch</td>\n      <td>2</td>\n      <td>NaN</td>\n      <td>NaN</td>\n      <td>NaN</td>\n      <td>NaN</td>\n      <td>NaN</td>\n      <td>NaN</td>\n    </tr>\n    <tr>\n      <th>81</th>\n      <td>The Secret Life of Pets.en</td>\n      <td>3</td>\n      <td>NaN</td>\n      <td>NaN</td>\n      <td>NaN</td>\n      <td>NaN</td>\n      <td>NaN</td>\n      <td>NaN</td>\n    </tr>\n    <tr>\n      <th>238</th>\n      <td>Thor love and thunder</td>\n      <td>3</td>\n      <td>NaN</td>\n      <td>NaN</td>\n      <td>NaN</td>\n      <td>NaN</td>\n      <td>NaN</td>\n      <td>NaN</td>\n    </tr>\n  </tbody>\n</table>\n</div>"
     },
     "execution_count": 13,
     "metadata": {},
     "output_type": "execute_result"
    }
   ],
   "source": [
    "# найдем пропуски в данных после загрузки\n",
    "df[df['subs'].isna()].sort_values('Movie')"
   ]
  },
  {
   "cell_type": "code",
   "execution_count": 14,
   "id": "b4d436af",
   "metadata": {
    "scrolled": false,
    "ExecuteTime": {
     "end_time": "2023-07-24T10:41:51.984201300Z",
     "start_time": "2023-07-24T10:41:51.977336900Z"
    }
   },
   "outputs": [
    {
     "data": {
      "text/plain": "['Bullet train.srt',\n 'Glass Onion.srt',\n 'Lightyear.srt',\n 'Matilda(2022).srt',\n 'The Grinch.srt',\n 'The Secret Life of Pets.en.srt',\n 'Thor love and thunder.srt']"
     },
     "execution_count": 14,
     "metadata": {},
     "output_type": "execute_result"
    }
   ],
   "source": [
    "# выдедем отсоритрованный список фильмов  для которых отсутствую субтитры в папке `'/Datasets/Subtitles'`\n",
    "sorted(set(df['Movie'] + '.srt') - set(films_name))"
   ]
  },
  {
   "cell_type": "markdown",
   "id": "53ca75a0",
   "metadata": {},
   "source": [
    "Фильмы, для которых в датафрейме отсутствуют субтитры, это те же фильмы, для которых действительно в папке отсутствуют файлы `.srt` (ошибка в загрузке данных исключается). Удалим их из датафрейма. "
   ]
  },
  {
   "cell_type": "code",
   "execution_count": 25,
   "id": "ed6acaf1",
   "metadata": {
    "scrolled": true,
    "ExecuteTime": {
     "end_time": "2023-07-24T11:08:39.816016100Z",
     "start_time": "2023-07-24T11:08:39.806965900Z"
    }
   },
   "outputs": [
    {
     "data": {
      "text/plain": "0"
     },
     "execution_count": 25,
     "metadata": {},
     "output_type": "execute_result"
    }
   ],
   "source": [
    "# удалим фильмы с пропущенными субтитрами\n",
    "df.dropna(inplace=True)\n",
    "# проверим удаление\n",
    "df['subs'].isna().sum()"
   ]
  },
  {
   "cell_type": "markdown",
   "id": "23487358",
   "metadata": {},
   "source": [
    "### Оценка дисбаланса классов"
   ]
  },
  {
   "cell_type": "markdown",
   "id": "820342f1",
   "metadata": {},
   "source": [
    "Для классификации и определения метрики качества важно проверять данные на наличие дисбаланса целевых классов."
   ]
  },
  {
   "cell_type": "code",
   "execution_count": 16,
   "id": "f8ed1cd6",
   "metadata": {
    "scrolled": false,
    "ExecuteTime": {
     "end_time": "2023-07-24T10:41:52.049570Z",
     "start_time": "2023-07-24T10:41:51.996190600Z"
    }
   },
   "outputs": [
    {
     "data": {
      "text/plain": "Level\n3    129\n2     56\n4     39\n1     32\nName: count, dtype: int64"
     },
     "execution_count": 16,
     "metadata": {},
     "output_type": "execute_result"
    }
   ],
   "source": [
    "# определим количество фильмов, представленных в кажой категории сложности\n",
    "df['Level'].value_counts()"
   ]
  },
  {
   "cell_type": "markdown",
   "id": "e2ae85fa",
   "metadata": {},
   "source": [
    "В данных присутствует сильный дисбаланс по целевым классам (меткам):\n",
    "- *129 фильмов* с уровнем сложности *3* (метка **B2**);\n",
    "- *56 фильмов* с уровнем сложности *2* (метка **B1**);\n",
    "- *39 фильмов* с уровнем сложности *4* (метка **C1**);\n",
    "- *32 фильма* с уровнем сложности *1* (метка **A2**).\n",
    "\n",
    "**Вывод**: для борьбы с дисбалансом классов есть несколько методов, которые не являются универсальными по своей сути и каждый должен определяться исходя из требований задачи и исходных данных. Так **undersampling** (выравнивание выборки за счет снижения количества фильмов с мажоритарными классами) недопустим в текущих условиях и так малого количества исходных данных. В данном случае снижается общая вариативность данных, которая необходима модели машинного обучения для нахождения признаков и их связей с правильным предсказанием целевой метрики. В рамках решения задач **NLP** малое количество обучающих данных приводит к более 'скудному' словарю. Отсутствие 'богатства' словаря часто приводит к неверному предсказанию модели на новых текстах, которые состоят из слов не вошедших в `'vocabulary'` обученной модели.\n",
    "\n",
    "Таким образом в данном случае было бы уместнее применить **upsampling** (выравнивание выборки за счет увеличения методом дублирования фильмов с миноритарными классами). Но с другой стороны увеличение выборки за счет дублирования текста в миноритарных классах не приведет к увеличению словаря модели и как следствие не увеличит качество прогнозов. В таком случае предлагается оставить выборку без изменений."
   ]
  },
  {
   "cell_type": "markdown",
   "id": "17e45a0d",
   "metadata": {},
   "source": [
    "## Препроцессинг данных"
   ]
  },
  {
   "cell_type": "markdown",
   "id": "567cb409",
   "metadata": {},
   "source": [
    "### Разбивка данных на обучающую и тестовую выборки\n",
    "\n",
    "Разбивка данных будет произведена в соотношении обучающая/тестовая выборка - 80/20 %. Важным моментом который стоит учитывать - сохранение соотношения баланса классов в обеих выборках. Для этого будет использован параметр `'stratify'`. "
   ]
  },
  {
   "cell_type": "code",
   "execution_count": 17,
   "id": "fd70853f",
   "metadata": {
    "ExecuteTime": {
     "end_time": "2023-07-24T10:41:52.161352600Z",
     "start_time": "2023-07-24T10:41:52.007877800Z"
    }
   },
   "outputs": [
    {
     "name": "stdout",
     "output_type": "stream",
     "text": [
      "Размер обучающей выборки: ((204, 6), (204,))\n",
      "Размер тестовой выборки: ((52, 6), (52,))\n"
     ]
    }
   ],
   "source": [
    "# разобъем данные на валидационную и тестовую выборки\n",
    "df_train, df_test = train_test_split(df, random_state=RAND_ST, test_size=.2, stratify=df['Level'])\n",
    "# определим независимые признаки и зависимую целевую метку\n",
    "X_train = df_train.drop(['Level', 'Movie'], axis=1)\n",
    "y_train = df_train['Level']\n",
    "X_test = df_test.drop(['Level', 'Movie'], axis=1)\n",
    "y_test = df_test['Level']\n",
    "# определим размеры обучающей и тестовой выборки\n",
    "print(f'Размер обучающей выборки: {X_train.shape, y_train.shape}')\n",
    "print(f'Размер тестовой выборки: {X_test.shape, y_test.shape}')"
   ]
  },
  {
   "cell_type": "markdown",
   "id": "2e500d97",
   "metadata": {},
   "source": [
    "### Векторизация \n",
    "\n",
    "Векторизуем текст субтитров с помощью `'CountVectorizer'` с гиперпараметром **min_df=4**, чтобы исключить специфические слова для определенных фильмов, которые не несут явной языковой нагрузки. "
   ]
  },
  {
   "cell_type": "code",
   "execution_count": 18,
   "id": "102c9605",
   "metadata": {
    "scrolled": true,
    "ExecuteTime": {
     "end_time": "2023-07-24T10:41:54.203304900Z",
     "start_time": "2023-07-24T10:41:52.022918300Z"
    }
   },
   "outputs": [],
   "source": [
    "# векторизуем текст субтитров обучающей и тестовой выборки\n",
    "vect = CountVectorizer(min_df=4).fit(X_train['subs'])\n",
    "X_train_vect = vect.transform(X_train['subs'])\n",
    "X_test_vect = vect.transform(X_test['subs'])"
   ]
  },
  {
   "cell_type": "code",
   "execution_count": 19,
   "id": "efab15b7",
   "metadata": {
    "ExecuteTime": {
     "end_time": "2023-07-24T10:41:54.218863200Z",
     "start_time": "2023-07-24T10:41:54.206305200Z"
    }
   },
   "outputs": [
    {
     "name": "stdout",
     "output_type": "stream",
     "text": [
      "Количество признаков: 9330\n",
      "Первые 20 признаков:\n",
      "['aaah' 'aah' 'aaron' 'abandon' 'abandoned' 'abandoning' 'abbey'\n",
      " 'abdication' 'abide' 'abilities' 'ability' 'able' 'aboard' 'about'\n",
      " 'above' 'abroad' 'absence' 'absolute' 'absolutely' 'absorbed']\n",
      "Признаки с 2000 по 2060:\n",
      "['cruise' 'crumb' 'crush' 'crushed' 'crushing' 'crust' 'cry' 'crying'\n",
      " 'cryptic' 'crystal' 'cube' 'cubicle' 'cubs' 'cue' 'culture' 'cum'\n",
      " 'cunning' 'cup' 'cupboard' 'cupcake' 'cups' 'curb' 'cure' 'cured'\n",
      " 'curing' 'curiosity' 'curious' 'current' 'currently' 'curriculum' 'curse'\n",
      " 'cursed' 'curtain' 'curtains' 'custody' 'custom' 'customer' 'customers'\n",
      " 'customs' 'cut' 'cute' 'cutest' 'cuts' 'cuttin' 'cutting' 'cylinder'\n",
      " 'cynical' 'da' 'dad' 'daddy' 'dads' 'daft' 'daggers' 'daily' 'daisies'\n",
      " 'daisy' 'dale' 'dallas' 'dally' 'dalton']\n",
      "Каждый 100-й признак:\n",
      "['aaah' 'adi' 'alan' 'angels' 'aren' 'attacking' 'bait' 'became' 'bill'\n",
      " 'body' 'breach' 'bullet' 'campaign' 'cd' 'checkbook' 'claire' 'collars'\n",
      " 'compliments' 'contacted' 'counted' 'cruise' 'dave' 'delusions' 'diary'\n",
      " 'disrespect' 'downstairs' 'dvd' 'ella' 'equals' 'exercise' 'failure'\n",
      " 'fence' 'flaws' 'forgotten' 'fuel' 'gianopolous' 'grad' 'guests'\n",
      " 'harriet' 'hers' 'hormones' 'if' 'inevitable' 'interim' 'jackets' 'jump'\n",
      " 'kong' 'least' 'link' 'louis' 'malicious' 'mayor' 'mickey' 'molesley'\n",
      " 'museum' 'new' 'obsessed' 'oral' 'paid' 'pawn' 'phillips' 'plate'\n",
      " 'possible' 'priceless' 'proprietary' 'putting' 'rattled' 'region'\n",
      " 'representing' 'rhyme' 'roots' 'salt' 'screams' 'serious' 'shirley'\n",
      " 'singer' 'smartest' 'sound' 'squeaky' 'still' 'stupidest' 'surrounded'\n",
      " 'talkie' 'terrorist' 'thugs' 'totally' 'trial' 'uhhuh' 'urgent' 'violate'\n",
      " 'warm' 'wheels' 'witnesses' 'yesterday']\n"
     ]
    }
   ],
   "source": [
    "# выведем результаты (признаки) векторизации данных\n",
    "feature_names = vect.get_feature_names_out()\n",
    "print('Количество признаков: {}'.format(len(feature_names)))\n",
    "print('Первые 20 признаков:\\n{}'.format(feature_names[:20]))\n",
    "print('Признаки с 2000 по 2060:\\n{}'.format(feature_names[2000:2060]))\n",
    "print('Каждый 100-й признак:\\n{}'.format(feature_names[::100]))"
   ]
  },
  {
   "cell_type": "markdown",
   "id": "597b40a8",
   "metadata": {},
   "source": [
    "## Обучение модели MultinomialNB\n",
    "\n",
    "Для обучения модели на текстовых данных будет использована модель наивного байесовского классификатора **MultinomialNB**. Такая модель хорошо подходит для высокоразмерных данных, обучается довольно быстро при назначительно меньшем качестве в отличии от линейной модели.\n",
    "\n",
    "Обучение модели будет проводится с использованием `GridSearcCV` для подбора гиперпараметра `'alpha'` с кроссвалидацией на 5-и фолдах. Во избежание утечки данных будет использован `Pipeline`. "
   ]
  },
  {
   "cell_type": "markdown",
   "id": "4c4d78c8",
   "metadata": {},
   "source": [
    "### Выбор метрики качества\n",
    "\n",
    "В связи с тем, что:\n",
    "- в данных обнаружен дисбаланс классов;\n",
    "- в текущей задаче является важным как точность (`'precision'`) так и полнота (`'recall'`) предсказания модели;\n",
    "лучшей метрикой для подгонки и оценки модели принимается средне-гармоническое точности и полноты - **F1-мера**. Для мультиклассификации будет использована взвешенная F1-мера (**F1_weighted**). "
   ]
  },
  {
   "cell_type": "code",
   "execution_count": 20,
   "id": "79cdc86e",
   "metadata": {
    "scrolled": false,
    "ExecuteTime": {
     "end_time": "2023-07-24T10:41:54.224936Z",
     "start_time": "2023-07-24T10:41:54.219864900Z"
    }
   },
   "outputs": [],
   "source": [
    "# напишем функцию для построения матрицы ошибок\n",
    "def plot_confusion_matrix(y_test, y_preds, model):\n",
    "    fig, ax = plt.subplots(figsize=(16,10))\n",
    "    cm = confusion_matrix(y_test, y_preds)\n",
    "    cmp = ConfusionMatrixDisplay(cm, display_labels = model.classes_ )\n",
    "    cmp.plot(ax=ax)\n",
    "    plt.suptitle('Матрица ошибок', y=0.92)\n",
    "    plt.show()"
   ]
  },
  {
   "cell_type": "markdown",
   "id": "45e187ab",
   "metadata": {},
   "source": [
    "### Построение pipiline и обучение"
   ]
  },
  {
   "cell_type": "code",
   "execution_count": 21,
   "id": "f95f8dae",
   "metadata": {
    "ExecuteTime": {
     "end_time": "2023-07-24T10:54:00.241990300Z",
     "start_time": "2023-07-24T10:41:54.225936700Z"
    }
   },
   "outputs": [
    {
     "name": "stdout",
     "output_type": "stream",
     "text": [
      "0.6581205525784942\n",
      "{'clf__alpha': 0.137}\n",
      "CPU times: total: 9min 7s\n",
      "Wall time: 12min 6s\n"
     ]
    }
   ],
   "source": [
    "%%time\n",
    "\n",
    "# выделим отдельную категорию признаков\n",
    "other_colls = X_train.columns[1:]\n",
    "\n",
    "# инициализируем вектор-объект\n",
    "vector = CountVectorizer(min_df=4)\n",
    "\n",
    "# создадим препроцессор для групп признаков\n",
    "preprocessor = ColumnTransformer([\n",
    "    ('other', 'passthrough', other_colls),\n",
    "    ('txt', vector, 'subs')\n",
    "])\n",
    "\n",
    "# инициализируем модель MultinomialNB\n",
    "classifier = MultinomialNB()\n",
    "\n",
    "# создадим pipeline\n",
    "pipe = Pipeline(steps=[('prep', preprocessor),\n",
    "                       ('clf', classifier)])\n",
    "\n",
    "# обучим модель с подбором гиперпараметра alpha на 5 фолдах\n",
    "param_grid = {'clf__alpha': np.arange(0.001, 0.3, 0.002)}\n",
    "grid = GridSearchCV(pipe, param_grid, cv=5, scoring='f1_weighted')\n",
    "grid.fit(X_train, y_train)\n",
    "# выведем лучший score и значение гиперпараметра\n",
    "print(grid.best_score_)\n",
    "print(grid.best_params_)"
   ]
  },
  {
   "cell_type": "markdown",
   "id": "28802b19",
   "metadata": {},
   "source": [
    "Лучшая модель показала результат - 0.658 (**F1_weighted**) при подобранном гиперпараметре `'alpha'` равном **0.137**. \n",
    "\n",
    "Оценим модель на тестовой выборке."
   ]
  },
  {
   "cell_type": "markdown",
   "id": "4686a4f8",
   "metadata": {},
   "source": [
    "### Оценка модели на тестовой (отложенной) выборке"
   ]
  },
  {
   "cell_type": "code",
   "execution_count": 22,
   "id": "20e5d5da",
   "metadata": {
    "scrolled": false,
    "ExecuteTime": {
     "end_time": "2023-07-24T10:54:01.772218300Z",
     "start_time": "2023-07-24T10:54:00.239990300Z"
    }
   },
   "outputs": [
    {
     "name": "stdout",
     "output_type": "stream",
     "text": [
      "Метрика F1-weighted на обучающей выборке:0.9654916011300051\n",
      "Метрика F1-weighted на тестовой выборке:0.6291095590967715\n",
      "--------------------------------------------------\n",
      "              precision    recall  f1-score   support\n",
      "\n",
      "           1       1.00      0.29      0.44         7\n",
      "           2       0.38      0.73      0.50        11\n",
      "           3       0.80      0.62      0.70        26\n",
      "           4       0.78      0.88      0.82         8\n",
      "\n",
      "    accuracy                           0.63        52\n",
      "   macro avg       0.74      0.63      0.62        52\n",
      "weighted avg       0.73      0.63      0.64        52\n",
      "\n"
     ]
    },
    {
     "data": {
      "text/plain": "<Figure size 1600x1000 with 2 Axes>",
      "image/png": "[encoded data removed]"
     },
     "metadata": {},
     "output_type": "display_data"
    }
   ],
   "source": [
    "# получим предсказания на тестовой выборке\n",
    "predictions = grid.predict(X_test)\n",
    "# выведем раезльтаты оценки по метрике F1-weighted\n",
    "print(f'Метрика F1-weighted на обучающей выборке:{f1_score(grid.predict(X_train), y_train, average=\"weighted\")}')\n",
    "print(f'Метрика F1-weighted на тестовой выборке:{f1_score(predictions, y_test, average=\"weighted\")}')\n",
    "print('-'*50)\n",
    "# выведем классификационную таблицу и матрицу ошибок\n",
    "print(classification_report(y_test, predictions))\n",
    "plot_confusion_matrix(y_test, predictions, grid)"
   ]
  },
  {
   "cell_type": "markdown",
   "id": "0f3d91de",
   "metadata": {},
   "source": [
    "Лучшая модель показала результат - 0.63 (**F1_weighted**) на тестовой выборке при подобранном гиперпараметре `'alpha'` равном **0.137**. "
   ]
  },
  {
   "cell_type": "markdown",
   "id": "411bf15c",
   "metadata": {},
   "source": [
    "### Выводы по результатам работы модели"
   ]
  },
  {
   "cell_type": "markdown",
   "id": "f49e40b0",
   "metadata": {},
   "source": [
    "Из оценки классификатора на тестовой выборке можно сделать следующие выводы:\n",
    "- как и ожидалось, модель чаще всего ошибается на граничных метках. Например модель часто назначает фильмам с меткой **B2** метку **B1**. По условиям задачи где, студенты должны минимум понимать 50-70% диалогов, ошибка прогнозирования в сторону наименьшего класса допустима в пределах граничных классов;\n",
    "- хуже всего классифицированы фильмы с метками **A1** и **B1**.  В первом случае за счет низкого значения метрики **recall** (среди небольшого количества фильмов представленных в этом классе меток (7 фильмов), всего 2 фильма размечены верно). Во втором случае за счет низкого значения метрики **precision** (модель часто ошибается в присвоении метки **B1**, т.е. среди всех размеченных фильмов с присвоением метки **B1** (21 фильм) только 8 размечены верно.\n",
    "\n",
    "Использование дополнительно созданных признаков, с количеством уникальных слов из классического словаря Oxford в каждом фильме, не дали значительного прироста в качестве предсказаний, что может подтверждать предположение о субъективности разметки представленных Заказчиком фильмов, в силу предвзятости специалистов по английскому языку в отношении сложности диалогов.\n",
    "\n",
    "В целом с учетом предположения о субъективности разметки представленных Заказчиком фильмов, а так же использования быстрого и простого наивного Байесовского классификатора, удалось достичь приемлемых результатов. Взвешенная метрика **F1-weighted** на тестовой выборке составила **0.63**."
   ]
  },
  {
   "cell_type": "markdown",
   "id": "11d3501d",
   "metadata": {},
   "source": [
    "### Обучение модели MultinomialNB на всех данных. Сохранение модели."
   ]
  },
  {
   "cell_type": "code",
   "execution_count": 23,
   "id": "f91de6d9",
   "metadata": {
    "scrolled": false,
    "ExecuteTime": {
     "end_time": "2023-07-24T11:08:39.654180900Z",
     "start_time": "2023-07-24T10:54:01.773218600Z"
    }
   },
   "outputs": [
    {
     "name": "stdout",
     "output_type": "stream",
     "text": [
      "0.6792586187655933\n",
      "{'clf__alpha': 0.089}\n"
     ]
    }
   ],
   "source": [
    "# обучим модель с подбором гиперпараметра alpha на 5 фолдах\n",
    "# на всей выборке и оценим качество\n",
    "X_full = pd.concat([X_train, X_test])\n",
    "y_full = pd.concat([y_train, y_test])\n",
    "param_grid = {'clf__alpha': np.arange(0.001, 0.3, 0.002)}\n",
    "grid = GridSearchCV(pipe, param_grid, cv=5, scoring='f1_weighted')\n",
    "grid.fit(X_full, y_full)\n",
    "# выведем лучший score и значение гиперпараметра\n",
    "print(grid.best_score_)\n",
    "print(grid.best_params_)"
   ]
  },
  {
   "cell_type": "code",
   "execution_count": 24,
   "id": "8e61fdeb",
   "metadata": {
    "ExecuteTime": {
     "end_time": "2023-07-24T11:08:39.804975700Z",
     "start_time": "2023-07-24T11:08:39.654180900Z"
    }
   },
   "outputs": [
    {
     "data": {
      "text/plain": "['./oxford/classic_oxford.joblib']"
     },
     "execution_count": 24,
     "metadata": {},
     "output_type": "execute_result"
    }
   ],
   "source": [
    "# сохраним модель в папку models\n",
    "dump(grid, './models/model_bayesNB.joblib')\n",
    "# сохраним классический oxford словарь\n",
    "dump(oxford.data, './oxford/classic_oxford.joblib')"
   ]
  },
  {
   "cell_type": "markdown",
   "id": "085abca1",
   "metadata": {},
   "source": [
    "## Выводы и рекомендации"
   ]
  },
  {
   "cell_type": "markdown",
   "id": "7df56a5a",
   "metadata": {},
   "source": [
    "В ходе работы было выполнено:\n",
    "1. загрузка необходимых библиотек;\n",
    "2. загрузка и ознакомление с данными (загружены субтитры, фильмы с метками уровня сложности, классический словарь Oxford с 5000 словами);\n",
    "3. предобработка данных (очистка от дубликатов, проверка наличия разметки для обучающих данных, определение исходного количества представленных данных, очитска текста субтитров, разбивка на обучающую и тестовую выборки);\n",
    "4. препроцессинг данных, а именно преобразование текство субтитров с компактную разреженную матрицу с помощью **CountVectorizer** с гиперпараметром **min_df=4**, чтобы исключить специфические слова для определенных фильмов, которые не несут явной языковой нагрузки.;\n",
    "5. добавление дополнительных признаков- количество уникальных лемм (слов основной формы), содержащихся в каждом тексте субтитров согласно уровню сложности по классичесокму словарю **Oxford**;\n",
    "6. обоснование использования метрики качества **F1-weighted**;\n",
    "7. обучение модели-классификатора MultinomialNB с побором гиперпараметров на 5-и фолдах перекрестной прокерки;\n",
    "8. оценка модели на тестовой выборке;\n",
    "9. обучение модели на всей выборке с подбором гиперпарамтера на 5-и фолдах перекрестной прокерки\n",
    "10. сохранение лучшей модели в формате `'joblib'`, а так же классического словаря **Oxford** для дальнейшего развертывания в демонстрационном приложении **Streamlit**.\n",
    "\n",
    "**При решении задачи обнаружены следующие проблеммы:**\n",
    "1. Отсутствуют фильмы с уровнем сложности **A1**;\n",
    "2. В данных присутствует сильный дисбаланс по остальным классам (меткам):\n",
    "- *129 фильмов* с уровнем сложности *3* (метка **B2**);\n",
    "- *56 фильмов* с уровнем сложности *2* (метка **B1**);\n",
    "- *39 фильмов* с уровнем сложности *4* (метка **C1**);\n",
    "- *32 фильма* с уровнем сложности *1* (метка **A2**).\n",
    "3. Наличие большой вероятности в субъективности разметки данных в фильмах. Каждый специалист может немного по-разному определять уровень сложности понимания английского. В таком случае можно ожидать **смещения** в предсказании любой модели, так как субъективность часто вносит неустранимую ошибку в предиктивность модели. С большой долей вероятности модель будет допускать ошибки в предсказании. Особенно на граничных значениях меток (например ошибаться в присвоении метки **A2** или **B1**, **B1** или **B2**). Такие ошибки впринципе допустимы в отношении поставленной задачи, так как позволяют добиться того, чтобы  **студент понимал 50-70 % диалогов** даже при ошибочном предсказании модели в сторону присвоения более низкой метки, так как различия между такими классами **менее существенны**.\n",
    "\n",
    "**Выводы по результатам работы модели:**\n",
    "\n",
    "Лучшая модель показала результат - 0.63 (**F1_weighted**) на тестовой выборке при подобранном гиперпараметре `'alpha'` равном **0.137**. \n",
    "\n",
    "- как и ожидалось, модель чаще всего ошибается на граничных метках. Например модель часто назначает фильмам с меткой **B2** метку **B1**. По условиям задачи где, студенты должны минимум понимать 50-70% диалогов, ошибка прогнозирования в сторону наименьшего класса допустима в пределах граничных классов;\n",
    "- хуже всего классифицированы фильмы с метками **A1** и **B1**.  В первом случае за счет низкого значения метрики **recall** (среди небольшого количества фильмов представленных в этом классе меток (7 фильмов), всего 2 фильма размечены верно). Во втором случае за счет низкого значения метрики **precision** (модель часто ошибается в присвоении метки **B1**, т.е. среди всех размеченных фильмов с присвоением метки **B1** (21 фильм) только 8 размечены верно.\n",
    "\n",
    "Использование дополнительно созданных признаков, с количеством уникальных слов из классического словаря Oxford в каждом фильме, не дали значительного прироста в качестве предсказаний, что может подтверждать предположение о субъективности разметки представленных Заказчиком фильмов, в силу предвзятости специалистов по английскому языку в отношении сложности диалогов.\n",
    "\n",
    "В целом с учетом предположения о субъективности разметки представленных Заказчиком фильмов, а так же использования быстрого и простого наивного Байесовского классификатора, удалось достичь приемлемых результатов. Взвешенная метрика **F1-weighted** на модели, обученной на всех представленных данных, при кроссвалидации на 5-и фолдах показала результат в **0.68** по метрике **F1-weighted**.\n",
    "\n",
    "**Рекомендации:**\n",
    "1. Собрать больше фильмов с размеченным уровнем сложности с одинаковым количеством в каждом классе, включая уровень **A1**. В данном случае можно добиться лучшей пргоностической способности модели;\n",
    "2. Разметка фильмов по уровню сложности должна быть лишена субъективности и опираться на общепринятые правила определения. Размеченные данные (фильмы) должны поступать от классифицированных специалистов по английскому языку, либо с общеизвесиных и общепринятых источников;\n",
    "3. (**Предпочтительная и важная рекомендация для Заказчика**) Для создания модели предсказания уровня сложности понимания фильмов необходимо **полностью** исключить заранее размеченные данные. \n",
    "В таком случае обучение модели будет основываться на других правилах, таких как: \n",
    "- классический и американский словари Oxford, \n",
    "- количество слов в предложениях, \n",
    "- скорость речи, \n",
    "- центральные оценки (среднее, медиана) количетства букв в слове в общем по всему тексту \n",
    "- и т.д. \n",
    "\n",
    "Для такой разарботки модели потребуется дополнительное время (около 10 дней). В данном случае снижен риск субъективности в оценке сложности понимания английских фильмов, так как будут использованы более понятные и строгие правила определения."
   ]
  }
 ],
 "metadata": {
  "ExecuteTimeLog": [
   {
    "duration": 3748,
    "start_time": "2023-04-26T08:04:54.316Z"
   },
   {
    "duration": 45,
    "start_time": "2023-04-26T08:05:49.342Z"
   },
   {
    "duration": 13,
    "start_time": "2023-04-26T08:05:55.692Z"
   },
   {
    "duration": 12,
    "start_time": "2023-04-26T08:06:02.040Z"
   },
   {
    "duration": 113,
    "start_time": "2023-04-26T08:06:54.566Z"
   },
   {
    "duration": 14,
    "start_time": "2023-04-26T08:06:59.538Z"
   },
   {
    "duration": 6,
    "start_time": "2023-04-26T08:07:32.710Z"
   },
   {
    "duration": 5,
    "start_time": "2023-04-26T08:07:37.933Z"
   },
   {
    "duration": 7,
    "start_time": "2023-04-26T08:07:45.526Z"
   },
   {
    "duration": 5,
    "start_time": "2023-04-26T08:08:25.618Z"
   },
   {
    "duration": 4,
    "start_time": "2023-04-26T08:08:29.838Z"
   },
   {
    "duration": 4,
    "start_time": "2023-04-26T08:08:56.180Z"
   },
   {
    "duration": 5,
    "start_time": "2023-04-26T08:09:05.476Z"
   },
   {
    "duration": 6,
    "start_time": "2023-04-26T08:09:12.141Z"
   },
   {
    "duration": 3,
    "start_time": "2023-04-26T08:31:41.613Z"
   },
   {
    "duration": 29,
    "start_time": "2023-04-26T08:32:48.756Z"
   },
   {
    "duration": 35,
    "start_time": "2023-04-26T08:32:58.528Z"
   },
   {
    "duration": 5,
    "start_time": "2023-04-26T08:33:05.883Z"
   },
   {
    "duration": 172,
    "start_time": "2023-04-26T08:33:09.615Z"
   },
   {
    "duration": 12,
    "start_time": "2023-04-26T08:33:14.917Z"
   },
   {
    "duration": 4049,
    "start_time": "2023-04-26T08:35:48.112Z"
   },
   {
    "duration": 495,
    "start_time": "2023-04-26T08:37:40.792Z"
   },
   {
    "duration": 97,
    "start_time": "2023-04-26T08:38:00.383Z"
   },
   {
    "duration": 81,
    "start_time": "2023-04-26T11:17:35.862Z"
   },
   {
    "duration": 51,
    "start_time": "2023-04-26T11:18:48.805Z"
   },
   {
    "duration": 48,
    "start_time": "2023-04-26T11:19:16.021Z"
   },
   {
    "duration": 293,
    "start_time": "2023-04-26T11:19:27.357Z"
   },
   {
    "duration": 22,
    "start_time": "2023-04-26T11:19:56.901Z"
   },
   {
    "duration": 29,
    "start_time": "2023-04-26T11:20:08.197Z"
   },
   {
    "duration": 25,
    "start_time": "2023-04-26T11:20:19.860Z"
   },
   {
    "duration": 34,
    "start_time": "2023-04-26T11:20:49.036Z"
   },
   {
    "duration": 744,
    "start_time": "2023-04-26T11:21:12.172Z"
   },
   {
    "duration": 54,
    "start_time": "2023-04-27T08:15:08.408Z"
   },
   {
    "duration": 9149,
    "start_time": "2023-04-27T08:15:12.798Z"
   },
   {
    "duration": 199,
    "start_time": "2023-04-27T08:15:50.403Z"
   },
   {
    "duration": 108,
    "start_time": "2023-04-27T08:16:01.660Z"
   },
   {
    "duration": 724,
    "start_time": "2023-04-27T08:16:04.250Z"
   },
   {
    "duration": 6,
    "start_time": "2023-04-27T08:16:10.123Z"
   },
   {
    "duration": 115,
    "start_time": "2023-04-27T08:16:28.015Z"
   },
   {
    "duration": 4,
    "start_time": "2023-04-27T08:16:30.466Z"
   },
   {
    "duration": 5,
    "start_time": "2023-04-27T08:16:41.283Z"
   },
   {
    "duration": 5,
    "start_time": "2023-04-27T08:16:53.556Z"
   },
   {
    "duration": 4,
    "start_time": "2023-04-27T08:16:58.140Z"
   },
   {
    "duration": 5,
    "start_time": "2023-04-27T08:17:08.178Z"
   },
   {
    "duration": 355,
    "start_time": "2023-04-27T08:17:13.018Z"
   },
   {
    "duration": 4,
    "start_time": "2023-04-27T08:17:19.530Z"
   },
   {
    "duration": 100,
    "start_time": "2023-04-27T08:18:08.417Z"
   },
   {
    "duration": 71,
    "start_time": "2023-04-27T08:18:25.201Z"
   },
   {
    "duration": 40,
    "start_time": "2023-04-27T08:18:40.795Z"
   },
   {
    "duration": 60,
    "start_time": "2023-04-27T08:18:49.641Z"
   },
   {
    "duration": 71,
    "start_time": "2023-04-27T08:18:52.457Z"
   },
   {
    "duration": 78,
    "start_time": "2023-04-27T08:19:01.017Z"
   },
   {
    "duration": 40,
    "start_time": "2023-04-27T10:31:29.090Z"
   },
   {
    "duration": 33,
    "start_time": "2023-04-27T10:31:42.463Z"
   },
   {
    "duration": 1396,
    "start_time": "2023-04-27T10:32:24.886Z"
   },
   {
    "duration": 1378,
    "start_time": "2023-04-27T10:32:30.942Z"
   },
   {
    "duration": 9,
    "start_time": "2023-04-27T10:32:39.911Z"
   },
   {
    "duration": 9,
    "start_time": "2023-04-27T10:32:44.758Z"
   },
   {
    "duration": 4,
    "start_time": "2023-04-27T10:32:49.683Z"
   },
   {
    "duration": 45,
    "start_time": "2023-04-27T10:35:44.572Z"
   },
   {
    "duration": 4,
    "start_time": "2023-04-27T10:40:38.832Z"
   },
   {
    "duration": 174,
    "start_time": "2023-04-27T10:41:37.631Z"
   },
   {
    "duration": 126,
    "start_time": "2023-04-27T10:44:23.333Z"
   },
   {
    "duration": 155,
    "start_time": "2023-04-27T10:44:36.811Z"
   },
   {
    "duration": 243,
    "start_time": "2023-04-27T10:44:42.174Z"
   },
   {
    "duration": 142,
    "start_time": "2023-04-27T10:44:53.982Z"
   },
   {
    "duration": 93,
    "start_time": "2023-04-27T10:44:58.318Z"
   },
   {
    "duration": 7,
    "start_time": "2023-04-27T10:45:19.133Z"
   },
   {
    "duration": 23,
    "start_time": "2023-04-27T10:46:14.104Z"
   },
   {
    "duration": 100,
    "start_time": "2023-04-27T10:46:35.508Z"
   },
   {
    "duration": 19,
    "start_time": "2023-04-27T10:46:46.245Z"
   },
   {
    "duration": 5,
    "start_time": "2023-04-27T10:46:59.915Z"
   },
   {
    "duration": 4,
    "start_time": "2023-04-27T10:47:29.171Z"
   },
   {
    "duration": 5,
    "start_time": "2023-04-27T10:47:51.837Z"
   },
   {
    "duration": 6,
    "start_time": "2023-04-27T10:48:46.346Z"
   },
   {
    "duration": 119,
    "start_time": "2023-04-27T10:50:19.137Z"
   },
   {
    "duration": 5,
    "start_time": "2023-04-27T10:50:41.121Z"
   },
   {
    "duration": 6,
    "start_time": "2023-04-27T10:50:50.424Z"
   },
   {
    "duration": 5,
    "start_time": "2023-04-27T10:50:56.688Z"
   },
   {
    "duration": 65,
    "start_time": "2023-04-27T10:52:57.040Z"
   },
   {
    "duration": 59,
    "start_time": "2023-04-27T10:53:25.704Z"
   },
   {
    "duration": 62,
    "start_time": "2023-04-27T10:53:29.959Z"
   },
   {
    "duration": 63,
    "start_time": "2023-04-27T10:53:40.543Z"
   },
   {
    "duration": 67,
    "start_time": "2023-04-27T10:53:44.726Z"
   },
   {
    "duration": 71,
    "start_time": "2023-04-27T10:53:48.925Z"
   },
   {
    "duration": 68,
    "start_time": "2023-04-27T10:53:51.814Z"
   },
   {
    "duration": 5034,
    "start_time": "2023-04-27T10:54:59.183Z"
   },
   {
    "duration": 2109,
    "start_time": "2023-04-27T10:55:47.262Z"
   },
   {
    "duration": 37514,
    "start_time": "2023-04-27T10:59:26.058Z"
   },
   {
    "duration": 16,
    "start_time": "2023-04-27T11:00:30.738Z"
   },
   {
    "duration": 9,
    "start_time": "2023-04-27T11:01:16.447Z"
   },
   {
    "duration": 63,
    "start_time": "2023-04-27T11:02:55.353Z"
   },
   {
    "duration": 114,
    "start_time": "2023-04-27T11:03:40.503Z"
   },
   {
    "duration": 85,
    "start_time": "2023-04-27T11:03:52.543Z"
   },
   {
    "duration": 23557,
    "start_time": "2023-04-27T11:42:32.394Z"
   },
   {
    "duration": 13,
    "start_time": "2023-04-27T11:44:51.710Z"
   },
   {
    "duration": 88,
    "start_time": "2023-04-27T11:45:28.725Z"
   },
   {
    "duration": 81,
    "start_time": "2023-04-27T11:46:46.179Z"
   },
   {
    "duration": 85,
    "start_time": "2023-04-27T11:46:50.620Z"
   },
   {
    "duration": 75,
    "start_time": "2023-04-27T11:47:49.403Z"
   },
   {
    "duration": 72,
    "start_time": "2023-04-27T11:48:08.834Z"
   },
   {
    "duration": 107,
    "start_time": "2023-04-27T11:48:18.378Z"
   },
   {
    "duration": 222,
    "start_time": "2023-04-27T11:48:42.709Z"
   },
   {
    "duration": 302,
    "start_time": "2023-04-27T11:49:17.682Z"
   },
   {
    "duration": 68,
    "start_time": "2023-04-27T11:49:44.761Z"
   },
   {
    "duration": 90,
    "start_time": "2023-04-27T11:55:06.207Z"
   },
   {
    "duration": 39291,
    "start_time": "2023-04-27T12:17:57.448Z"
   },
   {
    "duration": 0,
    "start_time": "2023-04-27T12:18:36.742Z"
   },
   {
    "duration": 11,
    "start_time": "2023-04-27T12:18:39.166Z"
   },
   {
    "duration": 144,
    "start_time": "2023-04-27T12:19:00.751Z"
   },
   {
    "duration": 103,
    "start_time": "2023-04-27T12:19:09.178Z"
   },
   {
    "duration": 77,
    "start_time": "2023-04-27T12:19:14.176Z"
   },
   {
    "duration": 6,
    "start_time": "2023-04-27T12:19:30.238Z"
   },
   {
    "duration": 11,
    "start_time": "2023-04-27T12:19:38.686Z"
   },
   {
    "duration": 5,
    "start_time": "2023-04-27T12:19:47.833Z"
   },
   {
    "duration": 20,
    "start_time": "2023-04-27T12:20:20.526Z"
   },
   {
    "duration": 4,
    "start_time": "2023-04-27T12:20:23.557Z"
   },
   {
    "duration": 98,
    "start_time": "2023-04-27T12:20:25.181Z"
   },
   {
    "duration": 84,
    "start_time": "2023-04-27T12:36:33.577Z"
   },
   {
    "duration": 2638,
    "start_time": "2023-04-27T12:46:09.354Z"
   },
   {
    "duration": 31,
    "start_time": "2023-04-27T12:46:33.337Z"
   },
   {
    "duration": 126,
    "start_time": "2023-04-27T12:46:44.265Z"
   },
   {
    "duration": 640,
    "start_time": "2023-04-27T12:46:58.010Z"
   },
   {
    "duration": 392,
    "start_time": "2023-04-27T12:47:18.457Z"
   },
   {
    "duration": 498,
    "start_time": "2023-04-27T12:47:53.488Z"
   },
   {
    "duration": 581,
    "start_time": "2023-04-27T12:48:16.440Z"
   },
   {
    "duration": 29,
    "start_time": "2023-04-27T12:48:51.769Z"
   },
   {
    "duration": 28622,
    "start_time": "2023-04-27T12:49:00.231Z"
   },
   {
    "duration": 105,
    "start_time": "2023-04-27T12:51:36.560Z"
   },
   {
    "duration": 33449,
    "start_time": "2023-04-27T12:56:59.049Z"
   },
   {
    "duration": 11,
    "start_time": "2023-04-27T12:58:02.409Z"
   },
   {
    "duration": 10,
    "start_time": "2023-04-27T12:58:04.447Z"
   },
   {
    "duration": 11,
    "start_time": "2023-04-27T12:58:05.915Z"
   },
   {
    "duration": 11,
    "start_time": "2023-04-27T12:58:07.127Z"
   },
   {
    "duration": 11,
    "start_time": "2023-04-27T12:58:08.119Z"
   },
   {
    "duration": 12,
    "start_time": "2023-04-27T12:58:09.503Z"
   },
   {
    "duration": 10,
    "start_time": "2023-04-27T12:58:11.090Z"
   },
   {
    "duration": 10,
    "start_time": "2023-04-27T12:58:13.359Z"
   },
   {
    "duration": 10,
    "start_time": "2023-04-27T12:58:14.320Z"
   },
   {
    "duration": 8,
    "start_time": "2023-04-27T12:58:45.623Z"
   },
   {
    "duration": 8,
    "start_time": "2023-04-27T12:58:55.959Z"
   },
   {
    "duration": 4,
    "start_time": "2023-04-27T12:59:05.489Z"
   },
   {
    "duration": 4,
    "start_time": "2023-04-27T12:59:15.985Z"
   },
   {
    "duration": 24166,
    "start_time": "2023-04-27T12:59:32.906Z"
   },
   {
    "duration": 14,
    "start_time": "2023-04-27T13:00:16.312Z"
   },
   {
    "duration": 201,
    "start_time": "2023-04-27T13:00:32.853Z"
   },
   {
    "duration": 4,
    "start_time": "2023-04-27T13:00:34.238Z"
   },
   {
    "duration": 11,
    "start_time": "2023-04-27T13:00:39.221Z"
   },
   {
    "duration": 30310,
    "start_time": "2023-04-27T13:00:40.706Z"
   },
   {
    "duration": 11,
    "start_time": "2023-04-27T13:01:15.533Z"
   },
   {
    "duration": 23983,
    "start_time": "2023-04-27T13:01:17.122Z"
   },
   {
    "duration": 9,
    "start_time": "2023-04-27T13:01:49.624Z"
   },
   {
    "duration": 8,
    "start_time": "2023-04-27T13:01:51.618Z"
   },
   {
    "duration": 9,
    "start_time": "2023-04-27T13:01:55.280Z"
   },
   {
    "duration": 24868,
    "start_time": "2023-04-27T13:02:12.357Z"
   },
   {
    "duration": 11,
    "start_time": "2023-04-27T13:02:40.074Z"
   },
   {
    "duration": 6,
    "start_time": "2023-04-27T13:02:57.724Z"
   },
   {
    "duration": 12,
    "start_time": "2023-04-27T13:03:26.732Z"
   },
   {
    "duration": 4,
    "start_time": "2023-04-27T13:03:54.035Z"
   },
   {
    "duration": 112,
    "start_time": "2023-04-27T13:03:55.990Z"
   },
   {
    "duration": 3,
    "start_time": "2023-04-27T13:03:57.387Z"
   },
   {
    "duration": 5,
    "start_time": "2023-04-27T13:04:04.531Z"
   },
   {
    "duration": 112,
    "start_time": "2023-04-27T13:04:09.313Z"
   },
   {
    "duration": 23115,
    "start_time": "2023-04-27T13:04:17.427Z"
   },
   {
    "duration": 11,
    "start_time": "2023-04-27T13:05:08.074Z"
   },
   {
    "duration": 18,
    "start_time": "2023-04-27T13:05:53.809Z"
   },
   {
    "duration": 18,
    "start_time": "2023-04-27T13:05:57.083Z"
   },
   {
    "duration": 9,
    "start_time": "2023-04-27T13:06:01.813Z"
   },
   {
    "duration": 1420,
    "start_time": "2023-04-27T13:06:18.308Z"
   },
   {
    "duration": 9,
    "start_time": "2023-04-27T13:06:28.257Z"
   },
   {
    "duration": 7,
    "start_time": "2023-04-27T13:06:34.103Z"
   },
   {
    "duration": 10,
    "start_time": "2023-04-27T13:06:41.977Z"
   },
   {
    "duration": 5,
    "start_time": "2023-04-27T13:17:06.688Z"
   },
   {
    "duration": 18,
    "start_time": "2023-04-27T13:17:58.927Z"
   },
   {
    "duration": 4,
    "start_time": "2023-04-27T13:18:04.265Z"
   },
   {
    "duration": 3,
    "start_time": "2023-04-27T13:20:28.742Z"
   },
   {
    "duration": 129,
    "start_time": "2023-04-27T13:21:16.541Z"
   },
   {
    "duration": 266,
    "start_time": "2023-04-27T13:21:21.750Z"
   },
   {
    "duration": 594,
    "start_time": "2023-04-27T13:21:37.509Z"
   },
   {
    "duration": 168,
    "start_time": "2023-04-27T13:21:46.022Z"
   },
   {
    "duration": 7,
    "start_time": "2023-04-27T13:21:52.495Z"
   },
   {
    "duration": 42307,
    "start_time": "2023-04-27T13:22:01.789Z"
   },
   {
    "duration": 11,
    "start_time": "2023-04-27T13:28:20.129Z"
   },
   {
    "duration": 6,
    "start_time": "2023-04-27T13:29:27.769Z"
   },
   {
    "duration": 6,
    "start_time": "2023-04-27T13:29:57.768Z"
   },
   {
    "duration": 7,
    "start_time": "2023-04-27T13:30:12.302Z"
   },
   {
    "duration": 4,
    "start_time": "2023-04-27T13:30:39.327Z"
   },
   {
    "duration": 4,
    "start_time": "2023-04-27T13:31:55.637Z"
   },
   {
    "duration": 30402,
    "start_time": "2023-04-27T13:32:09.811Z"
   },
   {
    "duration": 8,
    "start_time": "2023-04-27T13:35:17.805Z"
   },
   {
    "duration": 6,
    "start_time": "2023-04-27T13:37:30.386Z"
   },
   {
    "duration": 327,
    "start_time": "2023-04-27T13:39:45.648Z"
   },
   {
    "duration": 7,
    "start_time": "2023-04-27T13:40:06.352Z"
   },
   {
    "duration": 6,
    "start_time": "2023-04-27T13:40:11.777Z"
   },
   {
    "duration": 5,
    "start_time": "2023-04-27T13:40:19.105Z"
   },
   {
    "duration": 6,
    "start_time": "2023-04-27T13:40:28.144Z"
   },
   {
    "duration": 5,
    "start_time": "2023-04-27T13:40:58.447Z"
   },
   {
    "duration": 160,
    "start_time": "2023-04-27T13:42:42.871Z"
   },
   {
    "duration": 6,
    "start_time": "2023-04-27T13:42:48.286Z"
   },
   {
    "duration": 5,
    "start_time": "2023-04-27T13:43:08.741Z"
   },
   {
    "duration": 6,
    "start_time": "2023-04-27T13:43:40.104Z"
   },
   {
    "duration": 6,
    "start_time": "2023-04-27T13:46:04.315Z"
   },
   {
    "duration": 32699,
    "start_time": "2023-04-27T13:46:45.445Z"
   },
   {
    "duration": 10,
    "start_time": "2023-04-27T13:49:15.960Z"
   },
   {
    "duration": 6,
    "start_time": "2023-04-27T13:49:17.164Z"
   },
   {
    "duration": 7618,
    "start_time": "2023-04-28T05:26:23.232Z"
   },
   {
    "duration": 3,
    "start_time": "2023-04-28T05:26:30.853Z"
   },
   {
    "duration": 270,
    "start_time": "2023-04-28T05:26:34.134Z"
   },
   {
    "duration": 34,
    "start_time": "2023-04-28T05:26:36.686Z"
   },
   {
    "duration": 699,
    "start_time": "2023-04-28T05:26:39.967Z"
   },
   {
    "duration": 6,
    "start_time": "2023-04-28T05:26:44.182Z"
   },
   {
    "duration": 4,
    "start_time": "2023-04-28T05:26:47.502Z"
   },
   {
    "duration": 35972,
    "start_time": "2023-04-28T05:26:51.160Z"
   },
   {
    "duration": 8,
    "start_time": "2023-04-28T05:27:32.830Z"
   },
   {
    "duration": 4,
    "start_time": "2023-04-28T05:27:35.334Z"
   },
   {
    "duration": 5,
    "start_time": "2023-04-28T05:27:38.549Z"
   },
   {
    "duration": 122,
    "start_time": "2023-04-28T05:45:16.319Z"
   },
   {
    "duration": 5,
    "start_time": "2023-04-28T05:45:18.959Z"
   },
   {
    "duration": 29495,
    "start_time": "2023-04-28T05:45:20.568Z"
   },
   {
    "duration": 10,
    "start_time": "2023-04-28T05:50:19.467Z"
   },
   {
    "duration": 5,
    "start_time": "2023-04-28T05:50:21.947Z"
   },
   {
    "duration": 5,
    "start_time": "2023-04-28T05:50:23.851Z"
   },
   {
    "duration": 3,
    "start_time": "2023-04-28T05:50:48.347Z"
   },
   {
    "duration": 10,
    "start_time": "2023-04-28T05:52:10.178Z"
   },
   {
    "duration": 9,
    "start_time": "2023-04-28T05:53:19.712Z"
   },
   {
    "duration": 9,
    "start_time": "2023-04-28T05:54:36.856Z"
   },
   {
    "duration": 3,
    "start_time": "2023-04-28T05:55:10.495Z"
   },
   {
    "duration": 5,
    "start_time": "2023-04-28T05:55:15.391Z"
   },
   {
    "duration": 4,
    "start_time": "2023-04-28T05:56:22.527Z"
   },
   {
    "duration": 8,
    "start_time": "2023-04-28T05:56:28.238Z"
   },
   {
    "duration": 10,
    "start_time": "2023-04-28T05:56:48.421Z"
   },
   {
    "duration": 107,
    "start_time": "2023-04-28T05:56:58.854Z"
   },
   {
    "duration": 1592,
    "start_time": "2023-04-28T05:57:26.894Z"
   },
   {
    "duration": 82,
    "start_time": "2023-04-28T05:57:45.317Z"
   },
   {
    "duration": 5,
    "start_time": "2023-04-28T05:57:46.437Z"
   },
   {
    "duration": 23650,
    "start_time": "2023-04-28T05:57:48.150Z"
   },
   {
    "duration": 9,
    "start_time": "2023-04-28T05:58:22.428Z"
   },
   {
    "duration": 9,
    "start_time": "2023-04-28T05:58:24.365Z"
   },
   {
    "duration": 5,
    "start_time": "2023-04-28T05:58:25.989Z"
   },
   {
    "duration": 9,
    "start_time": "2023-04-28T05:58:27.301Z"
   },
   {
    "duration": 4,
    "start_time": "2023-04-28T05:58:39.429Z"
   },
   {
    "duration": 6,
    "start_time": "2023-04-28T06:04:53.768Z"
   },
   {
    "duration": 6,
    "start_time": "2023-04-28T06:05:35.999Z"
   },
   {
    "duration": 5,
    "start_time": "2023-04-28T06:05:40.334Z"
   },
   {
    "duration": 6,
    "start_time": "2023-04-28T06:05:46.559Z"
   },
   {
    "duration": 4,
    "start_time": "2023-04-28T06:08:27.116Z"
   },
   {
    "duration": 3,
    "start_time": "2023-04-28T06:10:50.291Z"
   },
   {
    "duration": 2,
    "start_time": "2023-04-28T06:11:53.994Z"
   },
   {
    "duration": 17,
    "start_time": "2023-04-28T06:13:39.097Z"
   },
   {
    "duration": 7,
    "start_time": "2023-04-28T06:13:44.914Z"
   },
   {
    "duration": 246,
    "start_time": "2023-04-28T06:13:47.297Z"
   },
   {
    "duration": 5,
    "start_time": "2023-04-28T06:13:48.800Z"
   },
   {
    "duration": 30444,
    "start_time": "2023-04-28T06:13:49.720Z"
   },
   {
    "duration": 10,
    "start_time": "2023-04-28T06:23:41.081Z"
   },
   {
    "duration": 7,
    "start_time": "2023-04-28T06:23:46.400Z"
   },
   {
    "duration": 5,
    "start_time": "2023-04-28T06:23:59.368Z"
   },
   {
    "duration": 69,
    "start_time": "2023-04-28T06:24:00.543Z"
   },
   {
    "duration": 30408,
    "start_time": "2023-04-28T06:24:11.617Z"
   },
   {
    "duration": 10,
    "start_time": "2023-04-28T06:25:02.112Z"
   },
   {
    "duration": 8,
    "start_time": "2023-04-28T06:25:09.736Z"
   },
   {
    "duration": 117,
    "start_time": "2023-04-28T06:25:17.256Z"
   },
   {
    "duration": 5,
    "start_time": "2023-04-28T06:25:21.743Z"
   },
   {
    "duration": 36,
    "start_time": "2023-04-28T06:25:27.118Z"
   },
   {
    "duration": 4,
    "start_time": "2023-04-28T06:25:28.704Z"
   },
   {
    "duration": 25525,
    "start_time": "2023-04-28T06:25:29.887Z"
   },
   {
    "duration": 9,
    "start_time": "2023-04-28T06:25:58.271Z"
   },
   {
    "duration": 7,
    "start_time": "2023-04-28T06:33:33.969Z"
   },
   {
    "duration": 24,
    "start_time": "2023-04-28T06:33:59.792Z"
   },
   {
    "duration": 20,
    "start_time": "2023-04-28T06:34:03.367Z"
   },
   {
    "duration": 14,
    "start_time": "2023-04-28T06:34:13.288Z"
   },
   {
    "duration": 5,
    "start_time": "2023-04-28T06:34:18.880Z"
   },
   {
    "duration": 18,
    "start_time": "2023-04-28T06:34:32.440Z"
   },
   {
    "duration": 9,
    "start_time": "2023-04-28T06:34:41.984Z"
   },
   {
    "duration": 106,
    "start_time": "2023-04-28T06:34:51.680Z"
   },
   {
    "duration": 5,
    "start_time": "2023-04-28T06:34:53.639Z"
   },
   {
    "duration": 5,
    "start_time": "2023-04-28T06:34:54.336Z"
   },
   {
    "duration": 8,
    "start_time": "2023-04-28T06:34:56.240Z"
   },
   {
    "duration": 7,
    "start_time": "2023-04-28T06:37:35.670Z"
   },
   {
    "duration": 6,
    "start_time": "2023-04-28T06:38:12.101Z"
   },
   {
    "duration": 6,
    "start_time": "2023-04-28T06:38:18.044Z"
   },
   {
    "duration": 67,
    "start_time": "2023-04-28T06:38:21.149Z"
   },
   {
    "duration": 61,
    "start_time": "2023-04-28T06:38:27.445Z"
   },
   {
    "duration": 5,
    "start_time": "2023-04-28T06:38:29.484Z"
   },
   {
    "duration": 30291,
    "start_time": "2023-04-28T06:39:00.470Z"
   },
   {
    "duration": 11,
    "start_time": "2023-04-28T06:39:33.419Z"
   },
   {
    "duration": 8,
    "start_time": "2023-04-28T06:39:38.660Z"
   },
   {
    "duration": 5,
    "start_time": "2023-04-28T06:39:46.012Z"
   },
   {
    "duration": 20,
    "start_time": "2023-04-28T06:40:00.580Z"
   },
   {
    "duration": 9,
    "start_time": "2023-04-28T06:40:10.851Z"
   },
   {
    "duration": 5,
    "start_time": "2023-04-28T06:40:23.467Z"
   },
   {
    "duration": 9,
    "start_time": "2023-04-28T06:40:32.314Z"
   },
   {
    "duration": 5,
    "start_time": "2023-04-28T06:40:36.011Z"
   },
   {
    "duration": 24,
    "start_time": "2023-04-28T06:44:00.545Z"
   },
   {
    "duration": 24,
    "start_time": "2023-04-28T06:44:07.953Z"
   },
   {
    "duration": 23,
    "start_time": "2023-04-28T06:44:41.321Z"
   },
   {
    "duration": 8,
    "start_time": "2023-04-28T06:44:48.216Z"
   },
   {
    "duration": 7,
    "start_time": "2023-04-28T06:44:56.303Z"
   },
   {
    "duration": 1762,
    "start_time": "2023-04-28T06:46:47.222Z"
   },
   {
    "duration": 24,
    "start_time": "2023-04-28T06:49:03.196Z"
   },
   {
    "duration": 26,
    "start_time": "2023-04-28T06:50:02.036Z"
   },
   {
    "duration": 23,
    "start_time": "2023-04-28T06:50:17.083Z"
   },
   {
    "duration": 21,
    "start_time": "2023-04-28T06:50:34.538Z"
   },
   {
    "duration": 21,
    "start_time": "2023-04-28T06:53:41.945Z"
   },
   {
    "duration": 30,
    "start_time": "2023-04-28T06:53:46.064Z"
   },
   {
    "duration": 26,
    "start_time": "2023-04-28T06:53:50.809Z"
   },
   {
    "duration": 21,
    "start_time": "2023-04-28T06:53:58.080Z"
   },
   {
    "duration": 21,
    "start_time": "2023-04-28T06:54:02.699Z"
   },
   {
    "duration": 22,
    "start_time": "2023-04-28T06:54:07.776Z"
   },
   {
    "duration": 21,
    "start_time": "2023-04-28T06:54:14.560Z"
   },
   {
    "duration": 40,
    "start_time": "2023-04-28T06:54:23.841Z"
   },
   {
    "duration": 97347,
    "start_time": "2023-04-28T06:57:54.173Z"
   },
   {
    "duration": 1567886,
    "start_time": "2023-04-28T06:59:46.701Z"
   },
   {
    "duration": 4,
    "start_time": "2023-04-28T07:35:41.919Z"
   },
   {
    "duration": 3,
    "start_time": "2023-04-28T07:35:54.496Z"
   },
   {
    "duration": 32,
    "start_time": "2023-04-28T07:36:28.318Z"
   },
   {
    "duration": 10,
    "start_time": "2023-04-28T07:36:42.032Z"
   },
   {
    "duration": 1891,
    "start_time": "2023-04-28T07:36:43.871Z"
   },
   {
    "duration": 16,
    "start_time": "2023-04-28T07:36:50.230Z"
   },
   {
    "duration": 1187413,
    "start_time": "2023-04-28T07:37:09.679Z"
   },
   {
    "duration": 4,
    "start_time": "2023-04-28T07:58:04.433Z"
   },
   {
    "duration": 25,
    "start_time": "2023-04-28T07:58:20.957Z"
   },
   {
    "duration": 7,
    "start_time": "2023-04-28T07:58:23.958Z"
   },
   {
    "duration": 1679,
    "start_time": "2023-04-28T07:58:24.966Z"
   },
   {
    "duration": 12,
    "start_time": "2023-04-28T07:58:29.141Z"
   },
   {
    "duration": 7,
    "start_time": "2023-04-28T07:58:38.166Z"
   },
   {
    "duration": 1769,
    "start_time": "2023-04-28T07:58:39.165Z"
   },
   {
    "duration": 8,
    "start_time": "2023-04-28T07:58:46.733Z"
   },
   {
    "duration": 1699,
    "start_time": "2023-04-28T07:58:48.157Z"
   },
   {
    "duration": 11,
    "start_time": "2023-04-28T07:58:51.149Z"
   },
   {
    "duration": 961745,
    "start_time": "2023-04-28T07:58:58.341Z"
   },
   {
    "duration": 4,
    "start_time": "2023-04-28T08:21:21.363Z"
   },
   {
    "duration": 8,
    "start_time": "2023-04-28T08:21:32.955Z"
   },
   {
    "duration": 2010,
    "start_time": "2023-04-28T08:21:33.917Z"
   },
   {
    "duration": 10,
    "start_time": "2023-04-28T08:21:38.597Z"
   },
   {
    "duration": 280393,
    "start_time": "2023-04-28T08:24:12.617Z"
   },
   {
    "duration": 5,
    "start_time": "2023-04-28T08:28:53.012Z"
   },
   {
    "duration": 51694,
    "start_time": "2023-04-28T08:30:00.644Z"
   },
   {
    "duration": 22,
    "start_time": "2023-04-28T08:31:24.078Z"
   },
   {
    "duration": 22,
    "start_time": "2023-04-28T08:31:33.539Z"
   },
   {
    "duration": 4,
    "start_time": "2023-04-28T08:33:19.395Z"
   },
   {
    "duration": 203,
    "start_time": "2023-04-28T08:33:43.522Z"
   },
   {
    "duration": 34,
    "start_time": "2023-04-28T08:33:50.946Z"
   },
   {
    "duration": 3,
    "start_time": "2023-04-28T08:33:53.794Z"
   },
   {
    "duration": 28,
    "start_time": "2023-04-28T08:33:59.441Z"
   },
   {
    "duration": 4,
    "start_time": "2023-04-28T08:34:01.474Z"
   },
   {
    "duration": 28,
    "start_time": "2023-04-28T08:34:04.689Z"
   },
   {
    "duration": 3,
    "start_time": "2023-04-28T08:34:05.817Z"
   },
   {
    "duration": 42,
    "start_time": "2023-04-28T08:34:08.570Z"
   },
   {
    "duration": 4,
    "start_time": "2023-04-28T08:34:10.026Z"
   },
   {
    "duration": 36,
    "start_time": "2023-04-28T08:34:14.329Z"
   },
   {
    "duration": 4,
    "start_time": "2023-04-28T08:34:15.609Z"
   },
   {
    "duration": 37,
    "start_time": "2023-04-28T08:34:18.921Z"
   },
   {
    "duration": 3,
    "start_time": "2023-04-28T08:34:21.378Z"
   },
   {
    "duration": 26,
    "start_time": "2023-04-28T08:34:28.522Z"
   },
   {
    "duration": 8,
    "start_time": "2023-04-28T08:34:30.290Z"
   },
   {
    "duration": 1786,
    "start_time": "2023-04-28T08:34:31.089Z"
   },
   {
    "duration": 9,
    "start_time": "2023-04-28T08:34:34.313Z"
   },
   {
    "duration": 26,
    "start_time": "2023-04-28T08:34:36.233Z"
   },
   {
    "duration": 3,
    "start_time": "2023-04-28T08:34:37.594Z"
   },
   {
    "duration": 21,
    "start_time": "2023-04-28T08:34:54.273Z"
   },
   {
    "duration": 7,
    "start_time": "2023-04-28T08:34:56.275Z"
   },
   {
    "duration": 1592,
    "start_time": "2023-04-28T08:34:56.929Z"
   },
   {
    "duration": 33,
    "start_time": "2023-04-28T08:35:00.225Z"
   },
   {
    "duration": 4,
    "start_time": "2023-04-28T08:35:01.376Z"
   },
   {
    "duration": 28,
    "start_time": "2023-04-28T08:35:17.656Z"
   },
   {
    "duration": 4,
    "start_time": "2023-04-28T08:35:19.376Z"
   },
   {
    "duration": 30,
    "start_time": "2023-04-28T08:35:30.906Z"
   },
   {
    "duration": 4,
    "start_time": "2023-04-28T08:35:32.544Z"
   },
   {
    "duration": 31,
    "start_time": "2023-04-28T08:35:35.072Z"
   },
   {
    "duration": 3,
    "start_time": "2023-04-28T08:35:36.353Z"
   },
   {
    "duration": 30,
    "start_time": "2023-04-28T08:35:38.792Z"
   },
   {
    "duration": 4,
    "start_time": "2023-04-28T08:35:40.096Z"
   },
   {
    "duration": 31,
    "start_time": "2023-04-28T08:35:43.281Z"
   },
   {
    "duration": 4,
    "start_time": "2023-04-28T08:35:44.475Z"
   },
   {
    "duration": 33,
    "start_time": "2023-04-28T08:35:47.967Z"
   },
   {
    "duration": 4,
    "start_time": "2023-04-28T08:35:49.536Z"
   },
   {
    "duration": 25,
    "start_time": "2023-04-28T08:36:05.056Z"
   },
   {
    "duration": 5,
    "start_time": "2023-04-28T08:36:08.799Z"
   },
   {
    "duration": 41,
    "start_time": "2023-04-28T08:36:15.816Z"
   },
   {
    "duration": 3,
    "start_time": "2023-04-28T08:36:17.895Z"
   },
   {
    "duration": 4,
    "start_time": "2023-04-28T08:36:19.648Z"
   },
   {
    "duration": 37,
    "start_time": "2023-04-28T08:36:27.183Z"
   },
   {
    "duration": 3,
    "start_time": "2023-04-28T08:36:28.775Z"
   },
   {
    "duration": 42,
    "start_time": "2023-04-28T08:36:34.592Z"
   },
   {
    "duration": 54,
    "start_time": "2023-04-28T08:36:39.465Z"
   },
   {
    "duration": 4,
    "start_time": "2023-04-28T08:36:40.879Z"
   },
   {
    "duration": 49,
    "start_time": "2023-04-28T08:36:49.959Z"
   },
   {
    "duration": 53,
    "start_time": "2023-04-28T08:36:54.008Z"
   },
   {
    "duration": 4,
    "start_time": "2023-04-28T08:36:55.855Z"
   },
   {
    "duration": 37,
    "start_time": "2023-04-28T08:37:11.512Z"
   },
   {
    "duration": 37,
    "start_time": "2023-04-28T08:37:21.841Z"
   },
   {
    "duration": 30,
    "start_time": "2023-04-28T08:37:23.960Z"
   },
   {
    "duration": 4,
    "start_time": "2023-04-28T08:37:25.495Z"
   },
   {
    "duration": 47,
    "start_time": "2023-04-28T08:37:52.455Z"
   },
   {
    "duration": 4,
    "start_time": "2023-04-28T08:37:54.854Z"
   },
   {
    "duration": 38,
    "start_time": "2023-04-28T08:37:59.486Z"
   },
   {
    "duration": 4,
    "start_time": "2023-04-28T08:38:00.913Z"
   },
   {
    "duration": 40,
    "start_time": "2023-04-28T08:38:04.158Z"
   },
   {
    "duration": 3,
    "start_time": "2023-04-28T08:38:05.278Z"
   },
   {
    "duration": 42,
    "start_time": "2023-04-28T08:38:09.375Z"
   },
   {
    "duration": 4,
    "start_time": "2023-04-28T08:38:10.280Z"
   },
   {
    "duration": 37,
    "start_time": "2023-04-28T08:38:13.342Z"
   },
   {
    "duration": 4,
    "start_time": "2023-04-28T08:38:14.534Z"
   },
   {
    "duration": 30,
    "start_time": "2023-04-28T08:38:17.430Z"
   },
   {
    "duration": 4,
    "start_time": "2023-04-28T08:38:18.542Z"
   },
   {
    "duration": 32,
    "start_time": "2023-04-28T08:38:25.174Z"
   },
   {
    "duration": 5,
    "start_time": "2023-04-28T08:38:26.253Z"
   },
   {
    "duration": 3,
    "start_time": "2023-04-28T08:38:29.070Z"
   },
   {
    "duration": 28,
    "start_time": "2023-04-28T08:38:30.182Z"
   },
   {
    "duration": 4,
    "start_time": "2023-04-28T08:38:31.005Z"
   },
   {
    "duration": 9,
    "start_time": "2023-04-28T08:40:52.493Z"
   },
   {
    "duration": 1928,
    "start_time": "2023-04-28T08:40:58.884Z"
   },
   {
    "duration": 19,
    "start_time": "2023-04-28T08:41:01.620Z"
   },
   {
    "duration": 49,
    "start_time": "2023-04-28T08:41:03.429Z"
   },
   {
    "duration": 5,
    "start_time": "2023-04-28T08:41:05.180Z"
   },
   {
    "duration": 4,
    "start_time": "2023-04-28T08:41:06.292Z"
   },
   {
    "duration": 39,
    "start_time": "2023-04-28T08:41:12.662Z"
   },
   {
    "duration": 4,
    "start_time": "2023-04-28T08:41:14.125Z"
   },
   {
    "duration": 41,
    "start_time": "2023-04-28T08:41:18.084Z"
   },
   {
    "duration": 4,
    "start_time": "2023-04-28T08:41:19.003Z"
   },
   {
    "duration": 26,
    "start_time": "2023-04-28T08:41:21.909Z"
   },
   {
    "duration": 4,
    "start_time": "2023-04-28T08:41:23.131Z"
   },
   {
    "duration": 31,
    "start_time": "2023-04-28T08:41:29.798Z"
   },
   {
    "duration": 8,
    "start_time": "2023-04-28T08:41:31.923Z"
   },
   {
    "duration": 1850,
    "start_time": "2023-04-28T08:41:32.700Z"
   },
   {
    "duration": 15,
    "start_time": "2023-04-28T08:41:36.331Z"
   },
   {
    "duration": 30,
    "start_time": "2023-04-28T08:41:38.308Z"
   },
   {
    "duration": 4,
    "start_time": "2023-04-28T08:41:39.308Z"
   },
   {
    "duration": 31,
    "start_time": "2023-04-28T08:41:44.619Z"
   },
   {
    "duration": 5,
    "start_time": "2023-04-28T08:41:45.387Z"
   },
   {
    "duration": 45,
    "start_time": "2023-04-28T08:41:49.236Z"
   },
   {
    "duration": 4,
    "start_time": "2023-04-28T08:41:50.499Z"
   },
   {
    "duration": 39,
    "start_time": "2023-04-28T08:41:53.677Z"
   },
   {
    "duration": 4,
    "start_time": "2023-04-28T08:41:54.651Z"
   },
   {
    "duration": 32,
    "start_time": "2023-04-28T08:42:01.332Z"
   },
   {
    "duration": 3,
    "start_time": "2023-04-28T08:42:02.627Z"
   },
   {
    "duration": 34,
    "start_time": "2023-04-28T08:42:05.699Z"
   },
   {
    "duration": 4,
    "start_time": "2023-04-28T08:42:06.500Z"
   },
   {
    "duration": 26,
    "start_time": "2023-04-28T08:44:07.609Z"
   },
   {
    "duration": 8,
    "start_time": "2023-04-28T08:44:09.386Z"
   },
   {
    "duration": 1975,
    "start_time": "2023-04-28T08:44:10.058Z"
   },
   {
    "duration": 14,
    "start_time": "2023-04-28T08:44:13.984Z"
   },
   {
    "duration": 30,
    "start_time": "2023-04-28T08:44:18.241Z"
   },
   {
    "duration": 3,
    "start_time": "2023-04-28T08:44:19.289Z"
   },
   {
    "duration": 29,
    "start_time": "2023-04-28T08:44:23.145Z"
   },
   {
    "duration": 28,
    "start_time": "2023-04-28T08:44:25.642Z"
   },
   {
    "duration": 3,
    "start_time": "2023-04-28T08:44:26.849Z"
   },
   {
    "duration": 28,
    "start_time": "2023-04-28T08:44:29.385Z"
   },
   {
    "duration": 4,
    "start_time": "2023-04-28T08:44:30.180Z"
   },
   {
    "duration": 28,
    "start_time": "2023-04-28T08:44:32.730Z"
   },
   {
    "duration": 4,
    "start_time": "2023-04-28T08:44:33.778Z"
   },
   {
    "duration": 29,
    "start_time": "2023-04-28T08:44:36.354Z"
   },
   {
    "duration": 3,
    "start_time": "2023-04-28T08:44:37.190Z"
   },
   {
    "duration": 31,
    "start_time": "2023-04-28T08:44:40.009Z"
   },
   {
    "duration": 4,
    "start_time": "2023-04-28T08:44:41.130Z"
   },
   {
    "duration": 22,
    "start_time": "2023-04-28T08:45:47.385Z"
   },
   {
    "duration": 8,
    "start_time": "2023-04-28T08:45:49.180Z"
   },
   {
    "duration": 1938,
    "start_time": "2023-04-28T08:45:49.884Z"
   },
   {
    "duration": 15,
    "start_time": "2023-04-28T08:45:55.328Z"
   },
   {
    "duration": 21,
    "start_time": "2023-04-28T08:46:07.032Z"
   },
   {
    "duration": 8,
    "start_time": "2023-04-28T08:46:08.448Z"
   },
   {
    "duration": 1952,
    "start_time": "2023-04-28T08:46:09.297Z"
   },
   {
    "duration": 15,
    "start_time": "2023-04-28T08:46:12.449Z"
   },
   {
    "duration": 28,
    "start_time": "2023-04-28T08:46:15.296Z"
   },
   {
    "duration": 4,
    "start_time": "2023-04-28T08:46:16.952Z"
   },
   {
    "duration": 28,
    "start_time": "2023-04-28T08:46:20.599Z"
   },
   {
    "duration": 4,
    "start_time": "2023-04-28T08:46:21.584Z"
   },
   {
    "duration": 27,
    "start_time": "2023-04-28T08:46:29.688Z"
   },
   {
    "duration": 3,
    "start_time": "2023-04-28T08:46:31.496Z"
   },
   {
    "duration": 30,
    "start_time": "2023-04-28T08:46:33.712Z"
   },
   {
    "duration": 3,
    "start_time": "2023-04-28T08:46:34.503Z"
   },
   {
    "duration": 31,
    "start_time": "2023-04-28T08:46:36.882Z"
   },
   {
    "duration": 4,
    "start_time": "2023-04-28T08:46:37.991Z"
   },
   {
    "duration": 25,
    "start_time": "2023-04-28T08:46:40.585Z"
   },
   {
    "duration": 3,
    "start_time": "2023-04-28T08:46:41.991Z"
   },
   {
    "duration": 31,
    "start_time": "2023-04-28T08:46:45.200Z"
   },
   {
    "duration": 3,
    "start_time": "2023-04-28T08:46:46.223Z"
   },
   {
    "duration": 26,
    "start_time": "2023-04-28T08:47:00.247Z"
   },
   {
    "duration": 7,
    "start_time": "2023-04-28T08:47:01.579Z"
   },
   {
    "duration": 1828,
    "start_time": "2023-04-28T08:47:02.280Z"
   },
   {
    "duration": 7,
    "start_time": "2023-04-28T08:47:08.703Z"
   },
   {
    "duration": 25,
    "start_time": "2023-04-28T08:47:11.111Z"
   },
   {
    "duration": 3,
    "start_time": "2023-04-28T08:47:12.095Z"
   },
   {
    "duration": 24,
    "start_time": "2023-04-28T08:47:15.560Z"
   },
   {
    "duration": 3,
    "start_time": "2023-04-28T08:47:17.135Z"
   },
   {
    "duration": 24,
    "start_time": "2023-04-28T08:47:20.312Z"
   },
   {
    "duration": 3,
    "start_time": "2023-04-28T08:47:21.383Z"
   },
   {
    "duration": 23,
    "start_time": "2023-04-28T08:47:26.423Z"
   },
   {
    "duration": 7,
    "start_time": "2023-04-28T08:47:27.807Z"
   },
   {
    "duration": 1805,
    "start_time": "2023-04-28T08:47:28.711Z"
   },
   {
    "duration": 9,
    "start_time": "2023-04-28T08:47:31.447Z"
   },
   {
    "duration": 28,
    "start_time": "2023-04-28T08:47:34.741Z"
   },
   {
    "duration": 3,
    "start_time": "2023-04-28T08:47:37.183Z"
   },
   {
    "duration": 24,
    "start_time": "2023-04-28T08:47:40.495Z"
   },
   {
    "duration": 3,
    "start_time": "2023-04-28T08:47:41.527Z"
   },
   {
    "duration": 31,
    "start_time": "2023-04-28T08:47:44.486Z"
   },
   {
    "duration": 4,
    "start_time": "2023-04-28T08:47:45.685Z"
   },
   {
    "duration": 23,
    "start_time": "2023-04-28T08:47:47.759Z"
   },
   {
    "duration": 8,
    "start_time": "2023-04-28T08:47:48.799Z"
   },
   {
    "duration": 24,
    "start_time": "2023-04-28T08:47:51.622Z"
   },
   {
    "duration": 26,
    "start_time": "2023-04-28T08:47:53.585Z"
   },
   {
    "duration": 4,
    "start_time": "2023-04-28T08:47:54.614Z"
   },
   {
    "duration": 6,
    "start_time": "2023-04-28T08:52:36.052Z"
   },
   {
    "duration": 7,
    "start_time": "2023-04-28T08:52:52.059Z"
   },
   {
    "duration": 4930,
    "start_time": "2023-04-28T08:53:35.035Z"
   },
   {
    "duration": 3,
    "start_time": "2023-04-28T08:53:42.002Z"
   },
   {
    "duration": 4443,
    "start_time": "2023-04-28T08:53:46.122Z"
   },
   {
    "duration": 3,
    "start_time": "2023-04-28T08:53:53.051Z"
   },
   {
    "duration": 3,
    "start_time": "2023-04-28T08:53:55.893Z"
   },
   {
    "duration": 19,
    "start_time": "2023-04-28T08:55:07.058Z"
   },
   {
    "duration": 5,
    "start_time": "2023-04-28T08:57:16.160Z"
   },
   {
    "duration": 72,
    "start_time": "2023-04-28T08:57:19.586Z"
   },
   {
    "duration": 5,
    "start_time": "2023-04-28T08:57:26.779Z"
   },
   {
    "duration": 15,
    "start_time": "2023-04-28T08:57:32.655Z"
   },
   {
    "duration": 221,
    "start_time": "2023-04-28T08:58:12.728Z"
   },
   {
    "duration": 123,
    "start_time": "2023-04-28T08:58:23.384Z"
   },
   {
    "duration": 162,
    "start_time": "2023-04-28T08:58:31.479Z"
   },
   {
    "duration": 176,
    "start_time": "2023-04-28T08:58:55.942Z"
   },
   {
    "duration": 70,
    "start_time": "2023-04-28T08:59:10.822Z"
   },
   {
    "duration": 120,
    "start_time": "2023-04-28T08:59:19.158Z"
   },
   {
    "duration": 125,
    "start_time": "2023-04-28T08:59:25.895Z"
   },
   {
    "duration": 5,
    "start_time": "2023-04-28T08:59:35.430Z"
   },
   {
    "duration": 248,
    "start_time": "2023-04-28T08:59:39.629Z"
   },
   {
    "duration": 47154,
    "start_time": "2023-04-28T09:00:10.310Z"
   },
   {
    "duration": 22,
    "start_time": "2023-04-28T09:01:53.836Z"
   },
   {
    "duration": 47193,
    "start_time": "2023-04-28T09:02:33.877Z"
   },
   {
    "duration": 2053,
    "start_time": "2023-04-28T09:04:44.705Z"
   },
   {
    "duration": 8,
    "start_time": "2023-04-28T09:04:52.730Z"
   },
   {
    "duration": 50753,
    "start_time": "2023-04-28T09:05:14.506Z"
   },
   {
    "duration": 50017,
    "start_time": "2023-04-28T09:10:32.933Z"
   },
   {
    "duration": 22,
    "start_time": "2023-04-28T09:38:18.312Z"
   },
   {
    "duration": 1001,
    "start_time": "2023-04-28T09:38:47.152Z"
   },
   {
    "duration": 8,
    "start_time": "2023-04-28T09:41:21.590Z"
   },
   {
    "duration": 260,
    "start_time": "2023-04-28T09:43:39.220Z"
   },
   {
    "duration": 288,
    "start_time": "2023-04-28T09:44:42.628Z"
   },
   {
    "duration": 391,
    "start_time": "2023-04-28T09:44:47.436Z"
   },
   {
    "duration": 388,
    "start_time": "2023-04-28T09:45:01.899Z"
   },
   {
    "duration": 8,
    "start_time": "2023-04-28T09:45:06.866Z"
   },
   {
    "duration": 125,
    "start_time": "2023-04-28T09:45:36.914Z"
   },
   {
    "duration": 85166,
    "start_time": "2023-04-28T09:45:44.156Z"
   },
   {
    "duration": 67661,
    "start_time": "2023-04-28T09:50:31.309Z"
   },
   {
    "duration": 18959,
    "start_time": "2023-04-28T10:09:57.199Z"
   },
   {
    "duration": 19148,
    "start_time": "2023-04-28T10:10:42.248Z"
   },
   {
    "duration": 9,
    "start_time": "2023-04-28T10:11:37.686Z"
   },
   {
    "duration": 13,
    "start_time": "2023-04-28T10:11:52.782Z"
   },
   {
    "duration": 19124,
    "start_time": "2023-04-28T10:12:05.422Z"
   },
   {
    "duration": 676,
    "start_time": "2023-04-28T10:17:27.625Z"
   },
   {
    "duration": 475,
    "start_time": "2023-04-28T10:19:15.009Z"
   },
   {
    "duration": 4,
    "start_time": "2023-04-28T10:20:05.712Z"
   },
   {
    "duration": 448,
    "start_time": "2023-04-28T10:21:03.510Z"
   },
   {
    "duration": 416,
    "start_time": "2023-04-28T10:21:14.375Z"
   },
   {
    "duration": 407,
    "start_time": "2023-04-28T10:23:00.718Z"
   },
   {
    "duration": 176,
    "start_time": "2023-04-28T10:23:02.231Z"
   },
   {
    "duration": 775,
    "start_time": "2023-04-28T10:25:34.876Z"
   },
   {
    "duration": 211,
    "start_time": "2023-04-28T10:25:36.523Z"
   },
   {
    "duration": 7,
    "start_time": "2023-04-28T10:25:50.066Z"
   },
   {
    "duration": 386,
    "start_time": "2023-04-28T10:25:56.252Z"
   },
   {
    "duration": 150,
    "start_time": "2023-04-28T10:25:57.867Z"
   },
   {
    "duration": 394,
    "start_time": "2023-04-28T10:27:25.267Z"
   },
   {
    "duration": 155,
    "start_time": "2023-04-28T10:27:26.507Z"
   },
   {
    "duration": 422,
    "start_time": "2023-04-28T10:27:32.618Z"
   },
   {
    "duration": 177,
    "start_time": "2023-04-28T10:27:34.450Z"
   },
   {
    "duration": 444,
    "start_time": "2023-04-28T10:28:01.362Z"
   },
   {
    "duration": 166,
    "start_time": "2023-04-28T10:28:03.234Z"
   },
   {
    "duration": 407,
    "start_time": "2023-04-28T10:28:12.619Z"
   },
   {
    "duration": 190,
    "start_time": "2023-04-28T10:28:13.955Z"
   },
   {
    "duration": 416,
    "start_time": "2023-04-28T10:28:52.081Z"
   },
   {
    "duration": 167,
    "start_time": "2023-04-28T10:28:53.481Z"
   },
   {
    "duration": 67,
    "start_time": "2023-04-28T10:28:58.889Z"
   },
   {
    "duration": 133,
    "start_time": "2023-04-28T10:28:59.977Z"
   },
   {
    "duration": 70,
    "start_time": "2023-04-28T10:29:05.930Z"
   },
   {
    "duration": 422,
    "start_time": "2023-04-28T10:29:10.841Z"
   },
   {
    "duration": 154,
    "start_time": "2023-04-28T10:29:13.056Z"
   },
   {
    "duration": 72,
    "start_time": "2023-04-28T10:31:05.840Z"
   },
   {
    "duration": 747,
    "start_time": "2023-04-28T10:33:05.046Z"
   },
   {
    "duration": 175,
    "start_time": "2023-04-28T10:33:06.830Z"
   },
   {
    "duration": 91,
    "start_time": "2023-04-28T10:34:43.797Z"
   },
   {
    "duration": 78,
    "start_time": "2023-04-28T10:35:31.172Z"
   },
   {
    "duration": 25866,
    "start_time": "2023-04-28T10:35:36.076Z"
   },
   {
    "duration": 94,
    "start_time": "2023-04-28T10:38:19.658Z"
   },
   {
    "duration": 528,
    "start_time": "2023-04-28T10:38:21.473Z"
   },
   {
    "duration": 4,
    "start_time": "2023-04-28T10:38:28.169Z"
   },
   {
    "duration": 83,
    "start_time": "2023-04-28T10:38:33.082Z"
   },
   {
    "duration": 480,
    "start_time": "2023-04-28T10:39:25.564Z"
   },
   {
    "duration": 159,
    "start_time": "2023-04-28T10:39:28.713Z"
   },
   {
    "duration": 8,
    "start_time": "2023-04-28T10:39:41.177Z"
   },
   {
    "duration": 172,
    "start_time": "2023-04-28T10:39:51.065Z"
   },
   {
    "duration": 486,
    "start_time": "2023-04-28T10:39:55.290Z"
   },
   {
    "duration": 204,
    "start_time": "2023-04-28T10:39:57.857Z"
   },
   {
    "duration": 374,
    "start_time": "2023-04-28T10:43:18.575Z"
   },
   {
    "duration": 411,
    "start_time": "2023-04-28T10:44:03.006Z"
   },
   {
    "duration": 475,
    "start_time": "2023-04-28T10:51:12.080Z"
   },
   {
    "duration": 248,
    "start_time": "2023-04-28T10:51:13.640Z"
   },
   {
    "duration": 390,
    "start_time": "2023-04-28T10:54:10.965Z"
   },
   {
    "duration": 182,
    "start_time": "2023-04-28T10:54:13.342Z"
   },
   {
    "duration": 487,
    "start_time": "2023-04-28T10:55:34.573Z"
   },
   {
    "duration": 237,
    "start_time": "2023-04-28T10:55:37.757Z"
   },
   {
    "duration": 542,
    "start_time": "2023-04-28T11:15:35.902Z"
   },
   {
    "duration": 270,
    "start_time": "2023-04-28T11:15:37.372Z"
   },
   {
    "duration": 855,
    "start_time": "2023-04-28T12:36:58.476Z"
   },
   {
    "duration": 129,
    "start_time": "2023-04-28T13:03:57.083Z"
   },
   {
    "duration": 584,
    "start_time": "2023-04-28T13:03:58.839Z"
   },
   {
    "duration": 438,
    "start_time": "2023-04-28T13:04:48.631Z"
   },
   {
    "duration": 462,
    "start_time": "2023-04-28T13:05:23.613Z"
   },
   {
    "duration": 1808066,
    "start_time": "2023-04-28T13:05:25.811Z"
   },
   {
    "duration": 552,
    "start_time": "2023-04-28T13:35:36.701Z"
   },
   {
    "duration": 9282,
    "start_time": "2023-05-01T09:06:49.674Z"
   },
   {
    "duration": 3,
    "start_time": "2023-05-01T09:07:02.525Z"
   },
   {
    "duration": 590,
    "start_time": "2023-05-01T09:07:05.123Z"
   },
   {
    "duration": 6,
    "start_time": "2023-05-01T09:07:13.926Z"
   },
   {
    "duration": 9,
    "start_time": "2023-05-01T09:07:15.579Z"
   },
   {
    "duration": 9,
    "start_time": "2023-05-01T09:07:20.216Z"
   },
   {
    "duration": 6,
    "start_time": "2023-05-01T09:07:32.383Z"
   },
   {
    "duration": 260,
    "start_time": "2023-05-01T09:07:34.714Z"
   },
   {
    "duration": 9,
    "start_time": "2023-05-01T09:07:36.326Z"
   },
   {
    "duration": 35092,
    "start_time": "2023-05-01T09:07:40.104Z"
   },
   {
    "duration": 17,
    "start_time": "2023-05-01T09:15:51.375Z"
   },
   {
    "duration": 15,
    "start_time": "2023-05-01T09:15:55.977Z"
   },
   {
    "duration": 5,
    "start_time": "2023-05-01T09:16:00.096Z"
   },
   {
    "duration": 10,
    "start_time": "2023-05-01T09:16:12.183Z"
   },
   {
    "duration": 7,
    "start_time": "2023-05-01T09:16:15.803Z"
   },
   {
    "duration": 341,
    "start_time": "2023-05-01T09:16:25.128Z"
   },
   {
    "duration": 635,
    "start_time": "2023-05-01T09:16:52.259Z"
   },
   {
    "duration": 4364,
    "start_time": "2023-05-01T09:16:58.953Z"
   },
   {
    "duration": 438,
    "start_time": "2023-05-01T09:17:30.705Z"
   },
   {
    "duration": 527044,
    "start_time": "2023-05-01T09:17:34.275Z"
   },
   {
    "duration": 28227,
    "start_time": "2023-05-01T09:26:34.949Z"
   },
   {
    "duration": 500,
    "start_time": "2023-05-01T09:27:04.516Z"
   },
   {
    "duration": 140,
    "start_time": "2023-05-01T09:27:07.770Z"
   },
   {
    "duration": 454,
    "start_time": "2023-05-01T09:30:40.905Z"
   },
   {
    "duration": 120,
    "start_time": "2023-05-01T09:30:43.085Z"
   },
   {
    "duration": 445,
    "start_time": "2023-05-01T09:31:25.920Z"
   },
   {
    "duration": 138,
    "start_time": "2023-05-01T09:31:28.102Z"
   },
   {
    "duration": 495,
    "start_time": "2023-05-01T09:32:07.219Z"
   },
   {
    "duration": 486,
    "start_time": "2023-05-01T09:33:17.198Z"
   },
   {
    "duration": 133,
    "start_time": "2023-05-01T09:33:19.711Z"
   },
   {
    "duration": 492,
    "start_time": "2023-05-01T09:33:43.301Z"
   },
   {
    "duration": 135,
    "start_time": "2023-05-01T09:33:45.231Z"
   },
   {
    "duration": 471,
    "start_time": "2023-05-01T09:34:10.928Z"
   },
   {
    "duration": 550,
    "start_time": "2023-05-01T09:34:13.403Z"
   },
   {
    "duration": 418,
    "start_time": "2023-05-01T09:34:57.711Z"
   },
   {
    "duration": 1042,
    "start_time": "2023-05-01T09:34:59.775Z"
   },
   {
    "duration": 475,
    "start_time": "2023-05-01T09:35:35.600Z"
   },
   {
    "duration": 119,
    "start_time": "2023-05-01T09:35:37.797Z"
   },
   {
    "duration": 796,
    "start_time": "2023-05-01T09:37:04.350Z"
   },
   {
    "duration": 131,
    "start_time": "2023-05-01T09:37:06.819Z"
   },
   {
    "duration": 396,
    "start_time": "2023-05-01T09:37:16.319Z"
   },
   {
    "duration": 127,
    "start_time": "2023-05-01T09:37:18.807Z"
   },
   {
    "duration": 66,
    "start_time": "2023-05-01T09:42:32.493Z"
   },
   {
    "duration": 461,
    "start_time": "2023-05-01T09:42:42.217Z"
   },
   {
    "duration": 126,
    "start_time": "2023-05-01T09:42:44.206Z"
   },
   {
    "duration": 452,
    "start_time": "2023-05-01T09:42:58.840Z"
   },
   {
    "duration": 1754,
    "start_time": "2023-05-01T09:43:01.253Z"
   },
   {
    "duration": 616,
    "start_time": "2023-05-01T11:57:07.483Z"
   },
   {
    "duration": 402252,
    "start_time": "2023-05-01T11:57:10.313Z"
   },
   {
    "duration": 3969,
    "start_time": "2023-05-01T12:21:35.197Z"
   },
   {
    "duration": 3997,
    "start_time": "2023-05-01T12:21:45.548Z"
   },
   {
    "duration": 4659,
    "start_time": "2023-05-01T12:21:54.129Z"
   },
   {
    "duration": 4797,
    "start_time": "2023-05-01T12:22:03.699Z"
   },
   {
    "duration": 9,
    "start_time": "2023-05-01T13:01:14.614Z"
   },
   {
    "duration": 264,
    "start_time": "2023-05-01T13:02:23.050Z"
   },
   {
    "duration": 43879,
    "start_time": "2023-05-01T13:05:31.805Z"
   },
   {
    "duration": 14,
    "start_time": "2023-05-01T13:06:24.107Z"
   },
   {
    "duration": 8,
    "start_time": "2023-05-01T13:06:34.097Z"
   },
   {
    "duration": 3513,
    "start_time": "2023-05-01T13:07:05.487Z"
   },
   {
    "duration": 22426,
    "start_time": "2023-05-01T13:07:23.917Z"
   },
   {
    "duration": 20655,
    "start_time": "2023-05-01T13:08:49.581Z"
   },
   {
    "duration": 5,
    "start_time": "2023-05-01T13:11:01.734Z"
   },
   {
    "duration": 24441,
    "start_time": "2023-05-01T13:11:05.685Z"
   },
   {
    "duration": 11,
    "start_time": "2023-05-01T13:11:51.938Z"
   },
   {
    "duration": 22511,
    "start_time": "2023-05-01T13:12:11.127Z"
   },
   {
    "duration": 22594,
    "start_time": "2023-05-01T13:12:36.603Z"
   },
   {
    "duration": 23598,
    "start_time": "2023-05-01T13:13:05.942Z"
   },
   {
    "duration": 578,
    "start_time": "2023-05-01T13:13:49.159Z"
   },
   {
    "duration": 12944,
    "start_time": "2023-05-01T13:14:03.081Z"
   },
   {
    "duration": 293785,
    "start_time": "2023-05-01T13:14:17.612Z"
   },
   {
    "duration": 2318,
    "start_time": "2023-05-01T13:20:24.382Z"
   },
   {
    "duration": 16436,
    "start_time": "2023-05-01T13:21:28.777Z"
   },
   {
    "duration": 20911,
    "start_time": "2023-05-01T13:23:23.027Z"
   },
   {
    "duration": 20683,
    "start_time": "2023-05-01T13:23:57.240Z"
   },
   {
    "duration": 19725,
    "start_time": "2023-05-01T13:24:38.128Z"
   },
   {
    "duration": 21213,
    "start_time": "2023-05-01T13:25:02.686Z"
   },
   {
    "duration": 5,
    "start_time": "2023-05-01T13:25:37.384Z"
   },
   {
    "duration": 2429,
    "start_time": "2023-05-01T13:32:23.587Z"
   },
   {
    "duration": 15,
    "start_time": "2023-05-01T13:33:42.062Z"
   },
   {
    "duration": 20,
    "start_time": "2023-05-01T13:34:33.486Z"
   },
   {
    "duration": 2284,
    "start_time": "2023-05-01T13:34:40.038Z"
   },
   {
    "duration": 11237,
    "start_time": "2023-05-01T13:34:57.695Z"
   },
   {
    "duration": 22,
    "start_time": "2023-05-01T13:35:25.093Z"
   },
   {
    "duration": 23,
    "start_time": "2023-05-01T13:35:45.202Z"
   },
   {
    "duration": 26,
    "start_time": "2023-05-01T13:35:49.726Z"
   },
   {
    "duration": 24,
    "start_time": "2023-05-01T13:36:12.796Z"
   },
   {
    "duration": 2353,
    "start_time": "2023-05-01T13:40:54.799Z"
   },
   {
    "duration": 2848,
    "start_time": "2023-05-01T13:43:22.201Z"
   },
   {
    "duration": 21,
    "start_time": "2023-05-01T13:43:35.724Z"
   },
   {
    "duration": 22,
    "start_time": "2023-05-01T13:44:12.288Z"
   },
   {
    "duration": 19,
    "start_time": "2023-05-01T13:44:16.694Z"
   },
   {
    "duration": 2995,
    "start_time": "2023-05-01T13:45:40.899Z"
   },
   {
    "duration": 2508,
    "start_time": "2023-05-01T13:46:10.990Z"
   },
   {
    "duration": 30,
    "start_time": "2023-05-01T13:46:26.727Z"
   },
   {
    "duration": 28,
    "start_time": "2023-05-01T13:47:07.116Z"
   },
   {
    "duration": 29,
    "start_time": "2023-05-01T13:53:48.593Z"
   },
   {
    "duration": 16578,
    "start_time": "2023-05-01T13:53:58.396Z"
   },
   {
    "duration": 8,
    "start_time": "2023-05-01T13:54:14.976Z"
   },
   {
    "duration": 693,
    "start_time": "2023-05-01T13:54:14.986Z"
   },
   {
    "duration": 5,
    "start_time": "2023-05-01T13:54:15.681Z"
   },
   {
    "duration": 21,
    "start_time": "2023-05-01T13:54:15.690Z"
   },
   {
    "duration": 37,
    "start_time": "2023-05-01T13:54:15.713Z"
   },
   {
    "duration": 36,
    "start_time": "2023-05-01T13:54:15.752Z"
   },
   {
    "duration": 218,
    "start_time": "2023-05-01T13:54:15.790Z"
   },
   {
    "duration": 7,
    "start_time": "2023-05-01T13:54:16.010Z"
   },
   {
    "duration": 23,
    "start_time": "2023-05-01T13:54:16.020Z"
   },
   {
    "duration": 25501,
    "start_time": "2023-05-01T13:54:16.045Z"
   },
   {
    "duration": 22,
    "start_time": "2023-05-01T13:54:41.548Z"
   },
   {
    "duration": 30,
    "start_time": "2023-05-01T13:54:41.573Z"
   },
   {
    "duration": 7,
    "start_time": "2023-05-01T13:54:41.607Z"
   },
   {
    "duration": 11,
    "start_time": "2023-05-01T13:54:41.616Z"
   },
   {
    "duration": 10,
    "start_time": "2023-05-01T13:54:41.629Z"
   },
   {
    "duration": 23,
    "start_time": "2023-05-01T13:54:41.641Z"
   },
   {
    "duration": 1368,
    "start_time": "2023-05-01T13:54:41.673Z"
   },
   {
    "duration": 0,
    "start_time": "2023-05-01T13:54:43.603Z"
   },
   {
    "duration": 0,
    "start_time": "2023-05-01T13:54:43.657Z"
   },
   {
    "duration": 0,
    "start_time": "2023-05-01T13:54:43.658Z"
   },
   {
    "duration": 0,
    "start_time": "2023-05-01T13:54:43.658Z"
   },
   {
    "duration": 0,
    "start_time": "2023-05-01T13:54:43.659Z"
   },
   {
    "duration": 0,
    "start_time": "2023-05-01T13:54:43.660Z"
   },
   {
    "duration": 0,
    "start_time": "2023-05-01T13:54:43.673Z"
   },
   {
    "duration": 9,
    "start_time": "2023-05-01T13:55:04.225Z"
   },
   {
    "duration": 6,
    "start_time": "2023-05-01T13:55:16.692Z"
   },
   {
    "duration": 9,
    "start_time": "2023-05-01T13:55:19.906Z"
   },
   {
    "duration": 57,
    "start_time": "2023-05-01T13:55:42.720Z"
   },
   {
    "duration": 46,
    "start_time": "2023-05-01T13:56:01.996Z"
   },
   {
    "duration": 43,
    "start_time": "2023-05-01T13:56:19.346Z"
   },
   {
    "duration": 31,
    "start_time": "2023-05-01T13:57:33.595Z"
   },
   {
    "duration": 43,
    "start_time": "2023-05-01T13:58:32.311Z"
   },
   {
    "duration": 7,
    "start_time": "2023-05-01T13:59:45.569Z"
   },
   {
    "duration": 598,
    "start_time": "2023-05-01T13:59:52.927Z"
   },
   {
    "duration": 29,
    "start_time": "2023-05-01T14:00:53.924Z"
   },
   {
    "duration": 9,
    "start_time": "2023-05-01T14:01:11.090Z"
   },
   {
    "duration": 607,
    "start_time": "2023-05-01T14:01:12.885Z"
   },
   {
    "duration": 621,
    "start_time": "2023-05-01T14:01:34.357Z"
   },
   {
    "duration": 642,
    "start_time": "2023-05-01T14:02:21.105Z"
   },
   {
    "duration": 34,
    "start_time": "2023-05-01T14:02:36.186Z"
   },
   {
    "duration": 27,
    "start_time": "2023-05-01T14:02:50.703Z"
   },
   {
    "duration": 38,
    "start_time": "2023-05-01T14:03:07.056Z"
   },
   {
    "duration": 23,
    "start_time": "2023-05-01T14:03:13.136Z"
   },
   {
    "duration": 32,
    "start_time": "2023-05-01T14:03:16.002Z"
   },
   {
    "duration": 1973,
    "start_time": "2023-05-01T14:04:56.245Z"
   },
   {
    "duration": 6,
    "start_time": "2023-05-01T14:05:20.728Z"
   },
   {
    "duration": 39,
    "start_time": "2023-05-01T14:06:32.056Z"
   },
   {
    "duration": 40,
    "start_time": "2023-05-01T14:06:35.151Z"
   },
   {
    "duration": 43,
    "start_time": "2023-05-01T14:07:00.648Z"
   },
   {
    "duration": 43,
    "start_time": "2023-05-01T14:07:05.238Z"
   },
   {
    "duration": 43,
    "start_time": "2023-05-01T14:07:09.741Z"
   },
   {
    "duration": 40,
    "start_time": "2023-05-01T14:07:13.292Z"
   },
   {
    "duration": 31,
    "start_time": "2023-05-01T14:07:16.387Z"
   },
   {
    "duration": 38,
    "start_time": "2023-05-01T14:07:18.955Z"
   },
   {
    "duration": 34,
    "start_time": "2023-05-01T14:07:21.219Z"
   },
   {
    "duration": 62,
    "start_time": "2023-05-01T14:07:24.682Z"
   },
   {
    "duration": 43,
    "start_time": "2023-05-01T14:07:29.756Z"
   },
   {
    "duration": 31,
    "start_time": "2023-05-01T14:07:32.711Z"
   },
   {
    "duration": 52,
    "start_time": "2023-05-01T14:07:35.121Z"
   },
   {
    "duration": 33,
    "start_time": "2023-05-01T14:07:37.619Z"
   },
   {
    "duration": 44,
    "start_time": "2023-05-01T14:07:42.393Z"
   },
   {
    "duration": 4,
    "start_time": "2023-05-01T14:10:17.599Z"
   },
   {
    "duration": 143,
    "start_time": "2023-05-01T14:12:07.191Z"
   },
   {
    "duration": 2187,
    "start_time": "2023-05-01T14:13:28.047Z"
   },
   {
    "duration": 122,
    "start_time": "2023-05-01T14:13:38.467Z"
   },
   {
    "duration": 127,
    "start_time": "2023-05-01T14:14:08.004Z"
   },
   {
    "duration": 40,
    "start_time": "2023-05-01T14:15:04.802Z"
   },
   {
    "duration": 48,
    "start_time": "2023-05-01T14:18:32.154Z"
   },
   {
    "duration": 56,
    "start_time": "2023-05-01T14:18:34.829Z"
   },
   {
    "duration": 62,
    "start_time": "2023-05-01T14:18:38.309Z"
   },
   {
    "duration": 58,
    "start_time": "2023-05-01T14:18:42.447Z"
   },
   {
    "duration": 53,
    "start_time": "2023-05-01T14:18:58.579Z"
   },
   {
    "duration": 47,
    "start_time": "2023-05-01T14:19:02.981Z"
   },
   {
    "duration": 45,
    "start_time": "2023-05-01T14:19:07.007Z"
   },
   {
    "duration": 66,
    "start_time": "2023-05-01T14:19:10.217Z"
   },
   {
    "duration": 45,
    "start_time": "2023-05-01T14:19:15.525Z"
   },
   {
    "duration": 60,
    "start_time": "2023-05-01T14:19:19.153Z"
   },
   {
    "duration": 45,
    "start_time": "2023-05-01T14:19:22.779Z"
   },
   {
    "duration": 41,
    "start_time": "2023-05-01T14:19:26.717Z"
   },
   {
    "duration": 49,
    "start_time": "2023-05-01T14:19:31.254Z"
   },
   {
    "duration": 60,
    "start_time": "2023-05-01T14:19:34.385Z"
   },
   {
    "duration": 54,
    "start_time": "2023-05-01T14:19:37.229Z"
   },
   {
    "duration": 45,
    "start_time": "2023-05-01T14:19:39.273Z"
   },
   {
    "duration": 63,
    "start_time": "2023-05-01T14:19:43.483Z"
   },
   {
    "duration": 45,
    "start_time": "2023-05-01T14:19:48.060Z"
   },
   {
    "duration": 40,
    "start_time": "2023-05-01T14:19:51.201Z"
   },
   {
    "duration": 42,
    "start_time": "2023-05-01T14:19:55.008Z"
   },
   {
    "duration": 39,
    "start_time": "2023-05-01T14:19:58.582Z"
   },
   {
    "duration": 41,
    "start_time": "2023-05-01T14:20:01.187Z"
   },
   {
    "duration": 47,
    "start_time": "2023-05-01T14:20:03.221Z"
   },
   {
    "duration": 53,
    "start_time": "2023-05-01T14:20:22.835Z"
   },
   {
    "duration": 18,
    "start_time": "2023-05-01T14:24:59.040Z"
   },
   {
    "duration": 39926,
    "start_time": "2023-05-01T14:25:17.291Z"
   },
   {
    "duration": 4,
    "start_time": "2023-05-01T14:28:28.427Z"
   },
   {
    "duration": 11,
    "start_time": "2023-05-01T14:28:51.635Z"
   },
   {
    "duration": 6,
    "start_time": "2023-05-01T14:28:57.880Z"
   },
   {
    "duration": 11,
    "start_time": "2023-05-01T14:29:01.472Z"
   },
   {
    "duration": 2265,
    "start_time": "2023-05-01T14:29:12.643Z"
   },
   {
    "duration": 6,
    "start_time": "2023-05-01T14:29:21.733Z"
   },
   {
    "duration": 24,
    "start_time": "2023-05-01T14:29:49.612Z"
   },
   {
    "duration": 60,
    "start_time": "2023-05-01T14:30:44.246Z"
   },
   {
    "duration": 48,
    "start_time": "2023-05-01T14:30:51.383Z"
   },
   {
    "duration": 52,
    "start_time": "2023-05-01T14:30:54.640Z"
   },
   {
    "duration": 2217,
    "start_time": "2023-05-01T14:31:31.399Z"
   },
   {
    "duration": 42,
    "start_time": "2023-05-01T14:31:40.685Z"
   },
   {
    "duration": 49,
    "start_time": "2023-05-01T14:31:43.781Z"
   },
   {
    "duration": 586,
    "start_time": "2023-05-01T14:32:02.612Z"
   },
   {
    "duration": 415,
    "start_time": "2023-05-01T14:32:12.428Z"
   },
   {
    "duration": 227048,
    "start_time": "2023-05-01T14:32:42.185Z"
   },
   {
    "duration": 6,
    "start_time": "2023-05-01T15:19:17.737Z"
   },
   {
    "duration": 53,
    "start_time": "2023-05-01T15:19:23.895Z"
   },
   {
    "duration": 52,
    "start_time": "2023-05-01T15:19:33.819Z"
   },
   {
    "duration": 38,
    "start_time": "2023-05-01T15:19:36.605Z"
   },
   {
    "duration": 41,
    "start_time": "2023-05-01T15:19:39.529Z"
   },
   {
    "duration": 42,
    "start_time": "2023-05-01T15:19:42.770Z"
   },
   {
    "duration": 37,
    "start_time": "2023-05-01T15:19:46.894Z"
   },
   {
    "duration": 40,
    "start_time": "2023-05-01T15:19:50.414Z"
   },
   {
    "duration": 41,
    "start_time": "2023-05-01T15:19:54.268Z"
   },
   {
    "duration": 2418,
    "start_time": "2023-05-01T15:20:13.218Z"
   },
   {
    "duration": 517,
    "start_time": "2023-05-01T15:21:27.921Z"
   },
   {
    "duration": 603,
    "start_time": "2023-05-01T15:21:43.193Z"
   },
   {
    "duration": 228,
    "start_time": "2023-05-01T15:21:50.149Z"
   },
   {
    "duration": 639,
    "start_time": "2023-05-01T15:21:54.360Z"
   },
   {
    "duration": 1079,
    "start_time": "2023-05-01T15:21:58.578Z"
   },
   {
    "duration": 594,
    "start_time": "2023-05-01T15:22:03.538Z"
   },
   {
    "duration": 64,
    "start_time": "2023-05-01T15:22:22.235Z"
   },
   {
    "duration": 42,
    "start_time": "2023-05-01T15:22:38.696Z"
   },
   {
    "duration": 72,
    "start_time": "2023-05-01T15:22:44.458Z"
   },
   {
    "duration": 74,
    "start_time": "2023-05-01T15:22:59.322Z"
   },
   {
    "duration": 87,
    "start_time": "2023-05-01T15:24:16.852Z"
   },
   {
    "duration": 21986,
    "start_time": "2023-05-01T15:24:38.778Z"
   },
   {
    "duration": 9,
    "start_time": "2023-05-01T15:25:13.347Z"
   },
   {
    "duration": 2316,
    "start_time": "2023-05-01T15:25:17.080Z"
   },
   {
    "duration": 32,
    "start_time": "2023-05-01T15:25:30.441Z"
   },
   {
    "duration": 28,
    "start_time": "2023-05-01T15:25:40.451Z"
   },
   {
    "duration": 16,
    "start_time": "2023-05-01T15:26:13.014Z"
   },
   {
    "duration": 2454,
    "start_time": "2023-05-01T15:27:07.966Z"
   },
   {
    "duration": 31,
    "start_time": "2023-05-01T15:27:14.952Z"
   },
   {
    "duration": 579,
    "start_time": "2023-05-01T15:27:28.168Z"
   },
   {
    "duration": 2910,
    "start_time": "2023-05-01T15:27:37.067Z"
   },
   {
    "duration": 6153,
    "start_time": "2023-05-01T15:28:05.663Z"
   },
   {
    "duration": 81,
    "start_time": "2023-05-01T15:28:21.604Z"
   },
   {
    "duration": 71,
    "start_time": "2023-05-01T15:28:28.572Z"
   },
   {
    "duration": 81,
    "start_time": "2023-05-01T15:28:35.463Z"
   },
   {
    "duration": 90,
    "start_time": "2023-05-01T15:28:38.970Z"
   },
   {
    "duration": 8974,
    "start_time": "2023-05-01T15:29:02.475Z"
   },
   {
    "duration": 925,
    "start_time": "2023-05-01T15:31:27.483Z"
   },
   {
    "duration": 822,
    "start_time": "2023-05-01T15:31:54.860Z"
   },
   {
    "duration": 816,
    "start_time": "2023-05-01T15:32:00.913Z"
   },
   {
    "duration": 393,
    "start_time": "2023-05-01T15:32:06.003Z"
   },
   {
    "duration": 745,
    "start_time": "2023-05-01T15:32:14.828Z"
   },
   {
    "duration": 33967,
    "start_time": "2023-05-01T15:33:08.806Z"
   },
   {
    "duration": 36138,
    "start_time": "2023-05-01T15:34:28.520Z"
   },
   {
    "duration": 36331,
    "start_time": "2023-05-01T15:35:52.599Z"
   },
   {
    "duration": 100,
    "start_time": "2023-05-01T15:36:33.809Z"
   },
   {
    "duration": 4,
    "start_time": "2023-05-01T15:37:00.987Z"
   },
   {
    "duration": 28,
    "start_time": "2023-05-01T15:37:09.908Z"
   },
   {
    "duration": 146,
    "start_time": "2023-05-01T15:38:08.293Z"
   },
   {
    "duration": 384,
    "start_time": "2023-05-01T15:38:57.166Z"
   },
   {
    "duration": 321,
    "start_time": "2023-05-01T15:39:12.241Z"
   },
   {
    "duration": 4,
    "start_time": "2023-05-01T15:39:55.709Z"
   },
   {
    "duration": 336,
    "start_time": "2023-05-01T15:40:03.787Z"
   },
   {
    "duration": 35085,
    "start_time": "2023-05-01T15:41:26.819Z"
   },
   {
    "duration": 333336,
    "start_time": "2023-05-01T15:42:53.398Z"
   },
   {
    "duration": 2819,
    "start_time": "2023-05-01T15:53:22.734Z"
   },
   {
    "duration": 17,
    "start_time": "2023-05-01T15:53:33.726Z"
   },
   {
    "duration": 2406,
    "start_time": "2023-05-01T15:53:47.580Z"
   },
   {
    "duration": 23,
    "start_time": "2023-05-01T15:53:55.896Z"
   },
   {
    "duration": 306,
    "start_time": "2023-05-01T15:54:17.387Z"
   },
   {
    "duration": 2649,
    "start_time": "2023-05-01T15:54:51.630Z"
   },
   {
    "duration": 20,
    "start_time": "2023-05-01T15:55:04.193Z"
   },
   {
    "duration": 18,
    "start_time": "2023-05-01T15:55:36.367Z"
   },
   {
    "duration": 277,
    "start_time": "2023-05-01T15:55:48.355Z"
   },
   {
    "duration": 357,
    "start_time": "2023-05-01T15:56:01.524Z"
   },
   {
    "duration": 302,
    "start_time": "2023-05-01T15:56:12.029Z"
   },
   {
    "duration": 365,
    "start_time": "2023-05-01T15:56:23.926Z"
   },
   {
    "duration": 287,
    "start_time": "2023-05-01T15:56:28.306Z"
   },
   {
    "duration": 7514,
    "start_time": "2023-05-01T15:56:36.085Z"
   },
   {
    "duration": 324,
    "start_time": "2023-05-01T15:56:55.634Z"
   },
   {
    "duration": 7501,
    "start_time": "2023-05-01T15:57:21.479Z"
   },
   {
    "duration": 2090,
    "start_time": "2023-05-01T15:57:50.537Z"
   },
   {
    "duration": 17,
    "start_time": "2023-05-01T15:57:59.259Z"
   },
   {
    "duration": 8017,
    "start_time": "2023-05-01T15:58:07.834Z"
   },
   {
    "duration": 266,
    "start_time": "2023-05-01T15:58:29.533Z"
   },
   {
    "duration": 1038,
    "start_time": "2023-05-01T15:59:08.440Z"
   },
   {
    "duration": 1979,
    "start_time": "2023-05-01T15:59:19.166Z"
   },
   {
    "duration": 7852,
    "start_time": "2023-05-01T15:59:27.085Z"
   },
   {
    "duration": 290,
    "start_time": "2023-05-01T15:59:44.856Z"
   },
   {
    "duration": 57,
    "start_time": "2023-05-01T16:00:11.485Z"
   },
   {
    "duration": 258,
    "start_time": "2023-05-01T16:00:33.020Z"
   },
   {
    "duration": 2143,
    "start_time": "2023-05-01T16:00:51.400Z"
   },
   {
    "duration": 8104,
    "start_time": "2023-05-01T16:01:02.299Z"
   },
   {
    "duration": 313,
    "start_time": "2023-05-01T16:01:22.112Z"
   },
   {
    "duration": 2223,
    "start_time": "2023-05-01T16:01:40.054Z"
   },
   {
    "duration": 247,
    "start_time": "2023-05-01T16:01:50.566Z"
   },
   {
    "duration": 2222,
    "start_time": "2023-05-01T16:02:29.577Z"
   },
   {
    "duration": 298,
    "start_time": "2023-05-01T16:02:46.862Z"
   },
   {
    "duration": 11,
    "start_time": "2023-05-01T16:03:24.618Z"
   },
   {
    "duration": 37861,
    "start_time": "2023-05-01T16:03:31.744Z"
   },
   {
    "duration": 7,
    "start_time": "2023-05-01T16:04:22.003Z"
   },
   {
    "duration": 11,
    "start_time": "2023-05-01T16:04:36.305Z"
   },
   {
    "duration": 2463,
    "start_time": "2023-05-01T16:04:43.897Z"
   },
   {
    "duration": 13,
    "start_time": "2023-05-01T16:04:57.617Z"
   },
   {
    "duration": 8249,
    "start_time": "2023-05-01T16:05:05.499Z"
   },
   {
    "duration": 407,
    "start_time": "2023-05-01T16:05:23.923Z"
   },
   {
    "duration": 5922,
    "start_time": "2023-05-01T16:05:42.829Z"
   },
   {
    "duration": 314,
    "start_time": "2023-05-01T16:05:57.483Z"
   },
   {
    "duration": 370,
    "start_time": "2023-05-01T16:06:03.052Z"
   },
   {
    "duration": 281,
    "start_time": "2023-05-01T16:06:06.449Z"
   },
   {
    "duration": 364,
    "start_time": "2023-05-01T16:06:09.292Z"
   },
   {
    "duration": 325,
    "start_time": "2023-05-01T16:06:12.242Z"
   },
   {
    "duration": 7,
    "start_time": "2023-05-01T16:06:55.485Z"
   },
   {
    "duration": 3621,
    "start_time": "2023-05-01T16:07:10.109Z"
   },
   {
    "duration": 99,
    "start_time": "2023-05-01T16:07:26.045Z"
   },
   {
    "duration": 93,
    "start_time": "2023-05-01T16:07:30.827Z"
   },
   {
    "duration": 266,
    "start_time": "2023-05-01T16:07:45.158Z"
   },
   {
    "duration": 72,
    "start_time": "2023-05-01T16:08:29.631Z"
   },
   {
    "duration": 97,
    "start_time": "2023-05-01T16:10:17.913Z"
   },
   {
    "duration": 94,
    "start_time": "2023-05-01T16:10:24.074Z"
   },
   {
    "duration": 5609,
    "start_time": "2023-05-01T16:10:29.134Z"
   },
   {
    "duration": 32,
    "start_time": "2023-05-01T16:10:59.197Z"
   },
   {
    "duration": 6590,
    "start_time": "2023-05-01T16:11:48.286Z"
   },
   {
    "duration": 308,
    "start_time": "2023-05-01T16:12:00.464Z"
   },
   {
    "duration": 17375,
    "start_time": "2023-05-01T16:12:14.961Z"
   },
   {
    "duration": 333,
    "start_time": "2023-05-01T16:12:54.079Z"
   },
   {
    "duration": 2707,
    "start_time": "2023-05-01T16:13:20.849Z"
   },
   {
    "duration": 5110,
    "start_time": "2023-05-01T16:13:35.268Z"
   },
   {
    "duration": 251,
    "start_time": "2023-05-01T16:13:53.160Z"
   },
   {
    "duration": 174,
    "start_time": "2023-05-01T16:14:35.363Z"
   },
   {
    "duration": 8,
    "start_time": "2023-05-01T16:14:40.322Z"
   },
   {
    "duration": 6,
    "start_time": "2023-05-01T16:14:54.734Z"
   },
   {
    "duration": 10,
    "start_time": "2023-05-01T16:15:02.052Z"
   },
   {
    "duration": 6,
    "start_time": "2023-05-01T16:15:10.481Z"
   },
   {
    "duration": 42,
    "start_time": "2023-05-01T16:15:14.572Z"
   },
   {
    "duration": 5,
    "start_time": "2023-05-01T16:15:16.547Z"
   },
   {
    "duration": 6,
    "start_time": "2023-05-01T16:15:48.596Z"
   },
   {
    "duration": 21239,
    "start_time": "2023-05-01T16:15:54.005Z"
   },
   {
    "duration": 15,
    "start_time": "2023-05-01T16:16:20.771Z"
   },
   {
    "duration": 10,
    "start_time": "2023-05-01T16:16:25.396Z"
   },
   {
    "duration": 5,
    "start_time": "2023-05-01T16:16:28.585Z"
   },
   {
    "duration": 11,
    "start_time": "2023-05-01T16:16:31.476Z"
   },
   {
    "duration": 6,
    "start_time": "2023-05-01T16:16:33.503Z"
   },
   {
    "duration": 8,
    "start_time": "2023-05-01T16:16:43.491Z"
   },
   {
    "duration": 1941,
    "start_time": "2023-05-01T16:16:49.628Z"
   },
   {
    "duration": 4860,
    "start_time": "2023-05-01T16:17:03.824Z"
   },
   {
    "duration": 305,
    "start_time": "2023-05-01T16:17:13.595Z"
   },
   {
    "duration": 1985,
    "start_time": "2023-05-01T16:19:03.261Z"
   },
   {
    "duration": 5140,
    "start_time": "2023-05-01T16:19:22.346Z"
   },
   {
    "duration": 274,
    "start_time": "2023-05-01T16:19:31.394Z"
   },
   {
    "duration": 2247,
    "start_time": "2023-05-01T16:19:43.297Z"
   },
   {
    "duration": 10,
    "start_time": "2023-05-01T16:20:00.588Z"
   },
   {
    "duration": 9,
    "start_time": "2023-05-01T16:20:06.088Z"
   },
   {
    "duration": 2164,
    "start_time": "2023-05-01T16:20:33.098Z"
   },
   {
    "duration": 4867,
    "start_time": "2023-05-01T16:20:43.844Z"
   },
   {
    "duration": 270,
    "start_time": "2023-05-01T16:20:56.032Z"
   },
   {
    "duration": 297,
    "start_time": "2023-05-01T16:21:02.680Z"
   },
   {
    "duration": 2449,
    "start_time": "2023-05-01T16:21:22.949Z"
   },
   {
    "duration": 259,
    "start_time": "2023-05-01T16:21:38.686Z"
   },
   {
    "duration": 2565,
    "start_time": "2023-05-01T16:22:22.929Z"
   },
   {
    "duration": 5152,
    "start_time": "2023-05-01T16:22:31.416Z"
   },
   {
    "duration": 257,
    "start_time": "2023-05-01T16:22:45.783Z"
   },
   {
    "duration": 2428,
    "start_time": "2023-05-01T16:23:05.748Z"
   },
   {
    "duration": 5303,
    "start_time": "2023-05-01T16:23:12.387Z"
   },
   {
    "duration": 261,
    "start_time": "2023-05-01T16:23:27.981Z"
   },
   {
    "duration": 2562,
    "start_time": "2023-05-01T16:24:19.164Z"
   },
   {
    "duration": 5262,
    "start_time": "2023-05-01T16:24:27.589Z"
   },
   {
    "duration": 272,
    "start_time": "2023-05-01T16:24:40.568Z"
   },
   {
    "duration": 2396,
    "start_time": "2023-05-01T16:24:55.791Z"
   },
   {
    "duration": 310,
    "start_time": "2023-05-01T16:25:04.626Z"
   },
   {
    "duration": 5142,
    "start_time": "2023-05-01T16:25:11.374Z"
   },
   {
    "duration": 271,
    "start_time": "2023-05-01T16:25:25.650Z"
   },
   {
    "duration": 100,
    "start_time": "2023-05-01T16:25:56.220Z"
   },
   {
    "duration": 10,
    "start_time": "2023-05-01T16:26:48.411Z"
   },
   {
    "duration": 10,
    "start_time": "2023-05-01T16:26:52.296Z"
   },
   {
    "duration": 50,
    "start_time": "2023-05-01T16:26:55.498Z"
   },
   {
    "duration": 6,
    "start_time": "2023-05-01T16:26:57.349Z"
   },
   {
    "duration": 6,
    "start_time": "2023-05-01T16:27:01.785Z"
   },
   {
    "duration": 23212,
    "start_time": "2023-05-01T16:27:07.407Z"
   },
   {
    "duration": 122,
    "start_time": "2023-05-01T16:27:30.621Z"
   },
   {
    "duration": 5,
    "start_time": "2023-05-01T16:27:36.889Z"
   },
   {
    "duration": 9,
    "start_time": "2023-05-01T16:27:38.689Z"
   },
   {
    "duration": 8,
    "start_time": "2023-05-01T16:27:48.302Z"
   },
   {
    "duration": 6,
    "start_time": "2023-05-01T16:27:50.898Z"
   },
   {
    "duration": 27,
    "start_time": "2023-05-01T16:27:55.603Z"
   },
   {
    "duration": 7,
    "start_time": "2023-05-01T16:27:57.595Z"
   },
   {
    "duration": 8,
    "start_time": "2023-05-01T16:28:01.658Z"
   },
   {
    "duration": 24452,
    "start_time": "2023-05-01T16:28:04.810Z"
   },
   {
    "duration": 10,
    "start_time": "2023-05-01T16:28:36.403Z"
   },
   {
    "duration": 6,
    "start_time": "2023-05-01T16:28:41.956Z"
   },
   {
    "duration": 9,
    "start_time": "2023-05-01T16:28:44.537Z"
   },
   {
    "duration": 6,
    "start_time": "2023-05-01T16:28:48.098Z"
   },
   {
    "duration": 7,
    "start_time": "2023-05-01T16:28:53.194Z"
   },
   {
    "duration": 2536,
    "start_time": "2023-05-01T16:29:02.516Z"
   },
   {
    "duration": 6,
    "start_time": "2023-05-01T16:29:22.505Z"
   },
   {
    "duration": 13,
    "start_time": "2023-05-01T16:29:39.402Z"
   },
   {
    "duration": 5283,
    "start_time": "2023-05-01T16:29:43.990Z"
   },
   {
    "duration": 267,
    "start_time": "2023-05-01T16:30:02.492Z"
   },
   {
    "duration": 6,
    "start_time": "2023-05-01T16:30:28.634Z"
   },
   {
    "duration": 121,
    "start_time": "2023-05-01T16:30:36.203Z"
   },
   {
    "duration": 4,
    "start_time": "2023-05-01T16:30:41.005Z"
   },
   {
    "duration": 7,
    "start_time": "2023-05-01T16:30:43.582Z"
   },
   {
    "duration": 14,
    "start_time": "2023-05-01T16:30:47.945Z"
   },
   {
    "duration": 98,
    "start_time": "2023-05-01T16:30:55.431Z"
   },
   {
    "duration": 6,
    "start_time": "2023-05-01T16:30:59.396Z"
   },
   {
    "duration": 18,
    "start_time": "2023-05-01T16:31:12.962Z"
   },
   {
    "duration": 116,
    "start_time": "2023-05-01T16:31:20.842Z"
   },
   {
    "duration": 16,
    "start_time": "2023-05-01T16:31:26.148Z"
   },
   {
    "duration": 4386,
    "start_time": "2023-05-01T16:31:46.633Z"
   },
   {
    "duration": 3,
    "start_time": "2023-05-01T16:31:55.186Z"
   },
   {
    "duration": 214,
    "start_time": "2023-05-01T16:31:57.618Z"
   },
   {
    "duration": 5,
    "start_time": "2023-05-01T16:32:02.936Z"
   },
   {
    "duration": 18,
    "start_time": "2023-05-01T16:32:05.755Z"
   },
   {
    "duration": 9,
    "start_time": "2023-05-01T16:32:10.414Z"
   },
   {
    "duration": 6,
    "start_time": "2023-05-01T16:32:13.691Z"
   },
   {
    "duration": 45,
    "start_time": "2023-05-01T16:32:18.009Z"
   },
   {
    "duration": 7,
    "start_time": "2023-05-01T16:32:20.490Z"
   },
   {
    "duration": 9,
    "start_time": "2023-05-01T16:32:22.538Z"
   },
   {
    "duration": 26659,
    "start_time": "2023-05-01T16:32:24.644Z"
   },
   {
    "duration": 16,
    "start_time": "2023-05-01T16:32:56.793Z"
   },
   {
    "duration": 10,
    "start_time": "2023-05-01T16:32:59.689Z"
   },
   {
    "duration": 7,
    "start_time": "2023-05-01T16:33:03.051Z"
   },
   {
    "duration": 6,
    "start_time": "2023-05-01T16:33:05.704Z"
   },
   {
    "duration": 9,
    "start_time": "2023-05-01T16:33:11.789Z"
   },
   {
    "duration": 540,
    "start_time": "2023-05-01T16:33:21.010Z"
   },
   {
    "duration": 104,
    "start_time": "2023-05-01T16:33:38.208Z"
   },
   {
    "duration": 5,
    "start_time": "2023-05-01T16:33:44.807Z"
   },
   {
    "duration": 5,
    "start_time": "2023-05-01T16:33:50.013Z"
   },
   {
    "duration": 8,
    "start_time": "2023-05-01T16:33:52.399Z"
   },
   {
    "duration": 537,
    "start_time": "2023-05-02T06:13:17.670Z"
   },
   {
    "duration": 13697,
    "start_time": "2023-05-02T06:13:23.340Z"
   },
   {
    "duration": 2,
    "start_time": "2023-05-02T06:13:39.605Z"
   },
   {
    "duration": 541,
    "start_time": "2023-05-02T06:13:40.818Z"
   },
   {
    "duration": 4,
    "start_time": "2023-05-02T06:13:43.783Z"
   },
   {
    "duration": 9,
    "start_time": "2023-05-02T06:14:02.472Z"
   },
   {
    "duration": 8,
    "start_time": "2023-05-02T06:14:29.819Z"
   },
   {
    "duration": 5,
    "start_time": "2023-05-02T06:14:32.283Z"
   },
   {
    "duration": 7,
    "start_time": "2023-05-02T06:14:34.202Z"
   },
   {
    "duration": 7,
    "start_time": "2023-05-02T06:14:37.610Z"
   },
   {
    "duration": 310,
    "start_time": "2023-05-02T06:14:38.494Z"
   },
   {
    "duration": 5,
    "start_time": "2023-05-02T06:14:40.219Z"
   },
   {
    "duration": 4,
    "start_time": "2023-05-02T06:14:41.904Z"
   },
   {
    "duration": 43595,
    "start_time": "2023-05-02T06:14:43.306Z"
   },
   {
    "duration": 11,
    "start_time": "2023-05-02T06:15:45.582Z"
   },
   {
    "duration": 9,
    "start_time": "2023-05-02T06:15:53.679Z"
   },
   {
    "duration": 5,
    "start_time": "2023-05-02T06:15:56.505Z"
   },
   {
    "duration": 8,
    "start_time": "2023-05-02T06:15:58.921Z"
   },
   {
    "duration": 5,
    "start_time": "2023-05-02T06:16:05.379Z"
   },
   {
    "duration": 7,
    "start_time": "2023-05-02T06:16:09.700Z"
   },
   {
    "duration": 8,
    "start_time": "2023-05-02T06:16:13.705Z"
   },
   {
    "duration": 1623,
    "start_time": "2023-05-02T06:16:26.001Z"
   },
   {
    "duration": 9,
    "start_time": "2023-05-02T06:16:29.881Z"
   },
   {
    "duration": 4165,
    "start_time": "2023-05-02T06:16:35.582Z"
   },
   {
    "duration": 222,
    "start_time": "2023-05-02T06:16:51.991Z"
   },
   {
    "duration": 155,
    "start_time": "2023-05-02T06:17:04.697Z"
   },
   {
    "duration": 7,
    "start_time": "2023-05-02T06:17:35.329Z"
   },
   {
    "duration": 9,
    "start_time": "2023-05-02T06:17:37.728Z"
   },
   {
    "duration": 5,
    "start_time": "2023-05-02T06:17:45.008Z"
   },
   {
    "duration": 46,
    "start_time": "2023-05-02T06:17:46.481Z"
   },
   {
    "duration": 6,
    "start_time": "2023-05-02T06:17:48.884Z"
   },
   {
    "duration": 8,
    "start_time": "2023-05-02T06:17:50.721Z"
   },
   {
    "duration": 33707,
    "start_time": "2023-05-02T06:17:52.484Z"
   },
   {
    "duration": 10,
    "start_time": "2023-05-02T06:18:28.927Z"
   },
   {
    "duration": 8,
    "start_time": "2023-05-02T06:18:31.584Z"
   },
   {
    "duration": 5,
    "start_time": "2023-05-02T06:18:33.783Z"
   },
   {
    "duration": 8,
    "start_time": "2023-05-02T06:18:35.805Z"
   },
   {
    "duration": 5,
    "start_time": "2023-05-02T06:18:38.143Z"
   },
   {
    "duration": 8,
    "start_time": "2023-05-02T06:18:45.583Z"
   },
   {
    "duration": 1786,
    "start_time": "2023-05-02T06:18:47.880Z"
   },
   {
    "duration": 4157,
    "start_time": "2023-05-02T06:19:07.178Z"
   },
   {
    "duration": 3,
    "start_time": "2023-05-02T06:19:14.997Z"
   },
   {
    "duration": 103,
    "start_time": "2023-05-02T06:19:16.601Z"
   },
   {
    "duration": 4,
    "start_time": "2023-05-02T06:19:23.197Z"
   },
   {
    "duration": 6,
    "start_time": "2023-05-02T06:19:27.973Z"
   },
   {
    "duration": 8,
    "start_time": "2023-05-02T06:19:34.710Z"
   },
   {
    "duration": 5,
    "start_time": "2023-05-02T06:19:37.406Z"
   },
   {
    "duration": 37,
    "start_time": "2023-05-02T06:19:39.333Z"
   },
   {
    "duration": 5,
    "start_time": "2023-05-02T06:19:41.682Z"
   },
   {
    "duration": 5,
    "start_time": "2023-05-02T06:19:43.343Z"
   },
   {
    "duration": 32353,
    "start_time": "2023-05-02T06:19:46.134Z"
   },
   {
    "duration": 12,
    "start_time": "2023-05-02T06:20:23.491Z"
   },
   {
    "duration": 9,
    "start_time": "2023-05-02T06:20:26.201Z"
   },
   {
    "duration": 5,
    "start_time": "2023-05-02T06:20:28.637Z"
   },
   {
    "duration": 8,
    "start_time": "2023-05-02T06:20:30.821Z"
   },
   {
    "duration": 5,
    "start_time": "2023-05-02T06:20:32.975Z"
   },
   {
    "duration": 7,
    "start_time": "2023-05-02T06:20:46.911Z"
   },
   {
    "duration": 1708,
    "start_time": "2023-05-02T06:21:04.429Z"
   },
   {
    "duration": 10,
    "start_time": "2023-05-02T06:21:10.325Z"
   },
   {
    "duration": 4027,
    "start_time": "2023-05-02T06:21:13.437Z"
   },
   {
    "duration": 391,
    "start_time": "2023-05-02T06:21:23.725Z"
   },
   {
    "duration": 119,
    "start_time": "2023-05-02T06:43:48.221Z"
   },
   {
    "duration": 5,
    "start_time": "2023-05-02T06:43:52.679Z"
   },
   {
    "duration": 6,
    "start_time": "2023-05-02T06:43:54.852Z"
   },
   {
    "duration": 9,
    "start_time": "2023-05-02T06:43:56.516Z"
   },
   {
    "duration": 6,
    "start_time": "2023-05-02T06:43:59.083Z"
   },
   {
    "duration": 38,
    "start_time": "2023-05-02T06:43:59.875Z"
   },
   {
    "duration": 5,
    "start_time": "2023-05-02T06:44:01.091Z"
   },
   {
    "duration": 6,
    "start_time": "2023-05-02T06:44:02.332Z"
   },
   {
    "duration": 26320,
    "start_time": "2023-05-02T06:44:03.423Z"
   },
   {
    "duration": 11,
    "start_time": "2023-05-02T06:44:41.119Z"
   },
   {
    "duration": 10,
    "start_time": "2023-05-02T06:44:43.931Z"
   },
   {
    "duration": 147,
    "start_time": "2023-05-02T06:46:15.036Z"
   },
   {
    "duration": 5,
    "start_time": "2023-05-02T06:46:16.923Z"
   },
   {
    "duration": 6,
    "start_time": "2023-05-02T06:46:18.130Z"
   },
   {
    "duration": 8,
    "start_time": "2023-05-02T06:46:18.783Z"
   },
   {
    "duration": 5,
    "start_time": "2023-05-02T06:46:20.228Z"
   },
   {
    "duration": 29,
    "start_time": "2023-05-02T06:46:20.982Z"
   },
   {
    "duration": 5,
    "start_time": "2023-05-02T06:46:21.784Z"
   },
   {
    "duration": 5,
    "start_time": "2023-05-02T06:46:23.125Z"
   },
   {
    "duration": 25857,
    "start_time": "2023-05-02T06:46:24.178Z"
   },
   {
    "duration": 12,
    "start_time": "2023-05-02T06:47:03.183Z"
   },
   {
    "duration": 9,
    "start_time": "2023-05-02T06:47:05.385Z"
   },
   {
    "duration": 6,
    "start_time": "2023-05-02T06:47:06.756Z"
   },
   {
    "duration": 12,
    "start_time": "2023-05-02T06:47:07.737Z"
   },
   {
    "duration": 5,
    "start_time": "2023-05-02T06:47:09.184Z"
   },
   {
    "duration": 9,
    "start_time": "2023-05-02T06:47:13.124Z"
   },
   {
    "duration": 1960,
    "start_time": "2023-05-02T06:47:15.385Z"
   },
   {
    "duration": 13,
    "start_time": "2023-05-02T06:47:20.822Z"
   },
   {
    "duration": 4031,
    "start_time": "2023-05-02T06:47:25.089Z"
   },
   {
    "duration": 276,
    "start_time": "2023-05-02T06:47:40.723Z"
   },
   {
    "duration": 267,
    "start_time": "2023-05-02T06:48:04.616Z"
   },
   {
    "duration": 91,
    "start_time": "2023-05-02T06:48:40.612Z"
   },
   {
    "duration": 4,
    "start_time": "2023-05-02T06:48:42.528Z"
   },
   {
    "duration": 6,
    "start_time": "2023-05-02T06:48:43.331Z"
   },
   {
    "duration": 9,
    "start_time": "2023-05-02T06:48:44.891Z"
   },
   {
    "duration": 6,
    "start_time": "2023-05-02T06:48:46.340Z"
   },
   {
    "duration": 31,
    "start_time": "2023-05-02T06:48:47.212Z"
   },
   {
    "duration": 5,
    "start_time": "2023-05-02T06:48:47.955Z"
   },
   {
    "duration": 6,
    "start_time": "2023-05-02T06:48:49.591Z"
   },
   {
    "duration": 23429,
    "start_time": "2023-05-02T06:48:50.400Z"
   },
   {
    "duration": 12,
    "start_time": "2023-05-02T06:49:16.715Z"
   },
   {
    "duration": 10,
    "start_time": "2023-05-02T06:49:18.143Z"
   },
   {
    "duration": 5,
    "start_time": "2023-05-02T06:49:19.806Z"
   },
   {
    "duration": 9,
    "start_time": "2023-05-02T06:49:21.120Z"
   },
   {
    "duration": 5,
    "start_time": "2023-05-02T06:49:22.322Z"
   },
   {
    "duration": 7,
    "start_time": "2023-05-02T06:49:24.112Z"
   },
   {
    "duration": 1669,
    "start_time": "2023-05-02T06:49:24.964Z"
   },
   {
    "duration": 10,
    "start_time": "2023-05-02T06:49:28.383Z"
   },
   {
    "duration": 4358,
    "start_time": "2023-05-02T06:49:30.285Z"
   },
   {
    "duration": 258,
    "start_time": "2023-05-02T06:49:49.383Z"
   },
   {
    "duration": 4,
    "start_time": "2023-05-02T06:50:13.336Z"
   },
   {
    "duration": 99,
    "start_time": "2023-05-02T06:50:22.419Z"
   },
   {
    "duration": 110,
    "start_time": "2023-05-02T06:50:29.016Z"
   },
   {
    "duration": 5,
    "start_time": "2023-05-02T06:50:32.437Z"
   },
   {
    "duration": 5,
    "start_time": "2023-05-02T06:50:33.382Z"
   },
   {
    "duration": 9,
    "start_time": "2023-05-02T06:50:34.780Z"
   },
   {
    "duration": 5,
    "start_time": "2023-05-02T06:50:36.516Z"
   },
   {
    "duration": 57,
    "start_time": "2023-05-02T06:50:38.123Z"
   },
   {
    "duration": 5,
    "start_time": "2023-05-02T06:50:38.925Z"
   },
   {
    "duration": 5,
    "start_time": "2023-05-02T06:50:40.419Z"
   },
   {
    "duration": 24981,
    "start_time": "2023-05-02T06:50:41.728Z"
   },
   {
    "duration": 11,
    "start_time": "2023-05-02T06:51:08.816Z"
   },
   {
    "duration": 8,
    "start_time": "2023-05-02T06:51:10.541Z"
   },
   {
    "duration": 5,
    "start_time": "2023-05-02T06:51:12.120Z"
   },
   {
    "duration": 9,
    "start_time": "2023-05-02T06:51:13.342Z"
   },
   {
    "duration": 5,
    "start_time": "2023-05-02T06:51:14.628Z"
   },
   {
    "duration": 9,
    "start_time": "2023-05-02T06:51:19.437Z"
   },
   {
    "duration": 1774,
    "start_time": "2023-05-02T06:51:21.812Z"
   },
   {
    "duration": 11,
    "start_time": "2023-05-02T06:51:26.115Z"
   },
   {
    "duration": 4041,
    "start_time": "2023-05-02T06:51:29.723Z"
   },
   {
    "duration": 103,
    "start_time": "2023-05-02T06:54:46.815Z"
   },
   {
    "duration": 4,
    "start_time": "2023-05-02T06:54:48.452Z"
   },
   {
    "duration": 5,
    "start_time": "2023-05-02T06:54:53.124Z"
   },
   {
    "duration": 9,
    "start_time": "2023-05-02T06:54:55.079Z"
   },
   {
    "duration": 6,
    "start_time": "2023-05-02T06:54:56.604Z"
   },
   {
    "duration": 35,
    "start_time": "2023-05-02T06:54:58.019Z"
   },
   {
    "duration": 5,
    "start_time": "2023-05-02T06:54:59.182Z"
   },
   {
    "duration": 5,
    "start_time": "2023-05-02T06:55:05.652Z"
   },
   {
    "duration": 25136,
    "start_time": "2023-05-02T06:55:06.835Z"
   },
   {
    "duration": 11,
    "start_time": "2023-05-02T06:55:34.152Z"
   },
   {
    "duration": 10,
    "start_time": "2023-05-02T06:55:36.738Z"
   },
   {
    "duration": 5,
    "start_time": "2023-05-02T06:55:38.276Z"
   },
   {
    "duration": 8,
    "start_time": "2023-05-02T06:55:39.051Z"
   },
   {
    "duration": 5,
    "start_time": "2023-05-02T06:55:40.234Z"
   },
   {
    "duration": 7,
    "start_time": "2023-05-02T06:55:56.925Z"
   },
   {
    "duration": 1706,
    "start_time": "2023-05-02T06:56:00.316Z"
   },
   {
    "duration": 1611,
    "start_time": "2023-05-02T06:56:12.181Z"
   },
   {
    "duration": 1687,
    "start_time": "2023-05-02T06:56:24.028Z"
   },
   {
    "duration": 170,
    "start_time": "2023-05-02T06:56:28.449Z"
   },
   {
    "duration": 3810,
    "start_time": "2023-05-02T06:56:30.817Z"
   },
   {
    "duration": 242,
    "start_time": "2023-05-02T06:56:40.411Z"
   },
   {
    "duration": 96,
    "start_time": "2023-05-02T06:57:07.234Z"
   },
   {
    "duration": 4,
    "start_time": "2023-05-02T06:57:08.815Z"
   },
   {
    "duration": 4,
    "start_time": "2023-05-02T06:57:10.415Z"
   },
   {
    "duration": 5,
    "start_time": "2023-05-02T06:57:10.985Z"
   },
   {
    "duration": 8,
    "start_time": "2023-05-02T06:57:13.383Z"
   },
   {
    "duration": 6,
    "start_time": "2023-05-02T06:57:15.621Z"
   },
   {
    "duration": 44,
    "start_time": "2023-05-02T06:57:16.329Z"
   },
   {
    "duration": 5,
    "start_time": "2023-05-02T06:57:17.040Z"
   },
   {
    "duration": 5,
    "start_time": "2023-05-02T06:57:18.014Z"
   },
   {
    "duration": 26236,
    "start_time": "2023-05-02T06:57:19.317Z"
   },
   {
    "duration": 10,
    "start_time": "2023-05-02T06:57:53.001Z"
   },
   {
    "duration": 10,
    "start_time": "2023-05-02T06:57:54.232Z"
   },
   {
    "duration": 4,
    "start_time": "2023-05-02T06:57:55.474Z"
   },
   {
    "duration": 10,
    "start_time": "2023-05-02T06:57:56.411Z"
   },
   {
    "duration": 5,
    "start_time": "2023-05-02T06:58:10.214Z"
   },
   {
    "duration": 7,
    "start_time": "2023-05-02T06:58:16.233Z"
   },
   {
    "duration": 1801,
    "start_time": "2023-05-02T06:58:17.378Z"
   },
   {
    "duration": 11,
    "start_time": "2023-05-02T06:58:21.432Z"
   },
   {
    "duration": 4750,
    "start_time": "2023-05-02T06:58:24.517Z"
   },
   {
    "duration": 252,
    "start_time": "2023-05-02T06:58:36.318Z"
   },
   {
    "duration": 127,
    "start_time": "2023-05-02T06:58:59.736Z"
   },
   {
    "duration": 4,
    "start_time": "2023-05-02T06:59:01.679Z"
   },
   {
    "duration": 6,
    "start_time": "2023-05-02T07:10:48.081Z"
   },
   {
    "duration": 10,
    "start_time": "2023-05-02T07:10:49.006Z"
   },
   {
    "duration": 6,
    "start_time": "2023-05-02T07:10:50.479Z"
   },
   {
    "duration": 112,
    "start_time": "2023-05-02T07:10:51.196Z"
   },
   {
    "duration": 5,
    "start_time": "2023-05-02T07:11:08.709Z"
   },
   {
    "duration": 38395,
    "start_time": "2023-05-02T07:11:12.118Z"
   },
   {
    "duration": 4399,
    "start_time": "2023-05-02T07:12:49.925Z"
   },
   {
    "duration": 120,
    "start_time": "2023-05-02T07:12:54.846Z"
   },
   {
    "duration": 5,
    "start_time": "2023-05-02T07:12:57.732Z"
   },
   {
    "duration": 6,
    "start_time": "2023-05-02T07:12:58.719Z"
   },
   {
    "duration": 9,
    "start_time": "2023-05-02T07:13:00.349Z"
   },
   {
    "duration": 5,
    "start_time": "2023-05-02T07:13:01.603Z"
   },
   {
    "duration": 35,
    "start_time": "2023-05-02T07:13:02.941Z"
   },
   {
    "duration": 6,
    "start_time": "2023-05-02T07:13:03.628Z"
   },
   {
    "duration": 6,
    "start_time": "2023-05-02T07:13:04.437Z"
   },
   {
    "duration": 25614,
    "start_time": "2023-05-02T07:13:05.540Z"
   },
   {
    "duration": 11,
    "start_time": "2023-05-02T07:14:06.251Z"
   },
   {
    "duration": 8,
    "start_time": "2023-05-02T07:14:07.609Z"
   },
   {
    "duration": 4,
    "start_time": "2023-05-02T07:14:09.904Z"
   },
   {
    "duration": 10,
    "start_time": "2023-05-02T07:14:12.506Z"
   },
   {
    "duration": 5,
    "start_time": "2023-05-02T07:14:13.756Z"
   },
   {
    "duration": 8,
    "start_time": "2023-05-02T07:14:15.550Z"
   },
   {
    "duration": 1878,
    "start_time": "2023-05-02T07:14:16.933Z"
   },
   {
    "duration": 11,
    "start_time": "2023-05-02T07:14:25.420Z"
   },
   {
    "duration": 1703,
    "start_time": "2023-05-02T07:14:32.437Z"
   },
   {
    "duration": 11,
    "start_time": "2023-05-02T07:14:37.812Z"
   },
   {
    "duration": 13,
    "start_time": "2023-05-02T07:14:46.392Z"
   },
   {
    "duration": 4084,
    "start_time": "2023-05-02T07:14:49.251Z"
   },
   {
    "duration": 219,
    "start_time": "2023-05-02T07:14:59.482Z"
   },
   {
    "duration": 218,
    "start_time": "2023-05-02T07:15:58.755Z"
   },
   {
    "duration": 220,
    "start_time": "2023-05-02T07:16:03.919Z"
   },
   {
    "duration": 225,
    "start_time": "2023-05-02T07:16:12.412Z"
   },
   {
    "duration": 1729,
    "start_time": "2023-05-02T07:53:24.344Z"
   },
   {
    "duration": 255,
    "start_time": "2023-05-02T10:29:10.998Z"
   },
   {
    "duration": 6,
    "start_time": "2023-05-02T10:33:30.011Z"
   },
   {
    "duration": 489144,
    "start_time": "2023-05-02T10:33:33.300Z"
   },
   {
    "duration": 11,
    "start_time": "2023-05-02T10:41:42.446Z"
   },
   {
    "duration": 7,
    "start_time": "2023-05-02T10:42:13.780Z"
   },
   {
    "duration": 8,
    "start_time": "2023-05-02T10:42:19.600Z"
   },
   {
    "duration": 1772,
    "start_time": "2023-05-02T10:42:21.651Z"
   },
   {
    "duration": 10,
    "start_time": "2023-05-02T10:42:26.339Z"
   },
   {
    "duration": 4342,
    "start_time": "2023-05-02T10:42:50.904Z"
   },
   {
    "duration": 259,
    "start_time": "2023-05-02T10:43:01.731Z"
   },
   {
    "duration": 1903,
    "start_time": "2023-05-02T10:43:16.207Z"
   },
   {
    "duration": 15,
    "start_time": "2023-05-02T10:43:26.020Z"
   },
   {
    "duration": 4144,
    "start_time": "2023-05-02T10:43:31.579Z"
   },
   {
    "duration": 260,
    "start_time": "2023-05-02T10:43:41.747Z"
   },
   {
    "duration": 1998,
    "start_time": "2023-05-02T10:43:51.626Z"
   },
   {
    "duration": 13,
    "start_time": "2023-05-02T10:43:56.420Z"
   },
   {
    "duration": 4583,
    "start_time": "2023-05-02T10:44:14.946Z"
   },
   {
    "duration": 218,
    "start_time": "2023-05-02T10:44:32.538Z"
   },
   {
    "duration": 295,
    "start_time": "2023-05-02T10:44:44.613Z"
   },
   {
    "duration": 1782,
    "start_time": "2023-05-02T10:44:58.017Z"
   },
   {
    "duration": 9,
    "start_time": "2023-05-02T10:45:01.925Z"
   },
   {
    "duration": 3720,
    "start_time": "2023-05-02T10:45:06.321Z"
   },
   {
    "duration": 233,
    "start_time": "2023-05-02T10:45:13.925Z"
   },
   {
    "duration": 258,
    "start_time": "2023-05-02T10:45:18.525Z"
   },
   {
    "duration": 235,
    "start_time": "2023-05-02T10:45:33.779Z"
   },
   {
    "duration": 1908,
    "start_time": "2023-05-02T10:46:07.083Z"
   },
   {
    "duration": 4933,
    "start_time": "2023-05-02T11:03:42.332Z"
   },
   {
    "duration": 5317,
    "start_time": "2023-05-02T11:05:43.235Z"
   },
   {
    "duration": 321,
    "start_time": "2023-05-02T11:06:28.361Z"
   },
   {
    "duration": 303,
    "start_time": "2023-05-02T11:06:36.307Z"
   },
   {
    "duration": 70559,
    "start_time": "2023-05-02T11:06:53.613Z"
   },
   {
    "duration": 4,
    "start_time": "2023-05-02T11:08:43.648Z"
   },
   {
    "duration": 136138,
    "start_time": "2023-05-02T11:08:49.016Z"
   },
   {
    "duration": 5,
    "start_time": "2023-05-02T11:12:11.317Z"
   },
   {
    "duration": 4,
    "start_time": "2023-05-02T11:16:51.273Z"
   },
   {
    "duration": 17,
    "start_time": "2023-05-02T11:17:01.835Z"
   },
   {
    "duration": 18,
    "start_time": "2023-05-02T11:17:04.573Z"
   },
   {
    "duration": 4,
    "start_time": "2023-05-02T11:17:07.885Z"
   },
   {
    "duration": 9206,
    "start_time": "2023-05-02T11:18:47.945Z"
   },
   {
    "duration": 103,
    "start_time": "2023-05-02T11:19:00.408Z"
   },
   {
    "duration": 4,
    "start_time": "2023-05-02T11:19:11.673Z"
   },
   {
    "duration": 21951,
    "start_time": "2023-05-02T11:19:21.008Z"
   },
   {
    "duration": 292,
    "start_time": "2023-05-02T11:19:51.656Z"
   },
   {
    "duration": 5082,
    "start_time": "2023-05-02T11:20:04.728Z"
   },
   {
    "duration": 57,
    "start_time": "2023-05-02T11:20:16.122Z"
   },
   {
    "duration": 14043,
    "start_time": "2023-05-02T11:20:22.318Z"
   },
   {
    "duration": 305,
    "start_time": "2023-05-02T11:21:02.017Z"
   },
   {
    "duration": 21687,
    "start_time": "2023-05-02T11:21:09.382Z"
   },
   {
    "duration": 241,
    "start_time": "2023-05-02T11:21:42.074Z"
   },
   {
    "duration": 176,
    "start_time": "2023-05-02T11:21:46.126Z"
   },
   {
    "duration": 5,
    "start_time": "2023-05-02T11:21:48.818Z"
   },
   {
    "duration": 5,
    "start_time": "2023-05-02T11:21:49.423Z"
   },
   {
    "duration": 10,
    "start_time": "2023-05-02T11:21:51.237Z"
   },
   {
    "duration": 8,
    "start_time": "2023-05-02T11:21:53.737Z"
   },
   {
    "duration": 443,
    "start_time": "2023-05-02T11:21:54.485Z"
   },
   {
    "duration": 6,
    "start_time": "2023-05-02T11:21:55.589Z"
   },
   {
    "duration": 6,
    "start_time": "2023-05-02T11:21:56.624Z"
   },
   {
    "duration": 501672,
    "start_time": "2023-05-02T11:21:58.524Z"
   },
   {
    "duration": 33012,
    "start_time": "2023-05-02T11:31:34.134Z"
   },
   {
    "duration": 15,
    "start_time": "2023-05-02T11:32:14.915Z"
   },
   {
    "duration": 11,
    "start_time": "2023-05-02T11:32:15.990Z"
   },
   {
    "duration": 6,
    "start_time": "2023-05-02T11:32:17.734Z"
   },
   {
    "duration": 12,
    "start_time": "2023-05-02T11:32:18.406Z"
   },
   {
    "duration": 7,
    "start_time": "2023-05-02T11:32:19.726Z"
   },
   {
    "duration": 4,
    "start_time": "2023-05-02T11:32:21.890Z"
   },
   {
    "duration": 9,
    "start_time": "2023-05-02T11:32:23.207Z"
   },
   {
    "duration": 5806,
    "start_time": "2023-05-02T11:32:25.543Z"
   },
   {
    "duration": 61,
    "start_time": "2023-05-02T11:32:35.046Z"
   },
   {
    "duration": 23248,
    "start_time": "2023-05-02T11:32:48.890Z"
   },
   {
    "duration": 324,
    "start_time": "2023-05-02T11:33:21.712Z"
   },
   {
    "duration": 1940,
    "start_time": "2023-05-02T11:33:35.613Z"
   },
   {
    "duration": 15,
    "start_time": "2023-05-02T12:32:01.414Z"
   },
   {
    "duration": 19,
    "start_time": "2023-05-02T12:32:10.469Z"
   },
   {
    "duration": 4,
    "start_time": "2023-05-02T12:32:40.602Z"
   },
   {
    "duration": 17,
    "start_time": "2023-05-02T12:51:03.422Z"
   },
   {
    "duration": 16,
    "start_time": "2023-05-02T12:51:06.022Z"
   },
   {
    "duration": 17,
    "start_time": "2023-05-02T12:51:17.838Z"
   },
   {
    "duration": 18,
    "start_time": "2023-05-02T12:51:21.508Z"
   },
   {
    "duration": 5,
    "start_time": "2023-05-02T12:51:29.108Z"
   },
   {
    "duration": 330,
    "start_time": "2023-05-07T17:58:33.296Z"
   },
   {
    "duration": 9,
    "start_time": "2023-05-07T17:58:41.218Z"
   },
   {
    "duration": 4,
    "start_time": "2023-05-07T17:59:18.042Z"
   },
   {
    "duration": 203,
    "start_time": "2023-05-07T18:11:57.617Z"
   },
   {
    "duration": 21726,
    "start_time": "2023-05-07T18:12:06.099Z"
   },
   {
    "duration": 3,
    "start_time": "2023-05-07T18:12:27.828Z"
   },
   {
    "duration": 3,
    "start_time": "2023-05-07T18:12:31.276Z"
   },
   {
    "duration": 1001,
    "start_time": "2023-05-07T18:12:32.765Z"
   },
   {
    "duration": 5,
    "start_time": "2023-05-07T18:12:37.900Z"
   },
   {
    "duration": 6,
    "start_time": "2023-05-07T18:12:40.054Z"
   },
   {
    "duration": 10,
    "start_time": "2023-05-07T18:12:41.578Z"
   },
   {
    "duration": 6,
    "start_time": "2023-05-07T18:12:43.602Z"
   },
   {
    "duration": 311,
    "start_time": "2023-05-07T18:12:44.958Z"
   },
   {
    "duration": 7,
    "start_time": "2023-05-07T18:12:46.221Z"
   },
   {
    "duration": 6,
    "start_time": "2023-05-07T18:12:48.324Z"
   },
   {
    "duration": 49668,
    "start_time": "2023-05-07T18:12:54.199Z"
   },
   {
    "duration": 18,
    "start_time": "2023-05-07T18:14:14.632Z"
   },
   {
    "duration": 10,
    "start_time": "2023-05-07T18:14:18.709Z"
   },
   {
    "duration": 7,
    "start_time": "2023-05-07T18:14:21.165Z"
   },
   {
    "duration": 13,
    "start_time": "2023-05-07T18:14:23.264Z"
   },
   {
    "duration": 8,
    "start_time": "2023-05-07T18:14:24.868Z"
   },
   {
    "duration": 9,
    "start_time": "2023-05-07T18:14:30.014Z"
   },
   {
    "duration": 1969,
    "start_time": "2023-05-07T18:14:32.032Z"
   },
   {
    "duration": 13,
    "start_time": "2023-05-07T18:14:36.152Z"
   },
   {
    "duration": 7481,
    "start_time": "2023-05-07T18:14:43.620Z"
   },
   {
    "duration": 248,
    "start_time": "2023-05-07T18:15:03.759Z"
   },
   {
    "duration": 1008,
    "start_time": "2023-05-07T18:15:35.894Z"
   },
   {
    "duration": 948,
    "start_time": "2023-05-07T18:15:59.672Z"
   },
   {
    "duration": 970,
    "start_time": "2023-05-07T18:16:11.249Z"
   },
   {
    "duration": 930,
    "start_time": "2023-05-07T18:16:21.532Z"
   },
   {
    "duration": 1265,
    "start_time": "2023-05-07T18:16:26.554Z"
   },
   {
    "duration": 592,
    "start_time": "2023-05-07T18:16:33.676Z"
   },
   {
    "duration": 609,
    "start_time": "2023-05-07T18:16:37.679Z"
   },
   {
    "duration": 676,
    "start_time": "2023-05-07T18:16:42.298Z"
   },
   {
    "duration": 739,
    "start_time": "2023-05-07T18:16:50.370Z"
   },
   {
    "duration": 768,
    "start_time": "2023-05-07T18:16:59.778Z"
   },
   {
    "duration": 955,
    "start_time": "2023-05-07T18:17:10.502Z"
   },
   {
    "duration": 871,
    "start_time": "2023-05-07T18:17:18.720Z"
   },
   {
    "duration": 909,
    "start_time": "2023-05-07T18:17:26.848Z"
   },
   {
    "duration": 945,
    "start_time": "2023-05-07T18:17:37.579Z"
   },
   {
    "duration": 612,
    "start_time": "2023-05-07T18:18:25.158Z"
   },
   {
    "duration": 576,
    "start_time": "2023-05-07T18:18:35.948Z"
   },
   {
    "duration": 650,
    "start_time": "2023-05-07T18:18:40.319Z"
   },
   {
    "duration": 695,
    "start_time": "2023-05-07T18:18:49.538Z"
   },
   {
    "duration": 817,
    "start_time": "2023-05-07T18:18:56.810Z"
   },
   {
    "duration": 421,
    "start_time": "2023-05-07T18:19:06.771Z"
   },
   {
    "duration": 347,
    "start_time": "2023-05-07T18:19:11.414Z"
   },
   {
    "duration": 1845,
    "start_time": "2023-05-07T18:19:17.331Z"
   },
   {
    "duration": 591,
    "start_time": "2023-05-07T18:19:29.906Z"
   },
   {
    "duration": 530,
    "start_time": "2023-05-07T18:19:42.373Z"
   },
   {
    "duration": 507,
    "start_time": "2023-05-07T18:19:48.437Z"
   },
   {
    "duration": 514,
    "start_time": "2023-05-07T18:19:52.653Z"
   },
   {
    "duration": 478,
    "start_time": "2023-05-07T18:19:56.818Z"
   },
   {
    "duration": 465,
    "start_time": "2023-05-07T18:20:28.235Z"
   },
   {
    "duration": 457,
    "start_time": "2023-05-07T18:20:44.747Z"
   },
   {
    "duration": 485,
    "start_time": "2023-05-07T18:20:52.181Z"
   },
   {
    "duration": 473,
    "start_time": "2023-05-07T18:21:09.861Z"
   },
   {
    "duration": 477,
    "start_time": "2023-05-07T18:21:19.795Z"
   },
   {
    "duration": 411,
    "start_time": "2023-05-07T18:21:28.471Z"
   },
   {
    "duration": 528,
    "start_time": "2023-05-07T18:21:40.492Z"
   },
   {
    "duration": 561,
    "start_time": "2023-05-07T18:21:49.762Z"
   },
   {
    "duration": 590,
    "start_time": "2023-05-07T18:21:58.988Z"
   },
   {
    "duration": 633,
    "start_time": "2023-05-07T18:22:12.177Z"
   },
   {
    "duration": 471,
    "start_time": "2023-05-07T18:22:20.190Z"
   },
   {
    "duration": 746,
    "start_time": "2023-05-07T18:22:26.226Z"
   },
   {
    "duration": 525,
    "start_time": "2023-05-07T18:22:30.397Z"
   },
   {
    "duration": 461,
    "start_time": "2023-05-07T18:22:39.115Z"
   },
   {
    "duration": 959,
    "start_time": "2023-05-07T18:24:15.644Z"
   },
   {
    "duration": 805,
    "start_time": "2023-05-07T18:24:30.049Z"
   },
   {
    "duration": 743,
    "start_time": "2023-05-07T18:24:48.568Z"
   },
   {
    "duration": 702,
    "start_time": "2023-05-07T18:24:54.139Z"
   },
   {
    "duration": 745,
    "start_time": "2023-05-07T18:24:58.033Z"
   },
   {
    "duration": 830,
    "start_time": "2023-05-07T18:25:01.658Z"
   },
   {
    "duration": 3,
    "start_time": "2023-05-07T18:40:13.001Z"
   },
   {
    "duration": 16560,
    "start_time": "2023-05-10T05:35:17.365Z"
   },
   {
    "duration": 2,
    "start_time": "2023-05-10T05:35:36.035Z"
   },
   {
    "duration": 586,
    "start_time": "2023-05-10T05:35:37.835Z"
   },
   {
    "duration": 5,
    "start_time": "2023-05-10T05:35:40.682Z"
   },
   {
    "duration": 6,
    "start_time": "2023-05-10T05:35:45.482Z"
   },
   {
    "duration": 11,
    "start_time": "2023-05-10T05:35:48.745Z"
   },
   {
    "duration": 6,
    "start_time": "2023-05-10T05:35:49.883Z"
   },
   {
    "duration": 464,
    "start_time": "2023-05-10T05:35:50.715Z"
   },
   {
    "duration": 6,
    "start_time": "2023-05-10T05:35:52.115Z"
   },
   {
    "duration": 6,
    "start_time": "2023-05-10T05:36:04.059Z"
   },
   {
    "duration": 6,
    "start_time": "2023-05-10T05:36:11.410Z"
   },
   {
    "duration": 45619,
    "start_time": "2023-05-10T05:36:12.962Z"
   },
   {
    "duration": 10,
    "start_time": "2023-05-10T05:37:02.698Z"
   },
   {
    "duration": 14,
    "start_time": "2023-05-10T05:37:04.402Z"
   },
   {
    "duration": 5,
    "start_time": "2023-05-10T05:37:06.049Z"
   },
   {
    "duration": 10,
    "start_time": "2023-05-10T05:37:06.978Z"
   },
   {
    "duration": 5,
    "start_time": "2023-05-10T05:37:08.017Z"
   },
   {
    "duration": 13,
    "start_time": "2023-05-10T05:37:11.426Z"
   },
   {
    "duration": 437,
    "start_time": "2023-05-10T05:37:16.102Z"
   },
   {
    "duration": 1750,
    "start_time": "2023-05-10T05:37:20.937Z"
   },
   {
    "duration": 6387,
    "start_time": "2023-05-10T05:37:27.538Z"
   },
   {
    "duration": 246,
    "start_time": "2023-05-10T05:37:43.056Z"
   },
   {
    "duration": 99,
    "start_time": "2023-05-10T05:38:04.121Z"
   },
   {
    "duration": 4,
    "start_time": "2023-05-10T05:38:05.729Z"
   },
   {
    "duration": 4,
    "start_time": "2023-05-10T05:38:06.273Z"
   },
   {
    "duration": 8,
    "start_time": "2023-05-10T05:38:07.513Z"
   },
   {
    "duration": 5,
    "start_time": "2023-05-10T05:38:08.729Z"
   },
   {
    "duration": 35,
    "start_time": "2023-05-10T05:38:10.040Z"
   },
   {
    "duration": 5,
    "start_time": "2023-05-10T05:38:10.736Z"
   },
   {
    "duration": 5,
    "start_time": "2023-05-10T05:38:12.100Z"
   },
   {
    "duration": 22909,
    "start_time": "2023-05-10T05:38:13.584Z"
   },
   {
    "duration": 9,
    "start_time": "2023-05-10T05:38:50.057Z"
   },
   {
    "duration": 9,
    "start_time": "2023-05-10T05:38:51.671Z"
   },
   {
    "duration": 5,
    "start_time": "2023-05-10T05:38:53.080Z"
   },
   {
    "duration": 9,
    "start_time": "2023-05-10T05:38:54.464Z"
   },
   {
    "duration": 5,
    "start_time": "2023-05-10T05:38:55.601Z"
   },
   {
    "duration": 7,
    "start_time": "2023-05-10T05:38:57.015Z"
   },
   {
    "duration": 1668,
    "start_time": "2023-05-10T05:38:58.112Z"
   },
   {
    "duration": 6402,
    "start_time": "2023-05-10T05:39:02.240Z"
   },
   {
    "duration": 234,
    "start_time": "2023-05-10T05:39:15.398Z"
   },
   {
    "duration": 724,
    "start_time": "2023-05-10T05:39:26.207Z"
   },
   {
    "duration": 676,
    "start_time": "2023-05-10T05:43:49.781Z"
   },
   {
    "duration": 447,
    "start_time": "2023-05-10T05:44:45.435Z"
   },
   {
    "duration": 441,
    "start_time": "2023-05-10T05:44:59.114Z"
   },
   {
    "duration": 1860,
    "start_time": "2023-05-10T05:45:18.123Z"
   },
   {
    "duration": 6635,
    "start_time": "2023-05-10T05:45:39.301Z"
   },
   {
    "duration": 67,
    "start_time": "2023-05-10T05:49:01.529Z"
   },
   {
    "duration": 2226,
    "start_time": "2023-05-10T05:49:07.256Z"
   },
   {
    "duration": 235163,
    "start_time": "2023-05-10T05:49:19.127Z"
   },
   {
    "duration": 17,
    "start_time": "2023-05-10T05:58:20.272Z"
   },
   {
    "duration": 19,
    "start_time": "2023-05-10T05:58:28.448Z"
   },
   {
    "duration": 255,
    "start_time": "2023-05-10T05:59:09.209Z"
   },
   {
    "duration": 4,
    "start_time": "2023-05-10T05:59:53.216Z"
   },
   {
    "duration": 17,
    "start_time": "2023-05-10T06:00:03.168Z"
   },
   {
    "duration": 19,
    "start_time": "2023-05-10T06:00:14.608Z"
   },
   {
    "duration": 16,
    "start_time": "2023-05-10T06:00:22.407Z"
   },
   {
    "duration": 231377,
    "start_time": "2023-05-10T06:03:39.220Z"
   },
   {
    "duration": 811,
    "start_time": "2023-05-10T06:07:30.599Z"
   },
   {
    "duration": 807,
    "start_time": "2023-05-10T06:07:49.355Z"
   },
   {
    "duration": 1796,
    "start_time": "2023-05-10T06:09:18.202Z"
   },
   {
    "duration": 6848,
    "start_time": "2023-05-10T06:09:24.511Z"
   },
   {
    "duration": 242,
    "start_time": "2023-05-10T06:09:35.376Z"
   },
   {
    "duration": 1801,
    "start_time": "2023-05-10T06:09:44.264Z"
   },
   {
    "duration": 6472,
    "start_time": "2023-05-10T06:09:52.872Z"
   },
   {
    "duration": 228,
    "start_time": "2023-05-10T06:10:09.809Z"
   },
   {
    "duration": 1724,
    "start_time": "2023-05-10T06:10:21.023Z"
   },
   {
    "duration": 5958,
    "start_time": "2023-05-10T06:10:26.257Z"
   },
   {
    "duration": 246,
    "start_time": "2023-05-10T06:10:37.572Z"
   },
   {
    "duration": 1742,
    "start_time": "2023-05-10T06:10:47.776Z"
   },
   {
    "duration": 6020,
    "start_time": "2023-05-10T06:10:52.223Z"
   },
   {
    "duration": 234,
    "start_time": "2023-05-10T06:11:03.776Z"
   },
   {
    "duration": 1681,
    "start_time": "2023-05-10T06:11:15.118Z"
   },
   {
    "duration": 5309,
    "start_time": "2023-05-10T06:11:21.470Z"
   },
   {
    "duration": 233,
    "start_time": "2023-05-10T06:11:32.113Z"
   },
   {
    "duration": 33,
    "start_time": "2023-05-10T06:22:03.893Z"
   },
   {
    "duration": 484,
    "start_time": "2023-05-10T06:22:23.238Z"
   },
   {
    "duration": 3,
    "start_time": "2023-05-10T06:22:39.566Z"
   },
   {
    "duration": 511,
    "start_time": "2023-05-10T06:22:44.973Z"
   },
   {
    "duration": 670,
    "start_time": "2023-05-10T06:23:27.781Z"
   },
   {
    "duration": 473,
    "start_time": "2023-05-10T06:24:29.725Z"
   },
   {
    "duration": 11600,
    "start_time": "2023-05-10T06:25:16.083Z"
   },
   {
    "duration": 455,
    "start_time": "2023-05-10T06:25:39.908Z"
   },
   {
    "duration": 4323,
    "start_time": "2023-05-10T06:26:10.914Z"
   },
   {
    "duration": 453,
    "start_time": "2023-05-10T06:31:52.511Z"
   },
   {
    "duration": 500,
    "start_time": "2023-05-10T06:34:02.198Z"
   },
   {
    "duration": 498,
    "start_time": "2023-05-10T06:34:12.490Z"
   },
   {
    "duration": 593,
    "start_time": "2023-05-10T06:35:35.404Z"
   },
   {
    "duration": 593,
    "start_time": "2023-05-10T06:35:46.200Z"
   },
   {
    "duration": 595,
    "start_time": "2023-05-10T06:35:50.746Z"
   },
   {
    "duration": 846,
    "start_time": "2023-05-10T06:35:55.564Z"
   },
   {
    "duration": 570,
    "start_time": "2023-05-10T06:36:03.265Z"
   },
   {
    "duration": 568,
    "start_time": "2023-05-10T06:36:13.603Z"
   },
   {
    "duration": 681,
    "start_time": "2023-05-10T06:36:19.652Z"
   },
   {
    "duration": 576,
    "start_time": "2023-05-10T06:36:29.202Z"
   },
   {
    "duration": 838,
    "start_time": "2023-05-10T06:36:34.708Z"
   },
   {
    "duration": 841,
    "start_time": "2023-05-10T06:36:51.011Z"
   },
   {
    "duration": 804,
    "start_time": "2023-05-10T06:36:58.500Z"
   },
   {
    "duration": 493,
    "start_time": "2023-05-10T06:37:17.716Z"
   },
   {
    "duration": 488,
    "start_time": "2023-05-10T06:37:21.858Z"
   },
   {
    "duration": 462,
    "start_time": "2023-05-10T06:38:56.721Z"
   },
   {
    "duration": 667,
    "start_time": "2023-05-10T06:39:45.936Z"
   },
   {
    "duration": 6515,
    "start_time": "2023-05-10T07:30:07.201Z"
   },
   {
    "duration": 193,
    "start_time": "2023-05-10T07:32:11.424Z"
   },
   {
    "duration": 11,
    "start_time": "2023-05-10T07:32:54.254Z"
   },
   {
    "duration": 5,
    "start_time": "2023-05-10T07:36:25.670Z"
   },
   {
    "duration": 11,
    "start_time": "2023-05-10T07:59:17.968Z"
   },
   {
    "duration": 7,
    "start_time": "2023-05-10T07:59:53.868Z"
   },
   {
    "duration": 478,
    "start_time": "2023-05-10T08:01:37.760Z"
   },
   {
    "duration": 43,
    "start_time": "2023-05-10T08:05:37.325Z"
   },
   {
    "duration": 5,
    "start_time": "2023-05-10T08:08:12.980Z"
   },
   {
    "duration": 450,
    "start_time": "2023-05-10T08:11:42.597Z"
   },
   {
    "duration": 73645,
    "start_time": "2023-05-10T08:13:20.072Z"
   },
   {
    "duration": 12,
    "start_time": "2023-05-10T08:17:46.800Z"
   },
   {
    "duration": 7,
    "start_time": "2023-05-10T08:19:40.242Z"
   },
   {
    "duration": 9,
    "start_time": "2023-05-10T08:23:12.549Z"
   },
   {
    "duration": 6,
    "start_time": "2023-05-10T08:25:36.301Z"
   },
   {
    "duration": 6,
    "start_time": "2023-05-10T08:25:57.173Z"
   },
   {
    "duration": 32,
    "start_time": "2023-05-10T08:25:58.629Z"
   },
   {
    "duration": 438,
    "start_time": "2023-05-10T08:26:01.845Z"
   },
   {
    "duration": 5,
    "start_time": "2023-05-10T08:26:06.205Z"
   },
   {
    "duration": 7,
    "start_time": "2023-05-10T08:26:07.045Z"
   },
   {
    "duration": 10,
    "start_time": "2023-05-10T08:26:08.781Z"
   },
   {
    "duration": 6,
    "start_time": "2023-05-10T08:26:12.742Z"
   },
   {
    "duration": 266,
    "start_time": "2023-05-10T08:26:15.421Z"
   },
   {
    "duration": 4,
    "start_time": "2023-05-10T08:26:16.893Z"
   },
   {
    "duration": 31006,
    "start_time": "2023-05-10T08:26:17.622Z"
   },
   {
    "duration": 13,
    "start_time": "2023-05-10T08:27:00.365Z"
   },
   {
    "duration": 8,
    "start_time": "2023-05-10T08:27:03.037Z"
   },
   {
    "duration": 11,
    "start_time": "2023-05-10T08:27:05.220Z"
   },
   {
    "duration": 6,
    "start_time": "2023-05-10T08:27:10.948Z"
   },
   {
    "duration": 411,
    "start_time": "2023-05-10T08:28:35.092Z"
   },
   {
    "duration": 8,
    "start_time": "2023-05-10T08:28:39.971Z"
   },
   {
    "duration": 10,
    "start_time": "2023-05-10T08:29:38.365Z"
   },
   {
    "duration": 7,
    "start_time": "2023-05-10T08:30:13.018Z"
   },
   {
    "duration": 2203,
    "start_time": "2023-05-10T09:43:10.430Z"
   },
   {
    "duration": 8487,
    "start_time": "2023-05-10T09:43:21.778Z"
   },
   {
    "duration": 300,
    "start_time": "2023-05-10T09:43:37.694Z"
   },
   {
    "duration": 2055,
    "start_time": "2023-05-10T09:44:02.774Z"
   },
   {
    "duration": 7410,
    "start_time": "2023-05-10T10:01:22.270Z"
   },
   {
    "duration": 3,
    "start_time": "2023-05-10T10:01:31.470Z"
   },
   {
    "duration": 591,
    "start_time": "2023-05-10T10:01:32.069Z"
   },
   {
    "duration": 22,
    "start_time": "2023-05-10T10:01:33.849Z"
   },
   {
    "duration": 10,
    "start_time": "2023-05-10T10:01:35.048Z"
   },
   {
    "duration": 10,
    "start_time": "2023-05-10T10:01:36.320Z"
   },
   {
    "duration": 19,
    "start_time": "2023-05-10T10:01:37.639Z"
   },
   {
    "duration": 6,
    "start_time": "2023-05-10T10:01:39.168Z"
   },
   {
    "duration": 1017,
    "start_time": "2023-05-10T10:01:40.170Z"
   },
   {
    "duration": 5,
    "start_time": "2023-05-10T10:01:41.943Z"
   },
   {
    "duration": 66231,
    "start_time": "2023-05-10T10:01:42.969Z"
   },
   {
    "duration": 13,
    "start_time": "2023-05-10T10:03:03.270Z"
   },
   {
    "duration": 13,
    "start_time": "2023-05-10T10:03:05.607Z"
   },
   {
    "duration": 11,
    "start_time": "2023-05-10T10:03:07.570Z"
   },
   {
    "duration": 5,
    "start_time": "2023-05-10T10:03:09.974Z"
   },
   {
    "duration": 9,
    "start_time": "2023-05-10T10:03:13.391Z"
   },
   {
    "duration": 109,
    "start_time": "2023-05-10T10:06:02.173Z"
   },
   {
    "duration": 8,
    "start_time": "2023-05-10T10:07:10.269Z"
   },
   {
    "duration": 28,
    "start_time": "2023-05-10T10:07:12.571Z"
   },
   {
    "duration": 2015,
    "start_time": "2023-05-10T10:09:56.730Z"
   },
   {
    "duration": 2134,
    "start_time": "2023-05-10T10:10:32.330Z"
   },
   {
    "duration": 17,
    "start_time": "2023-05-10T10:11:08.089Z"
   },
   {
    "duration": 7309,
    "start_time": "2023-05-10T10:11:47.529Z"
   },
   {
    "duration": 6,
    "start_time": "2023-05-10T10:12:24.705Z"
   },
   {
    "duration": 36,
    "start_time": "2023-05-10T10:19:08.846Z"
   },
   {
    "duration": 7976,
    "start_time": "2023-05-10T10:19:20.477Z"
   },
   {
    "duration": 357,
    "start_time": "2023-05-10T10:19:35.749Z"
   },
   {
    "duration": 1929,
    "start_time": "2023-05-10T10:19:47.157Z"
   },
   {
    "duration": 21,
    "start_time": "2023-05-10T10:19:50.741Z"
   },
   {
    "duration": 7774,
    "start_time": "2023-05-10T10:19:52.701Z"
   },
   {
    "duration": 250,
    "start_time": "2023-05-10T10:20:07.012Z"
   },
   {
    "duration": 1979,
    "start_time": "2023-05-10T10:20:17.138Z"
   },
   {
    "duration": 16,
    "start_time": "2023-05-10T10:20:20.037Z"
   },
   {
    "duration": 6978,
    "start_time": "2023-05-10T10:20:21.613Z"
   },
   {
    "duration": 397,
    "start_time": "2023-05-10T10:20:34.774Z"
   },
   {
    "duration": 1995,
    "start_time": "2023-05-10T10:20:46.532Z"
   },
   {
    "duration": 11,
    "start_time": "2023-05-10T10:20:51.987Z"
   },
   {
    "duration": 7381,
    "start_time": "2023-05-10T10:20:53.595Z"
   },
   {
    "duration": 236,
    "start_time": "2023-05-10T10:21:06.036Z"
   },
   {
    "duration": 255,
    "start_time": "2023-05-10T10:21:24.092Z"
   },
   {
    "duration": 170,
    "start_time": "2023-05-10T10:21:41.229Z"
   },
   {
    "duration": 6579,
    "start_time": "2023-05-10T10:23:52.569Z"
   },
   {
    "duration": 348,
    "start_time": "2023-05-10T10:24:20.522Z"
   },
   {
    "duration": 5,
    "start_time": "2023-05-10T10:24:26.169Z"
   },
   {
    "duration": 10,
    "start_time": "2023-05-10T10:24:34.890Z"
   },
   {
    "duration": 7,
    "start_time": "2023-05-10T10:24:40.066Z"
   },
   {
    "duration": 19,
    "start_time": "2023-05-10T10:25:39.487Z"
   },
   {
    "duration": 18,
    "start_time": "2023-05-10T10:25:46.791Z"
   },
   {
    "duration": 19,
    "start_time": "2023-05-10T10:25:53.368Z"
   },
   {
    "duration": 24,
    "start_time": "2023-05-10T10:25:57.025Z"
   },
   {
    "duration": 7,
    "start_time": "2023-05-10T10:26:14.856Z"
   },
   {
    "duration": 6,
    "start_time": "2023-05-10T10:27:00.368Z"
   },
   {
    "duration": 6,
    "start_time": "2023-05-10T10:27:07.135Z"
   },
   {
    "duration": 7,
    "start_time": "2023-05-10T10:27:16.662Z"
   },
   {
    "duration": 853,
    "start_time": "2023-05-10T10:27:40.927Z"
   },
   {
    "duration": 870,
    "start_time": "2023-05-10T10:29:00.838Z"
   },
   {
    "duration": 12958,
    "start_time": "2023-05-10T10:30:19.973Z"
   },
   {
    "duration": 873,
    "start_time": "2023-05-10T10:30:46.596Z"
   },
   {
    "duration": 4,
    "start_time": "2023-05-10T10:33:44.330Z"
   },
   {
    "duration": 29038,
    "start_time": "2023-05-10T10:33:53.656Z"
   },
   {
    "duration": 142,
    "start_time": "2023-05-10T10:37:05.696Z"
   },
   {
    "duration": 707,
    "start_time": "2023-05-10T10:37:32.131Z"
   },
   {
    "duration": 744,
    "start_time": "2023-05-10T10:37:42.687Z"
   },
   {
    "duration": 1092,
    "start_time": "2023-05-10T10:37:54.718Z"
   },
   {
    "duration": 814,
    "start_time": "2023-05-10T10:38:13.479Z"
   },
   {
    "duration": 796,
    "start_time": "2023-05-10T10:38:28.446Z"
   },
   {
    "duration": 148,
    "start_time": "2023-05-10T10:38:49.702Z"
   },
   {
    "duration": 143,
    "start_time": "2023-05-10T10:38:56.774Z"
   },
   {
    "duration": 775,
    "start_time": "2023-05-10T10:40:08.117Z"
   },
   {
    "duration": 72173,
    "start_time": "2023-05-10T10:40:32.422Z"
   },
   {
    "duration": 114,
    "start_time": "2023-05-10T10:42:06.931Z"
   },
   {
    "duration": 100,
    "start_time": "2023-05-10T10:42:33.659Z"
   },
   {
    "duration": 116,
    "start_time": "2023-05-10T10:42:38.371Z"
   },
   {
    "duration": 7562,
    "start_time": "2023-05-10T10:43:10.227Z"
   },
   {
    "duration": 9569,
    "start_time": "2023-05-10T10:43:52.698Z"
   },
   {
    "duration": 32341,
    "start_time": "2023-05-10T10:44:16.946Z"
   },
   {
    "duration": 142,
    "start_time": "2023-05-10T10:45:33.129Z"
   },
   {
    "duration": 7560,
    "start_time": "2023-05-10T10:45:42.425Z"
   },
   {
    "duration": 9757,
    "start_time": "2023-05-10T10:45:54.521Z"
   },
   {
    "duration": 7711,
    "start_time": "2023-05-10T10:50:55.173Z"
   },
   {
    "duration": 1055524,
    "start_time": "2023-05-10T10:51:42.276Z"
   },
   {
    "duration": 4,
    "start_time": "2023-05-10T11:11:25.755Z"
   },
   {
    "duration": 1764,
    "start_time": "2023-05-10T11:13:24.312Z"
   },
   {
    "duration": 870,
    "start_time": "2023-05-10T11:13:36.616Z"
   },
   {
    "duration": 43,
    "start_time": "2023-05-10T11:14:02.848Z"
   },
   {
    "duration": 893,
    "start_time": "2023-05-10T11:14:10.720Z"
   },
   {
    "duration": 868,
    "start_time": "2023-05-10T11:14:35.207Z"
   },
   {
    "duration": 933,
    "start_time": "2023-05-10T11:16:10.734Z"
   },
   {
    "duration": 6207,
    "start_time": "2023-05-10T11:16:18.998Z"
   },
   {
    "duration": 1880,
    "start_time": "2023-05-10T11:16:30.270Z"
   },
   {
    "duration": 9,
    "start_time": "2023-05-10T11:16:35.454Z"
   },
   {
    "duration": 23,
    "start_time": "2023-05-10T11:17:52.365Z"
   },
   {
    "duration": 21,
    "start_time": "2023-05-10T11:18:02.181Z"
   },
   {
    "duration": 80,
    "start_time": "2023-05-10T11:18:13.940Z"
   },
   {
    "duration": 907,
    "start_time": "2023-05-10T11:18:18.796Z"
   },
   {
    "duration": 884,
    "start_time": "2023-05-10T11:19:03.164Z"
   },
   {
    "duration": 879,
    "start_time": "2023-05-10T11:19:11.891Z"
   },
   {
    "duration": 344965,
    "start_time": "2023-05-10T11:21:11.166Z"
   },
   {
    "duration": 2018,
    "start_time": "2023-05-10T11:27:21.550Z"
   },
   {
    "duration": 1899,
    "start_time": "2023-05-10T11:27:26.493Z"
   },
   {
    "duration": 1186,
    "start_time": "2023-05-10T11:27:40.135Z"
   },
   {
    "duration": 1085,
    "start_time": "2023-05-10T11:36:01.648Z"
   },
   {
    "duration": 1044,
    "start_time": "2023-05-10T11:36:17.542Z"
   },
   {
    "duration": 1148,
    "start_time": "2023-05-10T11:43:17.849Z"
   },
   {
    "duration": 6,
    "start_time": "2023-05-10T11:51:29.788Z"
   },
   {
    "duration": 207,
    "start_time": "2023-05-10T11:52:46.685Z"
   },
   {
    "duration": 12,
    "start_time": "2023-05-10T11:53:01.580Z"
   },
   {
    "duration": 139,
    "start_time": "2023-05-10T11:53:12.283Z"
   },
   {
    "duration": 762978,
    "start_time": "2023-05-10T11:53:19.602Z"
   },
   {
    "duration": 307,
    "start_time": "2023-05-10T12:11:54.515Z"
   },
   {
    "duration": 724647,
    "start_time": "2023-05-10T12:13:33.394Z"
   },
   {
    "duration": 6,
    "start_time": "2023-05-10T12:27:50.885Z"
   },
   {
    "duration": 704090,
    "start_time": "2023-05-10T12:29:11.422Z"
   },
   {
    "duration": 783102,
    "start_time": "2023-05-10T12:43:17.035Z"
   },
   {
    "duration": 719133,
    "start_time": "2023-05-10T12:56:50.209Z"
   },
   {
    "duration": 258,
    "start_time": "2023-05-10T13:09:38.271Z"
   },
   {
    "duration": 7,
    "start_time": "2023-05-10T13:10:24.687Z"
   },
   {
    "duration": 280,
    "start_time": "2023-05-10T13:10:26.789Z"
   },
   {
    "duration": 4,
    "start_time": "2023-05-10T13:10:32.679Z"
   },
   {
    "duration": 268,
    "start_time": "2023-05-10T13:10:35.177Z"
   },
   {
    "duration": 6,
    "start_time": "2023-05-10T13:10:38.773Z"
   },
   {
    "duration": 275,
    "start_time": "2023-05-10T13:10:41.370Z"
   },
   {
    "duration": 5,
    "start_time": "2023-05-10T13:10:45.866Z"
   },
   {
    "duration": 294,
    "start_time": "2023-05-10T13:10:58.413Z"
   },
   {
    "duration": 5,
    "start_time": "2023-05-10T13:16:35.834Z"
   },
   {
    "duration": 4,
    "start_time": "2023-05-10T13:16:41.905Z"
   },
   {
    "duration": 273,
    "start_time": "2023-05-10T13:17:17.360Z"
   },
   {
    "duration": 272,
    "start_time": "2023-05-10T13:20:30.441Z"
   },
   {
    "duration": 28,
    "start_time": "2023-05-10T13:24:55.726Z"
   },
   {
    "duration": 29,
    "start_time": "2023-05-10T13:25:11.105Z"
   },
   {
    "duration": 22,
    "start_time": "2023-05-10T13:25:26.312Z"
   },
   {
    "duration": 37,
    "start_time": "2023-05-10T13:26:03.582Z"
   },
   {
    "duration": 277,
    "start_time": "2023-05-10T13:26:27.549Z"
   },
   {
    "duration": 29,
    "start_time": "2023-05-10T13:27:35.868Z"
   },
   {
    "duration": 1232,
    "start_time": "2023-05-10T13:28:26.283Z"
   },
   {
    "duration": 1729,
    "start_time": "2023-05-10T13:32:34.473Z"
   },
   {
    "duration": 1332,
    "start_time": "2023-05-10T13:32:42.576Z"
   },
   {
    "duration": 1419,
    "start_time": "2023-05-10T13:32:52.600Z"
   },
   {
    "duration": 909446,
    "start_time": "2023-05-10T13:35:38.138Z"
   },
   {
    "duration": 19336,
    "start_time": "2023-05-11T05:02:15.200Z"
   },
   {
    "duration": 2,
    "start_time": "2023-05-11T05:02:37.830Z"
   },
   {
    "duration": 661,
    "start_time": "2023-05-11T05:02:39.231Z"
   },
   {
    "duration": 12,
    "start_time": "2023-05-11T05:02:42.549Z"
   },
   {
    "duration": 4,
    "start_time": "2023-05-11T05:02:45.647Z"
   },
   {
    "duration": 4,
    "start_time": "2023-05-11T05:02:53.582Z"
   },
   {
    "duration": 6,
    "start_time": "2023-05-11T05:02:55.589Z"
   },
   {
    "duration": 10,
    "start_time": "2023-05-11T05:02:57.613Z"
   },
   {
    "duration": 6,
    "start_time": "2023-05-11T05:02:59.205Z"
   },
   {
    "duration": 318,
    "start_time": "2023-05-11T05:03:00.430Z"
   },
   {
    "duration": 9,
    "start_time": "2023-05-11T05:03:01.589Z"
   },
   {
    "duration": 38019,
    "start_time": "2023-05-11T05:03:02.688Z"
   },
   {
    "duration": 25737,
    "start_time": "2023-05-11T05:03:46.991Z"
   },
   {
    "duration": 9,
    "start_time": "2023-05-11T05:42:25.433Z"
   },
   {
    "duration": 5,
    "start_time": "2023-05-11T05:42:28.376Z"
   },
   {
    "duration": 9,
    "start_time": "2023-05-11T05:42:30.496Z"
   },
   {
    "duration": 5,
    "start_time": "2023-05-11T05:42:33.025Z"
   },
   {
    "duration": 10,
    "start_time": "2023-05-11T05:43:13.121Z"
   },
   {
    "duration": 3022,
    "start_time": "2023-05-11T05:43:29.304Z"
   },
   {
    "duration": 2536,
    "start_time": "2023-05-11T05:43:39.630Z"
   },
   {
    "duration": 21,
    "start_time": "2023-05-11T05:43:44.547Z"
   },
   {
    "duration": 5,
    "start_time": "2023-05-11T05:43:52.520Z"
   },
   {
    "duration": 289,
    "start_time": "2023-05-11T05:44:47.945Z"
   },
   {
    "duration": 259,
    "start_time": "2023-05-11T05:45:02.686Z"
   },
   {
    "duration": 312,
    "start_time": "2023-05-11T05:45:07.760Z"
   },
   {
    "duration": 343,
    "start_time": "2023-05-11T05:45:31.247Z"
   },
   {
    "duration": 305,
    "start_time": "2023-05-11T05:45:41.318Z"
   },
   {
    "duration": 305,
    "start_time": "2023-05-11T05:45:45.646Z"
   },
   {
    "duration": 282,
    "start_time": "2023-05-11T05:45:53.790Z"
   },
   {
    "duration": 24,
    "start_time": "2023-05-11T05:46:10.813Z"
   },
   {
    "duration": 21,
    "start_time": "2023-05-11T05:46:38.133Z"
   },
   {
    "duration": 682816,
    "start_time": "2023-05-11T05:46:42.887Z"
   },
   {
    "duration": 9,
    "start_time": "2023-05-11T05:58:05.705Z"
   },
   {
    "duration": 1810,
    "start_time": "2023-05-11T06:31:58.691Z"
   },
   {
    "duration": 1586,
    "start_time": "2023-05-11T06:32:22.214Z"
   },
   {
    "duration": 853485,
    "start_time": "2023-05-11T06:32:35.921Z"
   },
   {
    "duration": 269,
    "start_time": "2023-05-11T06:47:03.695Z"
   },
   {
    "duration": 13,
    "start_time": "2023-05-11T06:47:43.218Z"
   },
   {
    "duration": 1854,
    "start_time": "2023-05-11T06:48:01.967Z"
   },
   {
    "duration": 38,
    "start_time": "2023-05-11T06:49:45.926Z"
   },
   {
    "duration": 26,
    "start_time": "2023-05-11T06:50:17.535Z"
   },
   {
    "duration": 1274,
    "start_time": "2023-05-11T06:50:28.854Z"
   },
   {
    "duration": 1298,
    "start_time": "2023-05-11T06:51:37.926Z"
   },
   {
    "duration": 350,
    "start_time": "2023-05-11T06:51:46.601Z"
   },
   {
    "duration": 11557,
    "start_time": "2023-05-11T06:51:51.914Z"
   },
   {
    "duration": 26,
    "start_time": "2023-05-11T06:52:35.269Z"
   },
   {
    "duration": 21,
    "start_time": "2023-05-11T06:52:52.613Z"
   },
   {
    "duration": 1992,
    "start_time": "2023-05-11T06:55:52.275Z"
   },
   {
    "duration": 2370,
    "start_time": "2023-05-11T06:59:23.353Z"
   },
   {
    "duration": 11147,
    "start_time": "2023-05-11T07:00:19.615Z"
   },
   {
    "duration": 27,
    "start_time": "2023-05-11T07:09:32.286Z"
   },
   {
    "duration": 59,
    "start_time": "2023-05-11T07:10:28.459Z"
   },
   {
    "duration": 4,
    "start_time": "2023-05-11T07:10:36.274Z"
   },
   {
    "duration": 1859,
    "start_time": "2023-05-11T07:10:40.554Z"
   },
   {
    "duration": 1038,
    "start_time": "2023-05-11T07:12:44.679Z"
   },
   {
    "duration": 1349,
    "start_time": "2023-05-11T07:13:23.297Z"
   },
   {
    "duration": 1070,
    "start_time": "2023-05-11T07:14:02.546Z"
   },
   {
    "duration": 276,
    "start_time": "2023-05-11T07:18:29.514Z"
   },
   {
    "duration": 789,
    "start_time": "2023-05-11T07:20:11.129Z"
   },
   {
    "duration": 550,
    "start_time": "2023-05-11T07:20:26.633Z"
   },
   {
    "duration": 842,
    "start_time": "2023-05-11T07:29:26.097Z"
   },
   {
    "duration": 856,
    "start_time": "2023-05-11T07:29:47.585Z"
   },
   {
    "duration": 2468,
    "start_time": "2023-05-11T07:30:01.818Z"
   },
   {
    "duration": 2696,
    "start_time": "2023-05-11T07:30:09.577Z"
   },
   {
    "duration": 3508,
    "start_time": "2023-05-11T07:37:52.058Z"
   },
   {
    "duration": 3324,
    "start_time": "2023-05-11T07:38:27.780Z"
   },
   {
    "duration": 520,
    "start_time": "2023-05-11T07:39:38.014Z"
   },
   {
    "duration": 649,
    "start_time": "2023-05-11T07:39:42.816Z"
   },
   {
    "duration": 858710,
    "start_time": "2023-05-11T07:39:53.122Z"
   },
   {
    "duration": 10,
    "start_time": "2023-05-11T07:57:10.454Z"
   },
   {
    "duration": 5,
    "start_time": "2023-05-11T07:57:13.546Z"
   },
   {
    "duration": 8,
    "start_time": "2023-05-11T07:57:16.084Z"
   },
   {
    "duration": 12,
    "start_time": "2023-05-11T07:57:19.189Z"
   },
   {
    "duration": 2393,
    "start_time": "2023-05-11T07:57:21.741Z"
   },
   {
    "duration": 17,
    "start_time": "2023-05-11T07:57:31.473Z"
   },
   {
    "duration": 11,
    "start_time": "2023-05-11T07:58:19.629Z"
   },
   {
    "duration": 35,
    "start_time": "2023-05-11T07:58:27.254Z"
   },
   {
    "duration": 36,
    "start_time": "2023-05-11T07:58:41.268Z"
   },
   {
    "duration": 2972,
    "start_time": "2023-05-11T07:58:50.260Z"
   },
   {
    "duration": 15,
    "start_time": "2023-05-11T07:58:56.380Z"
   },
   {
    "duration": 5,
    "start_time": "2023-05-11T07:59:00.788Z"
   },
   {
    "duration": 23,
    "start_time": "2023-05-11T07:59:41.812Z"
   },
   {
    "duration": 6,
    "start_time": "2023-05-11T08:00:14.312Z"
   },
   {
    "duration": 5,
    "start_time": "2023-05-11T08:00:25.427Z"
   },
   {
    "duration": 781,
    "start_time": "2023-05-11T08:00:37.211Z"
   },
   {
    "duration": 525,
    "start_time": "2023-05-11T08:00:48.515Z"
   },
   {
    "duration": 853591,
    "start_time": "2023-05-11T08:00:55.315Z"
   },
   {
    "duration": 349,
    "start_time": "2023-05-11T08:33:05.172Z"
   },
   {
    "duration": 1523,
    "start_time": "2023-05-11T08:33:18.139Z"
   },
   {
    "duration": 191,
    "start_time": "2023-05-11T08:35:33.582Z"
   },
   {
    "duration": 179,
    "start_time": "2023-05-11T08:36:00.681Z"
   },
   {
    "duration": 473362,
    "start_time": "2023-05-11T08:36:30.823Z"
   },
   {
    "duration": 664816,
    "start_time": "2023-05-11T08:45:02.998Z"
   },
   {
    "duration": 2673,
    "start_time": "2023-05-11T09:00:30.310Z"
   },
   {
    "duration": 829081,
    "start_time": "2023-05-11T09:00:46.532Z"
   },
   {
    "duration": 16,
    "start_time": "2023-05-11T09:23:24.092Z"
   },
   {
    "duration": 5,
    "start_time": "2023-05-11T09:23:36.197Z"
   },
   {
    "duration": 7,
    "start_time": "2023-05-11T09:23:45.292Z"
   },
   {
    "duration": 909204,
    "start_time": "2023-05-11T09:24:37.644Z"
   },
   {
    "duration": 315,
    "start_time": "2023-05-11T09:47:38.750Z"
   },
   {
    "duration": 860,
    "start_time": "2023-05-11T09:59:16.313Z"
   },
   {
    "duration": 321,
    "start_time": "2023-05-11T10:00:37.473Z"
   },
   {
    "duration": 148,
    "start_time": "2023-05-11T10:01:06.352Z"
   },
   {
    "duration": 14,
    "start_time": "2023-05-11T10:02:35.352Z"
   },
   {
    "duration": 6,
    "start_time": "2023-05-11T10:02:53.023Z"
   },
   {
    "duration": 663,
    "start_time": "2023-05-11T10:03:09.609Z"
   },
   {
    "duration": 340,
    "start_time": "2023-05-11T10:03:19.721Z"
   },
   {
    "duration": 1680,
    "start_time": "2023-05-11T10:03:31.791Z"
   },
   {
    "duration": 885647,
    "start_time": "2023-05-11T10:03:45.576Z"
   },
   {
    "duration": 650,
    "start_time": "2023-05-11T10:26:30.139Z"
   },
   {
    "duration": 312,
    "start_time": "2023-05-11T10:30:26.835Z"
   },
   {
    "duration": 527,
    "start_time": "2023-05-11T10:30:32.527Z"
   },
   {
    "duration": 30590,
    "start_time": "2023-05-11T10:30:57.081Z"
   },
   {
    "duration": 2148,
    "start_time": "2023-05-11T10:36:51.458Z"
   },
   {
    "duration": 188682,
    "start_time": "2023-05-11T10:37:04.242Z"
   },
   {
    "duration": 1387,
    "start_time": "2023-05-11T10:41:09.632Z"
   },
   {
    "duration": 649,
    "start_time": "2023-05-11T10:41:27.575Z"
   },
   {
    "duration": 946390,
    "start_time": "2023-05-11T10:41:51.549Z"
   },
   {
    "duration": 10,
    "start_time": "2023-05-11T10:57:45.838Z"
   },
   {
    "duration": 7,
    "start_time": "2023-05-11T10:57:46.575Z"
   },
   {
    "duration": 12,
    "start_time": "2023-05-11T10:57:47.942Z"
   },
   {
    "duration": 15,
    "start_time": "2023-05-11T10:57:49.280Z"
   },
   {
    "duration": 15,
    "start_time": "2023-05-11T10:57:51.494Z"
   },
   {
    "duration": 2834,
    "start_time": "2023-05-11T10:57:53.190Z"
   },
   {
    "duration": 19,
    "start_time": "2023-05-11T10:57:57.313Z"
   },
   {
    "duration": 5,
    "start_time": "2023-05-11T10:58:08.134Z"
   },
   {
    "duration": 1029710,
    "start_time": "2023-05-11T10:58:09.937Z"
   },
   {
    "duration": 1901,
    "start_time": "2023-05-11T11:26:00.845Z"
   },
   {
    "duration": 25823,
    "start_time": "2023-05-12T06:12:14.322Z"
   },
   {
    "duration": 19,
    "start_time": "2023-05-12T06:12:40.679Z"
   },
   {
    "duration": 967,
    "start_time": "2023-05-12T06:12:41.476Z"
   },
   {
    "duration": 17,
    "start_time": "2023-05-12T06:12:44.212Z"
   },
   {
    "duration": 6,
    "start_time": "2023-05-12T06:12:45.542Z"
   },
   {
    "duration": 14,
    "start_time": "2023-05-12T06:12:46.999Z"
   },
   {
    "duration": 19,
    "start_time": "2023-05-12T06:12:48.601Z"
   },
   {
    "duration": 17,
    "start_time": "2023-05-12T06:12:50.149Z"
   },
   {
    "duration": 366,
    "start_time": "2023-05-12T06:12:51.246Z"
   },
   {
    "duration": 25,
    "start_time": "2023-05-12T06:12:52.377Z"
   },
   {
    "duration": 741,
    "start_time": "2023-05-12T06:12:53.541Z"
   },
   {
    "duration": 884209,
    "start_time": "2023-05-12T06:12:59.225Z"
   },
   {
    "duration": 23,
    "start_time": "2023-05-12T06:44:51.482Z"
   },
   {
    "duration": 8,
    "start_time": "2023-05-12T06:44:54.028Z"
   },
   {
    "duration": 22,
    "start_time": "2023-05-12T06:44:56.685Z"
   },
   {
    "duration": 7,
    "start_time": "2023-05-12T06:44:58.419Z"
   },
   {
    "duration": 12,
    "start_time": "2023-05-12T06:45:03.932Z"
   },
   {
    "duration": 2478,
    "start_time": "2023-05-12T06:45:05.637Z"
   },
   {
    "duration": 13,
    "start_time": "2023-05-12T06:45:08.812Z"
   },
   {
    "duration": 11,
    "start_time": "2023-05-12T06:45:13.187Z"
   },
   {
    "duration": 948755,
    "start_time": "2023-05-12T06:45:17.179Z"
   },
   {
    "duration": 1845,
    "start_time": "2023-05-12T07:15:00.542Z"
   },
   {
    "duration": 181,
    "start_time": "2023-05-12T07:16:13.739Z"
   },
   {
    "duration": 2269,
    "start_time": "2023-05-12T07:16:42.124Z"
   },
   {
    "duration": 1968,
    "start_time": "2023-05-12T07:17:03.228Z"
   },
   {
    "duration": 1712,
    "start_time": "2023-05-12T07:17:17.582Z"
   },
   {
    "duration": 1761,
    "start_time": "2023-05-12T07:17:52.690Z"
   },
   {
    "duration": 1202300,
    "start_time": "2023-05-12T07:20:00.716Z"
   },
   {
    "duration": 1719,
    "start_time": "2023-05-12T07:42:31.177Z"
   },
   {
    "duration": 1316777,
    "start_time": "2023-05-12T07:49:18.333Z"
   },
   {
    "duration": 73,
    "start_time": "2023-05-12T08:32:58.330Z"
   },
   {
    "duration": 66,
    "start_time": "2023-05-12T08:41:03.946Z"
   },
   {
    "duration": 29,
    "start_time": "2023-05-12T08:43:06.122Z"
   },
   {
    "duration": 29,
    "start_time": "2023-05-12T08:43:10.181Z"
   },
   {
    "duration": 38,
    "start_time": "2023-05-12T08:43:13.201Z"
   },
   {
    "duration": 47,
    "start_time": "2023-05-12T08:43:14.467Z"
   },
   {
    "duration": 36,
    "start_time": "2023-05-12T08:44:24.275Z"
   },
   {
    "duration": 29,
    "start_time": "2023-05-12T08:44:26.241Z"
   },
   {
    "duration": 31,
    "start_time": "2023-05-12T08:44:36.197Z"
   },
   {
    "duration": 25,
    "start_time": "2023-05-12T08:44:48.512Z"
   },
   {
    "duration": 27,
    "start_time": "2023-05-12T08:45:17.081Z"
   },
   {
    "duration": 26,
    "start_time": "2023-05-12T08:45:22.873Z"
   },
   {
    "duration": 52,
    "start_time": "2023-05-12T08:45:26.466Z"
   },
   {
    "duration": 18,
    "start_time": "2023-05-12T08:45:57.331Z"
   },
   {
    "duration": 45,
    "start_time": "2023-05-12T08:46:37.572Z"
   },
   {
    "duration": 45,
    "start_time": "2023-05-12T08:46:48.641Z"
   },
   {
    "duration": 41,
    "start_time": "2023-05-12T08:47:24.180Z"
   },
   {
    "duration": 18,
    "start_time": "2023-05-12T08:47:37.304Z"
   },
   {
    "duration": 8767,
    "start_time": "2023-05-12T08:50:59.191Z"
   },
   {
    "duration": 465,
    "start_time": "2023-05-12T08:53:41.820Z"
   },
   {
    "duration": 1299,
    "start_time": "2023-05-12T09:22:21.103Z"
   },
   {
    "duration": 662,
    "start_time": "2023-05-12T10:27:04.174Z"
   }
  ],
  "kernelspec": {
   "display_name": "Python 3 (ipykernel)",
   "language": "python",
   "name": "python3"
  },
  "language_info": {
   "codemirror_mode": {
    "name": "ipython",
    "version": 3
   },
   "file_extension": ".py",
   "mimetype": "text/x-python",
   "name": "python",
   "nbconvert_exporter": "python",
   "pygments_lexer": "ipython3",
   "version": "3.10.11"
  },
  "toc": {
   "base_numbering": 1,
   "nav_menu": {},
   "number_sections": true,
   "sideBar": false,
   "skip_h1_title": true,
   "title_cell": "Содержание:",
   "title_sidebar": "Содержание:",
   "toc_cell": true,
   "toc_position": {
    "height": "789px",
    "left": "28px",
    "top": "111.125px",
    "width": "384px"
   },
   "toc_section_display": true,
   "toc_window_display": false
  }
 },
 "nbformat": 4,
 "nbformat_minor": 5
}
